{
 "cells": [
  {
   "cell_type": "code",
   "execution_count": 53,
   "metadata": {},
   "outputs": [],
   "source": [
    "import pandas as pd\n",
    "import numpy as np\n",
    "import string\n",
    "import nltk\n",
    "from sklearn.feature_extraction.text import CountVectorizer, TfidfVectorizer\n",
    "from nltk.tokenize import word_tokenize"
   ]
  },
  {
   "cell_type": "code",
   "execution_count": 39,
   "metadata": {},
   "outputs": [],
   "source": [
    "data=pd.read_csv(\"state_ofthe_union_texts.csv\",delimiter=',', nrows = 1000)"
   ]
  },
  {
   "cell_type": "code",
   "execution_count": 40,
   "metadata": {},
   "outputs": [
    {
     "data": {
      "text/html": [
       "<div>\n",
       "<style scoped>\n",
       "    .dataframe tbody tr th:only-of-type {\n",
       "        vertical-align: middle;\n",
       "    }\n",
       "\n",
       "    .dataframe tbody tr th {\n",
       "        vertical-align: top;\n",
       "    }\n",
       "\n",
       "    .dataframe thead th {\n",
       "        text-align: right;\n",
       "    }\n",
       "</style>\n",
       "<table border=\"1\" class=\"dataframe\">\n",
       "  <thead>\n",
       "    <tr style=\"text-align: right;\">\n",
       "      <th></th>\n",
       "      <th>President</th>\n",
       "      <th>Year</th>\n",
       "      <th>Title</th>\n",
       "      <th>Text</th>\n",
       "    </tr>\n",
       "  </thead>\n",
       "  <tbody>\n",
       "    <tr>\n",
       "      <th>0</th>\n",
       "      <td>George Washington</td>\n",
       "      <td>1790</td>\n",
       "      <td>First State of the Union Address</td>\n",
       "      <td>['I embrace with great satisfaction the opport...</td>\n",
       "    </tr>\n",
       "    <tr>\n",
       "      <th>1</th>\n",
       "      <td>George Washington</td>\n",
       "      <td>1790</td>\n",
       "      <td>Second State of the Union Address</td>\n",
       "      <td>['Fellow-Citizens of the Senate and the House ...</td>\n",
       "    </tr>\n",
       "    <tr>\n",
       "      <th>2</th>\n",
       "      <td>George Washington</td>\n",
       "      <td>1791</td>\n",
       "      <td>Third State of the Union Address</td>\n",
       "      <td>['Fellow-Citizens of the Senate and the House ...</td>\n",
       "    </tr>\n",
       "    <tr>\n",
       "      <th>3</th>\n",
       "      <td>George Washington</td>\n",
       "      <td>1792</td>\n",
       "      <td>Fourth State of the Union Address</td>\n",
       "      <td>['Fellow-Citizens of the Senate and of the Hou...</td>\n",
       "    </tr>\n",
       "    <tr>\n",
       "      <th>4</th>\n",
       "      <td>George Washington</td>\n",
       "      <td>1793</td>\n",
       "      <td>Fifth State of the Union Address</td>\n",
       "      <td>['Fellow Citizens of the Senate and of the Hou...</td>\n",
       "    </tr>\n",
       "  </tbody>\n",
       "</table>\n",
       "</div>"
      ],
      "text/plain": [
       "           President  Year                              Title  \\\n",
       "0  George Washington  1790   First State of the Union Address   \n",
       "1  George Washington  1790  Second State of the Union Address   \n",
       "2  George Washington  1791   Third State of the Union Address   \n",
       "3  George Washington  1792  Fourth State of the Union Address   \n",
       "4  George Washington  1793   Fifth State of the Union Address   \n",
       "\n",
       "                                                Text  \n",
       "0  ['I embrace with great satisfaction the opport...  \n",
       "1  ['Fellow-Citizens of the Senate and the House ...  \n",
       "2  ['Fellow-Citizens of the Senate and the House ...  \n",
       "3  ['Fellow-Citizens of the Senate and of the Hou...  \n",
       "4  ['Fellow Citizens of the Senate and of the Hou...  "
      ]
     },
     "execution_count": 40,
     "metadata": {},
     "output_type": "execute_result"
    }
   ],
   "source": [
    "data.head()"
   ]
  },
  {
   "cell_type": "code",
   "execution_count": 41,
   "metadata": {},
   "outputs": [
    {
     "name": "stdout",
     "output_type": "stream",
     "text": [
      "<class 'pandas.core.frame.DataFrame'>\n",
      "RangeIndex: 219 entries, 0 to 218\n",
      "Data columns (total 4 columns):\n",
      "President    219 non-null object\n",
      "Year         219 non-null int64\n",
      "Title        219 non-null object\n",
      "Text         219 non-null object\n",
      "dtypes: int64(1), object(3)\n",
      "memory usage: 6.9+ KB\n"
     ]
    }
   ],
   "source": [
    "data.info()"
   ]
  },
  {
   "cell_type": "code",
   "execution_count": 42,
   "metadata": {},
   "outputs": [
    {
     "data": {
      "text/html": [
       "<div>\n",
       "<style scoped>\n",
       "    .dataframe tbody tr th:only-of-type {\n",
       "        vertical-align: middle;\n",
       "    }\n",
       "\n",
       "    .dataframe tbody tr th {\n",
       "        vertical-align: top;\n",
       "    }\n",
       "\n",
       "    .dataframe thead th {\n",
       "        text-align: right;\n",
       "    }\n",
       "</style>\n",
       "<table border=\"1\" class=\"dataframe\">\n",
       "  <thead>\n",
       "    <tr style=\"text-align: right;\">\n",
       "      <th></th>\n",
       "      <th>Year</th>\n",
       "    </tr>\n",
       "  </thead>\n",
       "  <tbody>\n",
       "    <tr>\n",
       "      <th>count</th>\n",
       "      <td>219.000000</td>\n",
       "    </tr>\n",
       "    <tr>\n",
       "      <th>mean</th>\n",
       "      <td>1904.621005</td>\n",
       "    </tr>\n",
       "    <tr>\n",
       "      <th>std</th>\n",
       "      <td>65.989349</td>\n",
       "    </tr>\n",
       "    <tr>\n",
       "      <th>min</th>\n",
       "      <td>1790.000000</td>\n",
       "    </tr>\n",
       "    <tr>\n",
       "      <th>25%</th>\n",
       "      <td>1850.500000</td>\n",
       "    </tr>\n",
       "    <tr>\n",
       "      <th>50%</th>\n",
       "      <td>1905.000000</td>\n",
       "    </tr>\n",
       "    <tr>\n",
       "      <th>75%</th>\n",
       "      <td>1959.500000</td>\n",
       "    </tr>\n",
       "    <tr>\n",
       "      <th>max</th>\n",
       "      <td>2019.000000</td>\n",
       "    </tr>\n",
       "  </tbody>\n",
       "</table>\n",
       "</div>"
      ],
      "text/plain": [
       "              Year\n",
       "count   219.000000\n",
       "mean   1904.621005\n",
       "std      65.989349\n",
       "min    1790.000000\n",
       "25%    1850.500000\n",
       "50%    1905.000000\n",
       "75%    1959.500000\n",
       "max    2019.000000"
      ]
     },
     "execution_count": 42,
     "metadata": {},
     "output_type": "execute_result"
    }
   ],
   "source": [
    "data.describe()"
   ]
  },
  {
   "cell_type": "code",
   "execution_count": 45,
   "metadata": {},
   "outputs": [],
   "source": [
    "data[\"doc_length\"] = data[\"Text\"].apply(len)\n"
   ]
  },
  {
   "cell_type": "code",
   "execution_count": 48,
   "metadata": {},
   "outputs": [
    {
     "name": "stderr",
     "output_type": "stream",
     "text": [
      "C:\\Users\\lenovo\\Anaconda3\\lib\\site-packages\\ipykernel_launcher.py:2: SettingWithCopyWarning: \n",
      "A value is trying to be set on a copy of a slice from a DataFrame\n",
      "\n",
      "See the caveats in the documentation: http://pandas.pydata.org/pandas-docs/stable/indexing.html#indexing-view-versus-copy\n",
      "  \n"
     ]
    }
   ],
   "source": [
    "for i in range(len(data.Text)):\n",
    "    data[\"word_count\"][i] = len(nltk.tokenize.wordpunct_tokenize(data.Text[i]))"
   ]
  },
  {
   "cell_type": "code",
   "execution_count": 49,
   "metadata": {},
   "outputs": [
    {
     "data": {
      "text/html": [
       "<div>\n",
       "<style scoped>\n",
       "    .dataframe tbody tr th:only-of-type {\n",
       "        vertical-align: middle;\n",
       "    }\n",
       "\n",
       "    .dataframe tbody tr th {\n",
       "        vertical-align: top;\n",
       "    }\n",
       "\n",
       "    .dataframe thead th {\n",
       "        text-align: right;\n",
       "    }\n",
       "</style>\n",
       "<table border=\"1\" class=\"dataframe\">\n",
       "  <thead>\n",
       "    <tr style=\"text-align: right;\">\n",
       "      <th></th>\n",
       "      <th>President</th>\n",
       "      <th>Year</th>\n",
       "      <th>Title</th>\n",
       "      <th>Text</th>\n",
       "      <th>doc_length</th>\n",
       "      <th>word_count</th>\n",
       "    </tr>\n",
       "  </thead>\n",
       "  <tbody>\n",
       "    <tr>\n",
       "      <th>0</th>\n",
       "      <td>George Washington</td>\n",
       "      <td>1790</td>\n",
       "      <td>First State of the Union Address</td>\n",
       "      <td>['I embrace with great satisfaction the opport...</td>\n",
       "      <td>6656</td>\n",
       "      <td>1202</td>\n",
       "    </tr>\n",
       "    <tr>\n",
       "      <th>1</th>\n",
       "      <td>George Washington</td>\n",
       "      <td>1790</td>\n",
       "      <td>Second State of the Union Address</td>\n",
       "      <td>['Fellow-Citizens of the Senate and the House ...</td>\n",
       "      <td>8436</td>\n",
       "      <td>1529</td>\n",
       "    </tr>\n",
       "    <tr>\n",
       "      <th>2</th>\n",
       "      <td>George Washington</td>\n",
       "      <td>1791</td>\n",
       "      <td>Third State of the Union Address</td>\n",
       "      <td>['Fellow-Citizens of the Senate and the House ...</td>\n",
       "      <td>13960</td>\n",
       "      <td>2484</td>\n",
       "    </tr>\n",
       "    <tr>\n",
       "      <th>3</th>\n",
       "      <td>George Washington</td>\n",
       "      <td>1792</td>\n",
       "      <td>Fourth State of the Union Address</td>\n",
       "      <td>['Fellow-Citizens of the Senate and of the Hou...</td>\n",
       "      <td>12759</td>\n",
       "      <td>2326</td>\n",
       "    </tr>\n",
       "    <tr>\n",
       "      <th>4</th>\n",
       "      <td>George Washington</td>\n",
       "      <td>1793</td>\n",
       "      <td>Fifth State of the Union Address</td>\n",
       "      <td>['Fellow Citizens of the Senate and of the Hou...</td>\n",
       "      <td>11675</td>\n",
       "      <td>2156</td>\n",
       "    </tr>\n",
       "  </tbody>\n",
       "</table>\n",
       "</div>"
      ],
      "text/plain": [
       "           President  Year                              Title  \\\n",
       "0  George Washington  1790   First State of the Union Address   \n",
       "1  George Washington  1790  Second State of the Union Address   \n",
       "2  George Washington  1791   Third State of the Union Address   \n",
       "3  George Washington  1792  Fourth State of the Union Address   \n",
       "4  George Washington  1793   Fifth State of the Union Address   \n",
       "\n",
       "                                                Text  doc_length  word_count  \n",
       "0  ['I embrace with great satisfaction the opport...        6656        1202  \n",
       "1  ['Fellow-Citizens of the Senate and the House ...        8436        1529  \n",
       "2  ['Fellow-Citizens of the Senate and the House ...       13960        2484  \n",
       "3  ['Fellow-Citizens of the Senate and of the Hou...       12759        2326  \n",
       "4  ['Fellow Citizens of the Senate and of the Hou...       11675        2156  "
      ]
     },
     "execution_count": 49,
     "metadata": {},
     "output_type": "execute_result"
    }
   ],
   "source": [
    "data.head()"
   ]
  },
  {
   "cell_type": "code",
   "execution_count": 50,
   "metadata": {},
   "outputs": [],
   "source": [
    "#Q4 b) \n",
    "def lower_case(txt):\n",
    "    return txt.lower()\n",
    "    \n",
    "\n",
    "def remove_punch(txt):\n",
    "    trans = str.maketrans('','', string.punctuation)\n",
    "    return txt.translate(trans)\n",
    "\n",
    "def tokenize(txt): \n",
    "    tok = word_tokenize(txt)\n",
    "    return tok\n"
   ]
  },
  {
   "cell_type": "code",
   "execution_count": 54,
   "metadata": {},
   "outputs": [
    {
     "name": "stderr",
     "output_type": "stream",
     "text": [
      "C:\\Users\\lenovo\\Anaconda3\\lib\\site-packages\\ipykernel_launcher.py:2: SettingWithCopyWarning: \n",
      "A value is trying to be set on a copy of a slice from a DataFrame\n",
      "\n",
      "See the caveats in the documentation: http://pandas.pydata.org/pandas-docs/stable/indexing.html#indexing-view-versus-copy\n",
      "  \n",
      "C:\\Users\\lenovo\\Anaconda3\\lib\\site-packages\\ipykernel_launcher.py:3: SettingWithCopyWarning: \n",
      "A value is trying to be set on a copy of a slice from a DataFrame\n",
      "\n",
      "See the caveats in the documentation: http://pandas.pydata.org/pandas-docs/stable/indexing.html#indexing-view-versus-copy\n",
      "  This is separate from the ipykernel package so we can avoid doing imports until\n",
      "C:\\Users\\lenovo\\Anaconda3\\lib\\site-packages\\ipykernel_launcher.py:4: SettingWithCopyWarning: \n",
      "A value is trying to be set on a copy of a slice from a DataFrame\n",
      "\n",
      "See the caveats in the documentation: http://pandas.pydata.org/pandas-docs/stable/indexing.html#indexing-view-versus-copy\n",
      "  after removing the cwd from sys.path.\n"
     ]
    }
   ],
   "source": [
    "for i in range(len(data.Text)):\n",
    "    data.Text[i] = lower_case(data.Text[i])\n",
    "    data.Text[i] = remove_punch(data.Text[i])\n",
    "    data.Text[i] = tokenize(data.Text[i])"
   ]
  },
  {
   "cell_type": "code",
   "execution_count": 55,
   "metadata": {},
   "outputs": [
    {
     "data": {
      "text/html": [
       "<div>\n",
       "<style scoped>\n",
       "    .dataframe tbody tr th:only-of-type {\n",
       "        vertical-align: middle;\n",
       "    }\n",
       "\n",
       "    .dataframe tbody tr th {\n",
       "        vertical-align: top;\n",
       "    }\n",
       "\n",
       "    .dataframe thead th {\n",
       "        text-align: right;\n",
       "    }\n",
       "</style>\n",
       "<table border=\"1\" class=\"dataframe\">\n",
       "  <thead>\n",
       "    <tr style=\"text-align: right;\">\n",
       "      <th></th>\n",
       "      <th>President</th>\n",
       "      <th>Year</th>\n",
       "      <th>Title</th>\n",
       "      <th>Text</th>\n",
       "      <th>doc_length</th>\n",
       "      <th>word_count</th>\n",
       "    </tr>\n",
       "  </thead>\n",
       "  <tbody>\n",
       "    <tr>\n",
       "      <th>0</th>\n",
       "      <td>George Washington</td>\n",
       "      <td>1790</td>\n",
       "      <td>First State of the Union Address</td>\n",
       "      <td>[i, embrace, with, great, satisfaction, the, o...</td>\n",
       "      <td>6656</td>\n",
       "      <td>1202</td>\n",
       "    </tr>\n",
       "    <tr>\n",
       "      <th>1</th>\n",
       "      <td>George Washington</td>\n",
       "      <td>1790</td>\n",
       "      <td>Second State of the Union Address</td>\n",
       "      <td>[fellowcitizens, of, the, senate, and, the, ho...</td>\n",
       "      <td>8436</td>\n",
       "      <td>1529</td>\n",
       "    </tr>\n",
       "    <tr>\n",
       "      <th>2</th>\n",
       "      <td>George Washington</td>\n",
       "      <td>1791</td>\n",
       "      <td>Third State of the Union Address</td>\n",
       "      <td>[fellowcitizens, of, the, senate, and, the, ho...</td>\n",
       "      <td>13960</td>\n",
       "      <td>2484</td>\n",
       "    </tr>\n",
       "    <tr>\n",
       "      <th>3</th>\n",
       "      <td>George Washington</td>\n",
       "      <td>1792</td>\n",
       "      <td>Fourth State of the Union Address</td>\n",
       "      <td>[fellowcitizens, of, the, senate, and, of, the...</td>\n",
       "      <td>12759</td>\n",
       "      <td>2326</td>\n",
       "    </tr>\n",
       "    <tr>\n",
       "      <th>4</th>\n",
       "      <td>George Washington</td>\n",
       "      <td>1793</td>\n",
       "      <td>Fifth State of the Union Address</td>\n",
       "      <td>[fellow, citizens, of, the, senate, and, of, t...</td>\n",
       "      <td>11675</td>\n",
       "      <td>2156</td>\n",
       "    </tr>\n",
       "  </tbody>\n",
       "</table>\n",
       "</div>"
      ],
      "text/plain": [
       "           President  Year                              Title  \\\n",
       "0  George Washington  1790   First State of the Union Address   \n",
       "1  George Washington  1790  Second State of the Union Address   \n",
       "2  George Washington  1791   Third State of the Union Address   \n",
       "3  George Washington  1792  Fourth State of the Union Address   \n",
       "4  George Washington  1793   Fifth State of the Union Address   \n",
       "\n",
       "                                                Text  doc_length  word_count  \n",
       "0  [i, embrace, with, great, satisfaction, the, o...        6656        1202  \n",
       "1  [fellowcitizens, of, the, senate, and, the, ho...        8436        1529  \n",
       "2  [fellowcitizens, of, the, senate, and, the, ho...       13960        2484  \n",
       "3  [fellowcitizens, of, the, senate, and, of, the...       12759        2326  \n",
       "4  [fellow, citizens, of, the, senate, and, of, t...       11675        2156  "
      ]
     },
     "execution_count": 55,
     "metadata": {},
     "output_type": "execute_result"
    }
   ],
   "source": [
    "data.head()"
   ]
  },
  {
   "cell_type": "code",
   "execution_count": 56,
   "metadata": {},
   "outputs": [
    {
     "data": {
      "text/plain": [
       "28     [fellowcitizens, of, the, senate, and, house, ...\n",
       "68     [fellowcitizens, of, the, senate, and, house, ...\n",
       "155    [mr, president, mr, speaker, members, of, the,...\n",
       "213    [mr, speaker, mr, vice, president, members, of...\n",
       "23     [fellowcitizens, of, the, senate, and, house, ...\n",
       "216    [mr, speaker, mr, vice, president, members, of...\n",
       "48     [to, the, senate, and, house, of, representati...\n",
       "108    [to, the, senate, and, house, of, representati...\n",
       "37     [fellow, citizens, of, the, senate, and, of, t...\n",
       "177    [twentyfive, years, ago, i, sat, here, as, a, ...\n",
       "Name: Text, dtype: object"
      ]
     },
     "execution_count": 56,
     "metadata": {},
     "output_type": "execute_result"
    }
   ],
   "source": [
    "data.Text.sample(10)"
   ]
  },
  {
   "cell_type": "code",
   "execution_count": 63,
   "metadata": {},
   "outputs": [],
   "source": [
    "#Term Frequency\n",
    "TF={}\n",
    "\n",
    "for i in range(len(data.Text)):\n",
    "    TF[i]={}\n",
    "    for j in data.Text[i]:\n",
    "        TF[i][j]=data.Text[i].count(j)"
   ]
  },
  {
   "cell_type": "code",
   "execution_count": 65,
   "metadata": {},
   "outputs": [],
   "source": [
    "#document Frequency \n",
    "DF = {}\n",
    "for i in range(len(data.Text)):\n",
    "    tokens = data.Text[i]\n",
    "    for w in tokens:\n",
    "        try:\n",
    "            DF[w].add(i)\n",
    "        except:\n",
    "            DF[w] = {i}"
   ]
  },
  {
   "cell_type": "code",
   "execution_count": 68,
   "metadata": {},
   "outputs": [
    {
     "name": "stdout",
     "output_type": "stream",
     "text": [
      "{'i': {0, 1, 2, 3, 4, 5, 6, 7, 8, 9, 10, 11, 12, 13, 14, 15, 16, 17, 18}, 'embrace': {0, 16, 18}, 'with': {0, 1, 2, 3, 4, 5, 6, 7, 8, 9, 10, 11, 12, 13, 14, 15, 16, 17, 18}, 'great': {0, 1, 5, 6, 7, 8, 9, 10, 11, 12, 13, 14, 15, 16, 17, 18}, 'satisfaction': {0, 1, 2, 3, 6, 7, 9, 10, 11, 13, 14, 15, 16, 17, 18}, 'the': {0, 1, 2, 3, 4, 5, 6, 7, 8, 9, 10, 11, 12, 13, 14, 15, 16, 17, 18}, 'opportunity': {0, 2, 4, 5, 7, 12, 14, 16}, 'which': {0, 1, 2, 3, 4, 5, 6, 7, 8, 9, 10, 11, 12, 13, 14, 15, 16, 17, 18}, 'now': {0, 1, 3, 4, 5, 6, 7, 8, 9, 11, 12, 13, 14, 15, 16, 17, 18}, 'presents': {0, 11, 12, 13}, 'itself': {0, 1, 3, 5, 7, 9, 11, 12, 13, 16}, 'of': {0, 1, 2, 3, 4, 5, 6, 7, 8, 9, 10, 11, 12, 13, 14, 15, 16, 17, 18}, 'congratulating': {0}, 'you': {0, 1, 2, 3, 4, 5, 6, 7, 8, 9, 10, 11, 12, 13, 14, 15, 16, 17, 18}, 'on': {0, 1, 2, 3, 4, 5, 6, 7, 8, 9, 10, 11, 12, 13, 14, 15, 16, 17, 18}, 'present': {0, 1, 2, 3, 4, 5, 6, 7, 9, 10, 11, 12, 13, 14, 15, 16, 17, 18}, 'favourable': {0}, 'prospects': {0, 1, 10, 6}, 'our': {0, 1, 2, 3, 4, 5, 6, 7, 8, 9, 10, 11, 12, 13, 14, 15, 16, 17, 18}, 'public': {0, 1, 2, 3, 4, 5, 6, 7, 8, 9, 10, 11, 12, 13, 14, 15, 16, 17, 18}, 'affairs': {0, 1, 2, 3, 4, 5, 6, 8, 10, 12, 13, 14, 16, 17}, 'recent': {0, 9}, 'accession': {0}, 'important': {0, 2, 4, 6, 7, 8, 9, 11, 12, 14, 15, 16, 17, 18}, 'state': {0, 1, 2, 3, 4, 5, 6, 7, 8, 9, 10, 11, 12, 13, 14, 15, 16, 17, 18}, 'north': {0, 3, 4, 5, 9, 15}, 'carolina': {0}, 'to': {0, 1, 2, 3, 4, 5, 6, 7, 8, 9, 10, 11, 12, 13, 14, 15, 16, 17, 18}, 'constitution': {0, 2, 3, 5, 6, 8, 11, 12, 13, 14, 17, 18}, 'united': {0, 1, 2, 3, 4, 5, 6, 7, 8, 9, 10, 11, 12, 13, 14, 15, 16, 17, 18}, 'states': {0, 1, 2, 3, 4, 5, 6, 7, 8, 9, 10, 11, 12, 13, 14, 15, 16, 17, 18}, 'official': {0, 2, 11}, 'information': {0, 1, 3, 4, 5, 6, 7, 8, 9, 10, 12, 13, 14, 15, 16, 17, 18}, 'has': {0, 1, 2, 3, 4, 5, 6, 7, 8, 9, 10, 11, 12, 13, 14, 15, 16, 17, 18}, 'been': {0, 1, 2, 3, 4, 5, 6, 7, 8, 9, 10, 11, 12, 13, 14, 15, 16, 17, 18}, 'received—': {0}, 'rising': {0, 4}, 'credit': {0, 1, 2, 3, 5, 11}, 'and': {0, 1, 2, 3, 4, 5, 6, 7, 8, 9, 10, 11, 12, 13, 14, 15, 16, 17, 18}, 'respectability': {0, 1}, 'country': {0, 1, 2, 3, 4, 5, 6, 7, 8, 9, 10, 11, 12, 13, 14, 15, 16, 17, 18}, '—': {0}, 'general': {0, 1, 2, 3, 4, 5, 6, 7, 8, 9, 11, 12, 13, 14, 15, 16, 17}, 'increasing': {0, 2, 7, 8, 14}, 'good': {0, 1, 2, 3, 4, 5, 6, 7, 9, 10, 11, 13, 14, 15, 17, 18}, 'will': {0, 1, 2, 3, 4, 5, 6, 7, 8, 9, 10, 11, 12, 13, 14, 15, 16, 17, 18}, 'towards': {0}, 'government': {0, 1, 2, 3, 4, 5, 6, 7, 8, 9, 10, 11, 12, 13, 14, 15, 16, 17, 18}, 'union': {0, 1, 2, 3, 5, 6, 7, 9, 10, 12, 13, 14, 17, 18}, 'concord': {0}, 'peace': {0, 1, 2, 3, 4, 5, 6, 7, 8, 9, 12, 13, 14, 15, 16, 17, 18}, 'plenty': {0, 1}, 'we': {0, 1, 3, 4, 5, 6, 8, 9, 10, 11, 12, 13, 14, 15, 16, 17, 18}, 'are': {0, 1, 2, 3, 4, 5, 6, 7, 8, 9, 10, 11, 12, 13, 14, 15, 16, 17, 18}, 'blessed': {0, 1, 12, 13}, 'circumstances': {0, 1, 2, 3, 4, 5, 6, 7, 8, 9, 11, 12, 13, 14, 15, 16, 17, 18}, 'auspicious': {0, 13, 6}, 'in': {0, 1, 2, 3, 4, 5, 6, 7, 8, 9, 10, 11, 12, 13, 14, 15, 16, 17, 18}, 'an': {0, 1, 2, 3, 4, 5, 6, 7, 8, 9, 10, 11, 12, 13, 14, 15, 16, 17, 18}, 'eminent': {0}, 'degree': {0, 2, 4, 5, 6, 9}, 'national': {0, 1, 2, 3, 4, 6, 7, 8, 9, 10, 11, 12, 17, 18}, 'prosperity': {0, 2, 3, 4, 5, 6, 7, 8, 9, 10, 11, 12, 15}, 'resuming': {0}, 'your': {0, 1, 2, 3, 4, 5, 6, 7, 8, 9, 10, 11, 12, 13, 14, 15, 16, 17}, 'consultations': {0, 3}, 'for': {0, 1, 2, 3, 4, 5, 6, 7, 8, 9, 10, 11, 12, 13, 14, 15, 16, 17, 18}, 'can': {0, 1, 2, 3, 4, 5, 6, 7, 8, 9, 10, 11, 12, 13, 14, 15, 16, 17, 18}, 'not': {0, 1, 2, 3, 4, 5, 6, 7, 8, 9, 10, 11, 12, 13, 14, 15, 16, 17, 18}, 'but': {0, 1, 2, 3, 4, 5, 6, 7, 8, 9, 10, 11, 12, 13, 14, 15, 16, 17, 18}, 'derive': {0, 2, 3}, 'encouragement': {0, 7, 11, 13, 16, 17}, 'from': {0, 1, 2, 3, 4, 5, 6, 7, 8, 9, 10, 11, 12, 13, 14, 15, 16, 17, 18}, 'reflection': {0, 5}, 'that': {0, 1, 2, 3, 4, 5, 6, 7, 8, 9, 10, 11, 12, 13, 14, 15, 16, 17, 18}, 'measures': {0, 1, 2, 3, 4, 5, 6, 7, 8, 9, 10, 11, 12, 14, 15, 16, 17, 18}, 'last': {0, 1, 2, 3, 4, 5, 7, 8, 9, 11, 12, 13, 14, 15, 16, 17, 18}, 'session': {0, 1, 2, 3, 5, 6, 7, 8, 9, 11, 12, 13, 14, 15, 16, 17, 18}, 'have': {0, 1, 2, 3, 4, 5, 6, 7, 8, 9, 10, 11, 12, 13, 14, 15, 16, 17, 18}, 'as': {0, 1, 2, 3, 4, 5, 6, 7, 8, 9, 10, 11, 12, 13, 14, 15, 16, 17, 18}, 'satisfactory': {0, 1, 2, 5, 6, 7, 10, 12, 16}, 'constituents': {0, 1, 2, 3, 5, 6, 10, 12, 14, 16}, 'novelty': {0, 9, 2}, 'difficulty': {0, 2, 9, 12, 14}, 'work': {0, 5, 6, 7, 9, 10, 11, 13, 17, 18}, 'allowed': {0, 2}, 'hope': {0, 1, 3, 4, 5, 6, 7, 8, 12, 13, 14, 16}, 'still': {0, 2, 3, 5, 6, 7, 8, 9, 11, 12, 13, 14, 15, 16, 17, 18}, 'further': {0, 1, 2, 3, 4, 5, 6, 7, 8, 9, 10, 12, 13, 14, 15, 16, 17, 18}, 'u200brealize': {0}, 'their': {0, 1, 2, 3, 4, 5, 6, 7, 8, 9, 10, 11, 12, 13, 14, 15, 16, 17, 18}, 'expectations': {0, 11, 13, 15}, 'secure': {0, 1, 2, 3, 4, 5, 7, 9, 10, 11, 13, 14, 16, 18}, 'blessings': {0, 1, 2, 6, 9, 10, 12, 14}, 'a': {0, 1, 2, 3, 4, 5, 6, 7, 8, 9, 10, 11, 12, 13, 14, 15, 16, 17, 18}, 'gracious': {0, 5}, 'providence': {0, 3, 8, 9, 10, 13, 14, 16}, 'placed': {0, 2, 4, 6, 7, 8, 10, 12, 13, 14, 16, 17}, 'within': {0, 3, 4, 5, 7, 8, 9, 11, 12, 13, 14, 15, 16, 17, 18}, 'reach': {0, 17, 15}, 'course': {0, 1, 2, 3, 4, 5, 6, 7, 8, 9, 11, 12, 13, 14, 15, 16, 17, 18}, 'call': {0, 1, 3, 5, 7, 8, 12, 13, 14, 16, 17, 18}, 'cool': {0}, 'deliberate': {0}, 'exertion': {0, 8, 3}, 'patriotism': {0, 1, 5, 7, 9, 11, 17}, 'firmness': {0, 5, 6, 8, 16}, 'wisdom': {0, 1, 4, 6, 8, 9, 10, 11, 12, 14, 15, 16, 18}, 'among': {0, 1, 2, 3, 4, 5, 6, 7, 8, 9, 10, 12, 14, 16, 17, 18}, 'many': {0, 1, 2, 4, 5, 6, 7, 8, 9, 10, 12, 14, 16, 18}, 'interesting': {0, 1, 3, 4, 6, 7, 8, 10, 11, 14, 16, 17, 18}, 'objects': {0, 1, 2, 3, 4, 5, 6, 8, 10, 11, 13, 14, 17}, 'engage': {0, 2, 3, 6, 7, 16}, 'attention': {0, 1, 2, 3, 4, 5, 6, 7, 9, 11, 12, 13, 14, 15, 16, 18}, 'providing': {0, 5, 6, 8, 12, 13, 14, 15, 16, 18}, 'common': {0, 2, 3, 4, 7}, 'defence': {0}, 'merit': {0, 3, 4, 5, 6, 14, 15}, 'particular': {0, 1, 2, 3, 4, 5, 6, 7, 8, 12}, 'regard—': {0}, 'be': {0, 1, 2, 3, 4, 5, 6, 7, 8, 9, 10, 11, 12, 13, 14, 15, 16, 17, 18}, 'prepared': {0, 3, 5, 7, 12, 13, 15, 17}, 'war': {0, 1, 2, 3, 4, 5, 6, 7, 8, 9, 10, 11, 12, 13, 14, 15, 16, 17, 18}, 'is': {0, 1, 2, 3, 4, 5, 6, 7, 8, 9, 10, 11, 12, 13, 14, 15, 16, 17, 18}, 'one': {0, 2, 3, 4, 5, 6, 7, 8, 9, 10, 11, 12, 13, 14, 15, 18}, 'most': {0, 1, 2, 4, 5, 6, 7, 8, 9, 11, 12, 14, 16, 17, 18}, 'effectual': {0, 2, 3, 4, 13, 15, 16, 17, 18}, 'means': {0, 1, 2, 3, 4, 5, 6, 7, 8, 9, 10, 13, 14, 15, 16, 17, 18}, 'preserving': {0, 7, 8, 14, 15}, 'peace—': {0}, 'free': {0, 2, 11, 12, 14, 16, 17, 18}, 'people': {0, 2, 4, 5, 7, 8, 9, 10, 11, 14, 15, 17, 18}, 'ought': {0, 1, 2, 4, 5, 7, 8, 9, 11, 12, 16, 17, 18}, 'only': {0, 1, 2, 3, 4, 5, 7, 8, 9, 11, 12, 13, 14, 15, 16, 17}, 'armed': {0, 5, 7, 8, 14, 16, 17, 18}, 'disciplined—': {0}, 'end': {0, 17, 12, 7}, 'uniform': {0, 1, 4, 12, 15}, 'well': {0, 1, 2, 4, 5, 6, 7, 8, 9, 12, 13, 14, 15, 16, 17, 18}, 'digested': {0, 17, 7}, 'plan': {0, 2, 3, 4, 5, 6, 7}, 'requisite': {0, 1, 2, 3, 4, 7, 9, 12, 17}, 'safety': {0, 1, 2, 3, 5, 6, 7, 8, 9, 11, 12, 13, 14, 16, 18}, 'interest': {0, 1, 2, 3, 4, 5, 6, 8, 9, 10, 11, 12, 13, 14, 15, 16, 17, 18}, 'require': {0, 2, 3, 4, 12, 13, 16, 17, 18}, 'they': {0, 1, 2, 3, 4, 5, 6, 7, 8, 9, 10, 11, 12, 13, 14, 15, 16, 17, 18}, 'should': {0, 1, 2, 3, 4, 5, 6, 7, 8, 9, 10, 12, 13, 14, 15, 16, 17, 18}, 'promote': {0, 3, 5, 11, 12, 13, 14, 18}, 'such': {0, 1, 2, 3, 4, 5, 6, 7, 8, 9, 10, 11, 12, 14, 15, 16, 17, 18}, 'manufactories': {0}, 'tend': {0, 3, 6, 9, 12, 13, 14, 16}, 'render': {0, 1, 4, 7, 10, 11, 12, 13, 14, 15, 16, 17, 18}, 'them': {0, 1, 2, 3, 4, 5, 6, 7, 8, 9, 10, 11, 12, 13, 14, 15, 16, 17, 18}, 'independent': {0, 17, 14}, 'others': {0, 1, 2, 3, 5, 6, 7, 10, 11, 12, 13, 14, 15, 16, 18}, 'essential': {0, 1, 3, 4, 6, 7, 8, 9, 10, 12}, 'particularly': {0, 1, 2, 3, 8, 13, 16, 17}, 'military': {0, 4, 5, 6, 7, 8, 9, 10, 12, 13, 15, 17, 18}, 'supplies': {0, 9, 4}, 'proper': {0, 2, 3, 4, 5, 6, 7, 8, 9, 10, 12, 14, 15, 16, 17, 18}, 'establishment': {0, 1, 2, 3, 4, 6, 7, 9, 12, 13, 15, 16, 17}, 'troops': {0, 1, 3, 4, 7, 8, 9, 10, 13, 16, 17}, 'may': {0, 1, 2, 3, 4, 5, 6, 7, 8, 9, 10, 11, 12, 13, 14, 15, 16, 17, 18}, 'deemed': {0, 1, 3, 5, 6, 10, 12, 13, 14, 15, 16, 18}, 'indispensible': {0}, 'entitled': {0, 2, 9, 14, 17, 18}, 'mature': {0, 12, 6}, 'consideration—': {0}, 'arrangements': {0, 2, 4, 7, 11, 13, 14, 15, 17, 18}, 'made': {0, 1, 2, 3, 4, 5, 6, 7, 8, 9, 10, 11, 12, 13, 14, 15, 16, 17, 18}, 'respecting': {0, 8, 10, 12, 16}, 'it': {0, 1, 2, 3, 4, 5, 6, 7, 8, 9, 10, 11, 12, 13, 14, 15, 16, 17, 18}, 'u200bimportance': {0}, 'conciliate': {0, 9, 2, 4}, 'comfortable': {0}, 'support': {0, 3, 4, 5, 8, 12, 13, 14, 16, 17}, 'officers': {0, 2, 3, 4, 5, 7, 8, 9, 10, 11, 12, 13, 15, 16}, 'soldiers': {0, 16, 11, 5}, 'due': {0, 1, 2, 3, 4, 5, 6, 7, 8, 10, 11, 13, 14, 15, 17, 18}, 'regard': {0, 2, 3, 4, 5, 6, 7, 11, 14}, 'oeconomy': {0}, 'there': {0, 2, 3, 4, 5, 6, 7, 8, 9, 11, 12, 13, 14, 15, 17, 18}, 'was': {0, 2, 3, 4, 5, 6, 7, 8, 9, 10, 11, 12, 13, 14, 15, 17, 18}, 'reason': {0, 3, 4, 5, 7, 8, 9, 11, 13, 14, 15, 16, 17, 18}, 'pacific': {0, 3, 7, 9, 10, 11, 17}, 'adopted': {0, 2, 5, 7, 9, 10, 11, 14}, 'certain': {0, 1, 2, 3, 4, 5, 6, 7, 8, 10, 12, 14, 15, 16, 17}, 'hostile': {0, 2, 3, 4, 5, 6}, 'tribes': {0, 1, 2, 3, 4, 5, 6, 7, 8, 9, 13, 14, 15, 16, 18}, 'indians': {0, 1, 2, 3, 4, 5, 6, 7, 8, 9, 14, 16}, 'would': {0, 2, 3, 4, 5, 7, 8, 9, 10, 11, 12, 13, 14, 15, 16, 17, 18}, 'relieved': {0, 4, 12, 7}, 'inhabitants': {0, 2, 6, 8, 12, 14, 17}, 'southern': {0, 9, 6}, 'western': {0, 1, 2, 5, 6, 8, 14, 17}, 'frontiers': {0, 1, 2, 4, 6, 17}, 'depredations—': {0}, 'percieve': {0}, 'contained': {0, 1, 2, 5}, 'papers': {0, 1, 3, 4, 5, 8, 12}, 'shall': {0, 1, 2, 3, 4, 5, 6, 7, 9, 10, 11, 12, 13, 14, 15, 16, 17, 18}, 'direct': {0, 5, 9, 10, 11, 12, 13}, 'laid': {0, 1, 2, 3, 4, 5, 6, 8, 9, 10, 11, 12, 13, 14, 15, 18}, 'before': {0, 1, 2, 3, 4, 5, 6, 7, 8, 9, 10, 11, 12, 13, 14, 15, 16, 17, 18}, 'comprehending': {0, 12, 7}, 'communication': {0, 2, 3, 4, 7, 9, 12, 13, 16, 17}, 'commonwealth': {0}, 'virginia': {0, 1, 18, 5}, 'afford': {0, 1, 2, 3, 4, 7, 9, 17}, 'protection': {0, 1, 2, 4, 5, 6, 7, 8, 9, 11, 12, 14, 15, 18}, 'those': {0, 1, 2, 3, 4, 5, 6, 7, 8, 9, 10, 11, 12, 13, 14, 15, 16, 17, 18}, 'parts': {0, 1, 2, 3, 10, 12, 13, 14, 15, 16, 17}, 'if': {0, 1, 2, 3, 4, 5, 6, 7, 8, 9, 11, 12, 13, 16, 17, 18}, 'necessary': {0, 1, 2, 4, 5, 6, 7, 8, 9, 10, 11, 12, 13, 14, 15, 16, 17, 18}, 'punish': {0, 2, 5, 14}, 'aggressors': {0, 1}, 'interests': {0, 2, 4, 6, 9, 10, 11, 14, 15, 16, 17, 18}, 'intercourse': {0, 2, 3, 4, 5, 9, 10, 14, 15, 16, 18}, 'other': {0, 1, 2, 3, 4, 5, 6, 7, 8, 9, 10, 12, 13, 14, 15, 16, 17, 18}, 'nations': {0, 1, 2, 3, 4, 5, 6, 7, 8, 9, 10, 11, 12, 13, 14, 15, 16, 17, 18}, 'facilitated': {0}, 'by': {0, 1, 2, 3, 4, 5, 6, 7, 8, 9, 10, 11, 12, 13, 14, 15, 16, 17, 18}, 'provisions': {0, 1, 2, 3, 4, 6, 7, 8, 12, 15, 16, 18}, 'enable': {0, 3, 5, 9, 11, 12, 13, 14, 16, 17}, 'me': {0, 1, 2, 3, 4, 5, 6, 7, 8, 10, 11, 12, 14, 17}, 'fulfill': {0, 10, 15, 7}, 'my': {0, 1, 3, 4, 5, 6, 7, 8, 9, 10, 12, 13, 14, 15, 16, 18}, 'duty': {0, 1, 2, 4, 5, 6, 7, 8, 9, 10, 11, 12, 13, 14, 16, 17, 18}, 'respect': {0, 1, 2, 5, 6, 7, 8, 9, 11, 12, 17}, 'manner': {0, 2, 4, 6, 8, 9, 10, 13}, 'conducive': {0, 2, 3}, 'this': {0, 1, 2, 3, 4, 5, 6, 7, 8, 9, 10, 11, 12, 13, 14, 15, 16, 17, 18}, 'compensation': {0, 8, 2, 7}, 'persons': {0, 1, 2, 3, 8, 11, 12, 14, 15, 16, 18}, 'who': {0, 2, 4, 5, 6, 7, 8, 9, 12, 13, 14, 15, 16, 17, 18}, 'employed': {0, 3, 5, 7, 10, 12, 13, 15, 16, 17}, 'according': {0, 3, 4, 5, 14, 15, 16, 17, 18}, 'nature': {0, 1, 2, 4, 5, 7, 14, 16, 17}, 'appointments': {0}, 'defined': {0, 2}, 'law': {0, 1, 2, 3, 4, 5, 6, 8, 9, 10, 11, 12, 13, 14, 15, 16, 17, 18}, 'competent': {0, 2, 3, 5, 6, 11, 12, 13, 16, 17}, 'fund': {0, 1, 2, 13, 14, 17}, 'u200bdesignated': {0}, 'defraying': {0}, 'expenses': {0, 4, 8, 12, 13, 14, 15, 18}, 'incident': {0, 16, 2}, 'conduct': {0, 2, 4, 5, 8, 9, 14, 15, 16}, 'foreign': {0, 1, 3, 5, 6, 7, 8, 9, 10, 11, 12, 13, 14, 16, 17, 18}, 'various': {0, 1, 3, 6, 7, 8, 9, 10, 12, 16}, 'considerations': {0, 2, 3, 5, 6, 7, 11, 12, 14, 15}, 'also': {0, 1, 2, 3, 4, 5, 6, 7, 8, 9, 12, 13, 14, 15, 16, 17, 18}, 'expedient': {0, 1, 4, 5, 7, 9, 10, 12, 13, 14, 16}, 'terms': {0, 1, 2, 5, 6, 8, 9, 10, 15, 17}, 'foreigners': {0}, 'admitted': {0, 18, 12}, 'rights': {0, 1, 2, 5, 6, 7, 8, 9, 10, 13, 14, 15, 16, 17, 18}, 'citizens': {0, 1, 2, 3, 4, 5, 6, 7, 8, 9, 10, 11, 12, 13, 14, 15, 16, 17, 18}, 'speedily': {0, 9}, 'ascertained': {0, 2, 3, 4, 6, 7, 13, 14, 15, 17, 18}, 'rule': {0, 7, 13, 17, 18}, 'naturalization': {0, 12}, 'uniformity': {0, 2}, 'currency': {0, 2}, 'weights': {0, 1, 2}, 'object': {0, 1, 2, 3, 4, 6, 7, 9, 12, 14, 15, 16, 18}, 'importance': {0, 1, 2, 3, 5, 7, 9, 11, 12, 14, 18}, 'am': {0, 1, 2, 3, 6, 7, 12, 14, 18}, 'persuaded': {0, 1, 2, 3, 14, 17}, 'duly': {0, 2, 3, 10, 14}, 'attended': {0, 1, 5, 7, 9, 12}, 'advancement': {0, 2, 18}, 'agriculture': {0, 1, 2, 6, 7, 8, 11, 12, 14, 15, 16, 18}, 'commerce': {0, 1, 2, 4, 6, 7, 8, 9, 10, 11, 12, 13, 14, 15, 16, 17, 18}, 'manufactures': {0, 2, 6, 7, 8, 12, 13, 15, 17}, 'all': {0, 1, 2, 3, 4, 5, 6, 7, 8, 9, 10, 11, 12, 13, 14, 15, 16, 17, 18}, 'trust': {0, 2, 3, 4, 5, 6, 8, 9, 10, 11, 12, 15, 18}, 'need': {0, 2, 5, 6, 12, 16, 18}, 'recommendation': {0, 4, 6}, 'forbear': {0, 2, 3, 4}, 'intimating': {0}, 'expediency': {0, 3, 7, 9, 12, 13, 15, 16}, 'giving': {0, 17, 3, 6}, 'introduction': {0}, 'new': {0, 2, 3, 4, 5, 6, 7, 9, 10, 12, 14, 15, 16, 17, 18}, 'useful': {0, 6, 7, 8, 12, 13, 14, 16, 17}, 'inventions': {0}, 'abroad': {0, 1, 3, 12, 13, 16}, 'exertions': {0, 2, 4, 5, 6, 8, 18}, 'skill': {0, 13, 7}, 'genius': {0, 8}, 'producing': {0}, 'at': {0, 1, 2, 3, 4, 5, 6, 7, 8, 9, 10, 11, 12, 13, 14, 15, 16, 17, 18}, 'home': {0, 1, 3, 12, 13, 16, 18}, 'facilitating': {0, 9, 3}, 'between': {0, 4, 6, 7, 8, 9, 10, 13, 14, 15, 16, 17, 18}, 'distant': {0, 3, 5, 7, 13, 14, 15, 17, 18}, 'postoffice': {0}, 'post': {0, 1, 2, 3, 17, 18}, 'roads': {0, 1, 2, 17}, 'u200bnor': {0}, 'less': {0, 1, 2, 3, 6, 8, 9, 12, 15, 16, 18}, 'agree': {0}, 'opinion': {0, 4, 5, 6, 8, 9, 10, 11, 12}, 'nothing': {0, 3, 4, 5, 8, 9, 10, 12, 17, 18}, 'better': {0, 3, 6, 8, 12, 15, 17, 18}, 'deserve': {0}, 'patronage': {0, 1, 7, 14, 17}, 'than': {0, 1, 2, 3, 4, 5, 6, 7, 8, 9, 11, 12, 13, 14, 15, 16, 18}, 'promotion': {0, 16}, 'science': {0, 7}, 'literature': {0}, 'knowledge': {0, 2, 4, 7, 9, 12, 14, 16, 17}, 'every': {0, 1, 2, 3, 4, 5, 6, 7, 8, 9, 10, 11, 12, 13, 14, 16, 17, 18}, 'surest': {0}, 'basis': {0, 2, 6}, 'happiness': {0, 2, 3, 4, 5, 6, 7, 8, 11, 12, 13, 14, 15}, 'receive': {0, 3, 4, 5, 8, 9, 11, 13, 14, 15, 16, 17}, 'impression': {0, 2, 3, 5, 16}, 'so': {0, 1, 2, 4, 5, 6, 7, 8, 9, 10, 11, 12, 13, 14, 15, 16, 17, 18}, 'immediately': {0, 2, 5, 6, 10, 11, 13, 14, 15, 16, 18}, 'sense': {0, 2, 4, 6, 7, 8, 9, 10, 12}, 'community': {0, 2, 3, 5, 10, 11}, 'ours': {0, 3, 14, 15, 18}, 'proportionably': {0}, 'security': {0, 1, 2, 6, 7, 8, 9, 11, 12, 16, 17, 18}, 'contributes': {0, 2, 7}, 'ways': {0, 3}, 'convincing': {0}, 'entrusted': {0}, 'administration': {0, 1, 2, 7, 10, 11, 12, 15, 16, 18}, 'valuable': {0, 1, 3, 4, 6, 7, 9}, 'best': {0, 1, 5, 6, 7, 9, 11, 12, 13, 14, 15, 16, 17, 18}, 'answered': {0, 3}, 'enlightened': {0, 2, 4, 7, 14}, 'confidence': {0, 1, 2, 7, 10, 12, 14, 15, 16, 17, 18}, 'teaching': {0}, 'themselves': {0, 2, 3, 4, 5, 8, 9, 11, 12, 14, 15, 16, 17, 18}, 'know': {0, 2, 12, 6}, 'value': {0, 3, 12}, 'own': {0, 1, 2, 3, 4, 7, 8, 11, 12, 13, 14, 15, 16, 17, 18}, 'discern': {0}, 'provide': {0, 4, 7, 10, 11, 12, 13, 17, 18}, 'against': {0, 1, 2, 3, 4, 5, 7, 8, 9, 10, 12, 13, 14, 15, 16, 17, 18}, 'invasions': {0, 5}, 'distinguish': {0, 1}, 'oppression': {0, 16, 10, 18}, 'exercise': {0, 1, 3, 4, 5, 6, 12, 14, 15, 16, 17, 18}, 'lawful': {0, 3, 13}, 'authority': {0, 1, 2, 3, 4, 5, 7, 8, 9, 10, 12, 15, 16, 17, 18}, 'burthens': {0, 2, 3, 4, 6, 10, 12, 13, 17}, 'proceeding': {0, 4, 12, 15, 17, 18}, 'disregard': {0}, 'convenience': {0, 2, 4, 5, 9, 18}, 'resulting': {0, 14}, 'inevitable': {0, 3, 7}, 'exigencies': {0, 5, 6, 7, 13}, 'society': {0, 8, 6, 15}, 'discriminate': {0}, 'spirit': {0, 2, 3, 5, 7, 8, 9, 10, 12, 13, 15, 16, 18}, 'liberty': {0, 4, 5, 6, 8, 9, 12, 16}, 'licentiousness': {0}, 'cherishing': {0, 14}, 'first': {0, 2, 3, 4, 5, 7, 11, 12, 13, 14, 16, 18}, 'avoiding': {0, 13}, 'uniting': {0, 9, 2}, 'speedy': {0, 6, 7}, 'temperate': {0, 6}, 'vigilence': {0}, 'encroachments': {0}, 'inviolable': {0}, 'laws': {0, 1, 2, 3, 5, 6, 9, 10, 11, 12, 14, 15, 16, 17, 18}, 'whether': {0, 1, 2, 3, 4, 5, 6, 7, 8, 9, 11, 12, 13, 14, 15, 16, 17, 18}, 'desirable': {0, 1, 2, 3, 6, 8, 14, 16, 17}, 'promoted': {0, 9, 2}, 'affording': {0, 2}, 'aids': {0, 18, 14, 7}, 'seminaries': {0, 7}, 'learning': {0, 7}, 'already': {0, 1, 2, 4, 5, 7, 11, 12, 13, 14, 15, 16, 17, 18}, 'establishedby': {0}, 'institution': {0, 5, 6, 7, 12, 13, 14, 17}, 'u200bof': {0}, 'universityor': {0}, 'any': {0, 1, 2, 3, 4, 5, 6, 7, 8, 9, 10, 11, 12, 13, 14, 15, 16, 17, 18}, 'expedients': {0, 3}, 'worthy': {0, 3, 6, 9, 12, 13, 14, 15, 17}, 'place': {0, 1, 2, 3, 5, 8, 10, 11, 12, 13, 14, 15, 16, 17, 18}, 'deliberations': {0, 1, 2, 3, 4, 5, 13, 16, 17}, 'legislature': {0, 2, 3, 7, 8, 9, 11, 12, 13, 16, 17, 18}, 'saw': {0, 14}, 'peculiar': {0, 2, 6, 8, 10, 12, 15}, 'pleasure': {0, 2, 6, 7, 11, 13, 17}, 'close': {0, 3, 4, 9, 17, 18}, 'resolution': {0, 2, 6}, 'entered': {0, 2, 5, 14, 16}, 'into': {0, 1, 2, 3, 4, 5, 6, 7, 8, 9, 11, 12, 13, 14, 15, 16, 17, 18}, 'expressive': {0}, 'adequate': {0, 2, 3, 5, 6, 7, 8, 13, 17, 18}, 'provision': {0, 1, 2, 3, 4, 5, 6, 7, 8, 12, 14, 15, 16, 17, 18}, 'matter': {0, 9, 18}, 'high': {0, 3, 13, 14, 16, 17, 18}, 'honor': {0, 1, 5, 6, 7, 8, 9, 10, 11, 17}, 'sentiment': {0, 3, 4, 13}, 'entirely': {0, 3, 12}, 'concur': {0, 16, 12, 7}, 'perfect': {0, 5, 7, 12, 15}, 'endeavors': {0, 3, 4, 5, 11, 16, 18}, 'devise': {0}, 'truly': {0, 8, 4, 9}, 'consistent': {0, 15, 6, 7}, 'add': {0, 1, 3, 6, 7, 8, 9, 12, 13, 17}, 'equal': {0, 3, 4, 6, 9, 10, 11, 12, 13, 14, 16, 17}, 'reliance': {0, 13}, 'chearful': {0}, 'cooperation': {0, 1, 2, 3, 4, 5, 10, 11, 15}, 'branch': {0, 1, 2, 9, 12, 14, 17}, 'superfluous': {0, 6, 15}, 'specify': {0}, 'inducements': {0}, 'measure': {0, 1, 2, 3, 6, 7, 8, 9, 11, 12, 13, 14, 16, 18}, 'character': {0, 2, 5, 6, 7, 8, 11, 12, 14, 16, 17, 18}, 'permanent': {0, 2, 4, 5, 6, 7, 8, 10, 11, 12, 17}, 'obviously': {0}, 'deeply': {0, 9}, 'concerned': {0, 1}, 'received': {0, 1, 2, 3, 6, 7, 8, 9, 10, 11, 12, 14, 15, 17, 18}, 'explicit': {0, 5}, 'sanction': {0, 1, 3, 6, 12, 14, 18}, 'declaration': {0, 9, 10, 4}, 'directed': {0, 1, 2, 3, 4, 7, 9, 10, 11, 12}, 'lay': {0, 1, 2, 5, 6, 7, 9, 12, 13, 17, 18}, 'respectively': {0, 10}, 'estimates': {0, 8, 10, 11, 12, 13, 14, 15}, 'recommended': {0, 5, 7, 8, 11, 16, 17}, 'consideration': {0, 2, 3, 4, 6, 7, 8, 9, 10, 11, 12, 13, 14, 15, 16, 17, 18}, 'convey': {0}, 'welfare': {0, 1, 2, 4, 5, 6, 7, 17, 18}, 'cares': {0, 13}, 'efforts': {0, 3, 5, 6, 7, 11, 12}, 'pleasing': {0, 1, 2, 5, 6, 12, 13}, 'tho': {0}, 'arduous': {0, 17, 2, 12}, 'task': {0, 4, 5}, 'ensuring': {0}, 'fellowcitizens': {0, 1, 2, 3, 12, 13, 14, 16}, 'right': {0, 2, 3, 4, 5, 9, 10, 12, 14, 16, 17}, 'expect': {0, 8, 15, 16, 17, 18}, 'efficient': {0, 5, 7, 9, 16}, 'senate': {1, 2, 3, 4, 5, 6, 7, 8, 9, 10, 11, 12, 13, 14, 15, 16, 17, 18}, 'house': {1, 2, 3, 4, 5, 6, 7, 8, 9, 10, 11, 12, 13, 14, 15, 16, 17, 18}, 'representatives': {1, 2, 3, 4, 5, 6, 7, 8, 9, 10, 11, 12, 13, 14, 15, 16, 17, 18}, 'meeting': {1, 7, 8, 10, 12, 15, 16, 17, 18}, 'again': {1, 2, 3, 4, 5, 6, 8, 9, 11, 14}, 'feel': {1, 4, 5, 12, 14, 17}, 'much': {1, 5, 6, 7, 8, 11, 12, 13, 14, 16, 17, 18}, 'being': {1, 2, 3, 4, 5, 6, 7, 8, 9, 10, 12, 13, 14, 15, 17, 18}, 'able': {1, 2, 3, 4, 5, 6, 7, 9, 12, 13, 14, 16, 17}, 'repeat': {1, 6, 7}, 'congratulations': {1, 9}, 'favorable': {1, 3, 12, 14, 15}, 'continue': {1, 3, 6, 7, 8, 11, 12, 15, 17, 18}, 'abundant': {8, 1, 9}, 'fruits': {1, 11}, 'another': {1, 2, 3, 8, 9, 13, 14, 16, 17, 18}, 'year': {1, 2, 3, 4, 5, 6, 7, 8, 9, 10, 11, 12, 13, 14, 15, 16, 17, 18}, 'flourishing': {1, 7}, 'progress': {1, 2, 3, 4, 5, 6, 7, 9, 10, 11, 12, 16}, 'witnessed': {1, 14}, 'considerable': {1, 2, 3, 5, 8, 11, 12, 16, 17}, 'rise': {1}, 'american': {1, 5, 6, 7, 8, 9, 10, 13, 15, 17}, 'stock': {1, 7, 13, 15, 17, 18}, 'revenues': {1, 2, 3, 4, 7, 15, 17}, 'allotted': {1}, 'purposes': {1, 3, 5, 10, 11, 12, 13, 14, 17, 18}, 'productive': {8, 1, 3, 6}, 'beyond': {1, 6, 7, 12, 13, 16, 17, 18}, 'calculations': {16, 1, 13, 6}, 'were': {1, 2, 3, 4, 5, 6, 7, 8, 9, 10, 11, 12, 13, 14, 15, 16, 17, 18}, 'regulated': {1, 2, 5, 9, 15}, 'latter': {16, 1, 4, 9}, 'circumstance': {1, 12, 13, 15, 17, 18}, 'more': {1, 2, 3, 4, 5, 6, 7, 8, 9, 11, 12, 13, 14, 15, 16, 17, 18}, 'proof': {1, 2}, 'fertility': {1, 14, 15}, 'resources': {1, 5, 6, 7, 8, 9, 10, 11, 12, 13, 14, 17}, 'assures': {1}, 'us': {1, 4, 5, 6, 8, 9, 10, 11, 12, 13, 14, 15, 16, 17, 18}, 'increase': {1, 2, 7, 9, 10, 12, 13, 14}, 'let': {1, 5, 14}, 'bears': {1, 11, 12}, 'honorable': {1, 2, 5, 6, 11, 17}, 'testimony': {1, 4, 5, 11, 12, 18}, 'integrity': {1, 17}, 'mercantile': {1, 9}, 'marine': {1}, 'part': {1, 2, 3, 5, 6, 7, 8, 9, 10, 11, 12, 13, 14, 15, 16, 17, 18}, 'punctuality': {1, 10}, 'former': {1, 2, 3, 4, 6, 8, 9, 10, 11, 13, 14, 15, 16, 18}, 'discharging': {1, 7}, 'engagements': {1, 7, 10, 15, 18}, 'exemplary': {1}, 'conformity': {1, 7, 9, 10, 12, 13, 18}, 'powers': {1, 2, 3, 4, 5, 6, 7, 8, 11, 12, 13, 14, 15, 16, 17, 18}, 'vested': {1, 2, 5, 6, 11, 14}, 'acts': {1, 2, 3, 4, 5, 6, 7, 9, 15, 16, 17}, 'loan': {1, 2, 3, 4}, '3000000': {1, 3}, 'florins': {1, 2, 3, 4}, 'toward': {1, 2, 3, 4, 5, 6, 7, 9, 12, 13, 14, 15, 16, 17, 18}, 'some': {1, 2, 3, 4, 5, 6, 7, 8, 9, 10, 11, 12, 13, 14, 15, 16, 17, 18}, 'provisional': {1, 14, 17}, 'had': {1, 2, 4, 5, 6, 7, 8, 9, 10, 11, 12, 13, 14, 15, 16, 17, 18}, 'previously': {1}, 'taken': {1, 2, 3, 4, 6, 7, 8, 9, 12, 13, 14, 15, 16, 17, 18}, 'completed': {1, 2, 3, 7, 8, 13, 17}, 'holland': {8, 1, 2, 4}, 'celerity': {1, 6}, 'filled': {1}, 'considering': {1, 9, 12, 13, 17}, 'ordinary': {1, 5, 7, 9, 11, 12, 14, 15, 16, 17, 18}, 'demand': {1, 2, 3, 4, 5, 6, 7, 8, 10, 12}, 'borrowing': {1, 13}, 'created': {1, 11, 12, 15}, 'situation': {1, 4, 5, 6, 7, 8, 9, 10, 11, 12, 13, 17}, 'europe': {1, 4, 6, 7, 8, 9, 11, 13, 14, 15, 16, 17, 18}, 'give': {1, 2, 3, 4, 6, 7, 8, 9, 10, 11, 13, 14, 16, 17, 18}, 'reasonable': {1, 2, 4, 6, 8, 12, 14, 16, 17}, 'execution': {1, 2, 3, 4, 5, 6, 8, 9, 10, 11, 12, 14, 15, 17}, 'proceed': {1, 7, 9, 10, 13, 18}, 'advantage': {1, 2, 5, 13, 17}, 'success': {1, 2, 3, 4, 5, 7, 11, 12, 15, 17}, 'secretary': {1, 12, 13, 14}, 'treasury': {1, 2, 4, 6, 12, 13, 14, 15, 16, 17, 18}, 'directions': {1, 11}, 'communicate': {1, 3, 12, 15}, 'particulars': {1, 13, 6, 7}, 'precise': {1, 3}, 'since': {1, 3, 4, 5, 7, 8, 10, 11, 12, 13, 14, 15, 16, 17, 18}, 'sessions': {1}, 'communications': {1, 2, 3, 5, 7, 12, 14, 17, 18}, 'appears': {1, 3, 6, 9, 16, 18}, 'district': {1, 2, 5, 10, 11, 15}, 'kentucky': {1, 2, 3}, 'concurred': {1, 9}, 'propositions': {16, 1, 14}, 'consequence': {1, 7, 8, 9, 10, 12, 14}, 'become': {1, 4, 8, 9, 15, 16, 17, 18}, 'distinct': {1}, 'member': {1}, 'case': {11, 1, 3, 16}, 'congress': {1, 2, 3, 4, 5, 6, 7, 8, 9, 10, 11, 12, 13, 14, 15, 16, 17, 18}, 'added': {1, 6, 8, 12, 14, 15, 18}, 'application': {1, 3, 5, 13, 17, 18}, 'cause': {1, 4, 5, 6, 7, 8, 9, 11, 12}, 'very': {1, 5, 6, 7, 13, 15, 16, 17, 18}, 'transaction': {1}, 'liberality': {1, 3, 4, 5, 6, 9}, 'harmony': {1, 3, 4, 5, 6, 7, 9, 11, 13, 14, 18}, 'conducted': {1, 2, 4, 11, 16, 17}, 'found': {1, 2, 3, 4, 5, 7, 8, 12, 13, 14, 16, 17, 18}, 'do': {1, 5, 6, 9, 12, 15, 16, 17, 18}, 'both': {1, 2, 4, 5, 7, 8, 10, 11, 14, 15, 16, 17}, 'parties': {1, 4, 6, 14}, 'sentiments': {16, 1, 10}, 'warm': {1}, 'attachment': {1, 3, 4, 5, 8, 10, 17}, 'its': {1, 2, 3, 4, 5, 6, 7, 8, 9, 10, 12, 13, 14, 15, 16, 17, 18}, 'expressed': {1, 5, 7, 9, 17}, 'fellow': {1, 4, 5, 6, 7, 8, 9, 10, 15, 17, 18}, 'fail': {1, 2, 8, 11, 15, 16}, 'affectionate': {1, 4, 5}, 'concern': {1, 3, 14, 17}, 'impressions': {1, 2, 4}, 'under': {1, 2, 3, 4, 5, 6, 7, 8, 9, 10, 11, 12, 13, 14, 15, 16, 17, 18}, 'decide': {1, 8, 13, 16, 17}, 'submitted': {1, 2, 5, 6, 7, 12, 16}, 'heretofore': {1, 6, 7, 9, 14, 15, 18}, 'known': {1, 2, 3, 4, 5, 9, 10, 16, 17, 18}, 'frequent': {1, 6}, 'incursion': {1}, 'frontier': {1, 3, 6, 7, 8, 15, 16}, 'settlements': {1, 3, 17, 7}, 'banditti': {1, 3}, 'northwest': {1, 6}, 'side': {1, 5, 6, 12, 15, 17}, 'ohio': {1, 3, 4, 5, 6, 14, 15, 16}, 'these': {1, 2, 3, 4, 5, 6, 7, 8, 9, 10, 11, 12, 13, 14, 15, 16, 17, 18}, 'dwelling': {1, 5}, 'near': {1, 9, 13, 15, 16, 17, 18}, 'wabash': {1, 13, 15}, 'late': {1, 3, 5, 6, 7, 8, 9, 11, 12, 13, 14, 16, 18}, 'active': {1, 4, 7, 16, 17}, 'depredations': {1, 2, 3, 7, 8, 9, 18}, 'emboldened': {1}, 'impunity': {1, 6}, 'crimes': {1, 10, 5, 17}, 'aided': {1, 3, 15}, 'neighboring': {1, 3, 12, 13, 14}, 'could': {1, 3, 4, 5, 7, 10, 12, 14, 16, 17, 18}, 'seduced': {1, 10}, 'join': {8, 1, 6, 16}, 'hostilities': {1, 3, 8, 12, 17, 18}, 'or': {1, 2, 3, 4, 5, 6, 7, 8, 9, 10, 11, 12, 13, 14, 15, 16, 17, 18}, 'retreat': {1}, 'prisoners': {1, 6, 7, 13, 16}, 'plunder': {1}, 'instead': {1, 9, 12, 13, 14, 15, 17}, 'listening': {1}, 'humane': {1, 2, 9, 10, 15}, 'invitations': {1}, 'overtures': {1, 2, 3, 5}, 'renewed': {1, 3, 4, 6, 7, 10, 16, 17}, 'violences': {1, 4, 6}, 'fresh': {1}, 'alacrity': {1, 18}, 'greater': {1, 5, 7, 13, 15, 18}, 'effect': {1, 2, 4, 6, 7, 8, 9, 10, 11, 12, 13, 14, 15, 16, 17, 18}, 'lives': {8, 1, 18}, 'number': {1, 3, 4, 8, 9, 12, 15, 16, 17}, 'thus': {1, 3, 5, 6, 9, 10, 13, 15, 18}, 'sacrificed': {1}, 'peculiarly': {1, 2}, 'shocking': {1}, 'whilst': {1, 12, 14}, 'carried': {1, 2, 7, 12, 13, 14, 16}, 'deplorable': {1}, 'captivity': {1, 6}, 'aggravated': {1, 6}, 'provocations': {1}, 'rendered': {1, 10, 14, 16, 17, 18}, 'sensible': {1, 2, 4, 7, 12, 14, 15, 16}, 'capable': {1, 5}, 'punishing': {1}, 'disposed': {1, 18, 17}, 'reward': {16, 1, 17}, 'attachments': {1}, 'effected': {1, 3, 7, 11, 14}, 'defensive': {1, 3, 11, 15, 17, 18}, 'became': {1, 2, 4, 5, 10}, 'put': {1, 3, 12, 5}, 'force': {1, 4, 5, 6, 7, 8, 9, 10, 12, 13, 14, 15, 16, 17, 18}, 'act': {1, 2, 3, 4, 5, 7, 8, 9, 10, 13, 14, 15, 16, 17}, 'empowers': {1}, 'president': {1, 10, 14}, 'out': {1, 2, 3, 5, 7, 12, 13, 16, 17, 18}, 'militia': {1, 2, 4, 5, 6, 7, 10, 12, 13, 15, 16, 17, 18}, 'accordingly': {1, 2, 5, 7, 18}, 'authorized': {1, 3, 4, 5, 13, 14, 16, 17, 18}, 'expedition': {1, 2, 5, 17}, 'regular': {1, 3, 4, 7, 10, 13, 15, 16, 17, 18}, 'quarter': {1, 3, 6, 7, 9, 14, 15, 17, 18}, 'combined': {1, 3, 12}, 'drafts': {1}, 'sufficient': {1, 7, 8, 9, 12, 13, 14, 15, 17, 18}, 'event': {1, 3, 5, 6, 7, 8, 13, 17}, 'yet': {1, 2, 3, 4, 5, 6, 7, 8, 10, 11, 12, 13, 14, 15, 16, 17, 18}, 'unknown': {16, 1, 6}, 'statement': {1, 3, 4, 6, 12, 18}, 'founded': {16, 1, 6}, 'estimate': {1, 2, 4, 5, 6, 7, 9, 12, 13, 14, 16}, 'expense': {1, 2, 3, 5, 6, 8, 9, 11, 12, 13, 16, 18}, 'disturbed': {1, 5, 8, 12, 15}, 'critical': {1, 10, 4}, 'posture': {8, 1, 4, 12}, 'maritime': {1, 9, 11, 16, 18}, 'make': {1, 2, 8, 9, 12, 13, 15, 16, 17}, 'thankful': {1, 12}, 'enjoyed': {1, 6}, 'reminds': {1}, 'same': {1, 2, 5, 6, 7, 8, 9, 10, 12, 13, 14, 15, 16, 18}, 'time': {1, 2, 3, 4, 5, 6, 7, 8, 9, 10, 11, 12, 13, 14, 15, 16, 17, 18}, 'circumspection': {1, 2}, 'becomes': {1, 17, 7}, 'preserve': {1, 5, 6, 7, 8, 9, 12, 13}, 'requires': {1, 7, 8, 9, 17}, 'overlook': {1}, 'tendency': {1, 3, 12, 15}, 'even': {1, 3, 4, 5, 6, 7, 9, 15, 16, 18}, 'preparations': {1, 9, 12, 16, 18}, 'abridge': {1}, 'thereby': {1, 5, 12, 14, 16}, 'least': {1, 5, 6, 8, 9, 12}, 'enhance': {1}, 'price': {1, 4, 12, 14, 17}, 'transporting': {1}, 'productions': {1, 14}, 'markets': {1}, 'recommend': {1, 2, 3, 4, 5, 8, 10, 11, 13, 16, 17}, 'serious': {1, 4, 7, 8, 10, 11, 15, 18}, 'reflections': {1, 6}, 'how': {1, 4, 6, 7, 9, 12, 13, 14, 18}, 'far': {1, 2, 3, 4, 5, 6, 7, 9, 10, 11, 12, 13, 15, 17, 18}, 'what': {1, 4, 5, 6, 7, 8, 9, 12, 13, 14, 15, 16, 17, 18}, 'mode': {1, 2, 5, 7, 14}, 'guard': {1, 2, 3, 7, 9, 12, 17}, 'embarrassments': {1, 5, 7, 9, 12}, 'contingencies': {1, 12}, 'encouragements': {1, 4}, 'navigation': {1, 2, 6, 7, 8, 9, 10, 11, 12, 13, 14, 15, 16, 18}, 'dependent': {1, 4, 12, 7}, 'bottoms': {1}, 'moments': {1, 5}, 'fisheries': {8, 1, 13}, 'transportation': {1, 4, 9}, 'produce': {1, 4, 9, 10, 13, 14, 15, 16, 17}, 'offer': {1, 15}, 'guarding': {1, 11, 12}, 'ourselves': {1, 3, 4, 5, 6, 11, 12, 15, 16}, 'evil': {1, 13, 14}, 'seems': {1, 2, 5, 8, 9}, 'trade': {1, 3, 4, 6, 7, 9, 10, 12, 13, 16, 18}, 'belongs': {1, 12}, 'mediterranean': {1, 7, 12, 13, 14, 15, 16, 17, 18}, 'unite': {1, 2, 5, 6, 7, 8, 12}, 'rendering': {1, 5, 6, 14, 15}, 'distressful': {1}, 'think': {1, 6, 9, 12, 13, 16, 17, 18}, 'misemployed': {1}, 'lead': {1, 3, 10, 15, 16, 18}, 'relief': {8, 1, 9, 7}, 'passed': {1, 4, 17, 7}, 'judiciary': {1, 3, 4, 5, 10, 11, 12, 17}, 'system': {1, 2, 3, 4, 5, 8, 9, 10, 11, 12, 13, 15, 16}, 'opened': {1, 17}, 'doors': {1}, 'justice': {1, 2, 3, 4, 5, 6, 7, 8, 9, 10, 11, 13, 14, 15, 16, 17, 18}, 'descriptions': {16, 1}, 'consider': {1, 9, 11, 12, 13, 14, 16}, 'improvements': {1, 8, 11, 13, 14, 15, 17}, 'process': {1, 4, 5, 10, 17}, 'sentences': {1}, 'issuing': {1}, 'federal': {1, 9, 10, 11, 13, 17}, 'courts': {1, 3, 4, 11, 12}, 'through': {1, 3, 9, 10, 12, 13, 14, 16}, 'merchants': {1}, 'sea': {1, 8, 9, 10, 11, 12, 13, 14, 15, 16, 17, 18}, 'men': {1, 2, 5, 7, 8, 10, 12, 15, 16, 17, 18}, 'called': {1, 4, 5, 6, 7, 8, 9, 11, 15, 16, 17, 18}, 'appointment': {1, 2, 5, 7}, 'consuls': {8, 1, 13}, 'countries': {1, 8, 10, 11, 13, 15, 16}, 'regulate': {16, 1, 4, 9}, 'jurisdiction': {1, 4, 8, 14, 15, 17, 18}, 'functions': {1, 5, 10, 13, 14, 15, 16, 17}, 'permitted': {1, 2, 4, 9, 12, 13, 14, 15, 16, 17}, 'either': {1, 4, 7, 9, 12, 16, 17, 18}, 'express': {1, 10}, 'convention': {1, 13, 14, 15, 16}, 'friendly': {1, 3, 7, 9, 12, 13, 14, 15, 16, 18}, 'indulgence': {1, 5}, 'places': {1, 2, 3, 5, 14, 15, 16, 18}, 'residence': {1, 11, 12}, 'consular': {8, 1}, 'too': {1, 2, 4, 5, 6, 7, 11, 12, 13, 14, 15, 16, 17, 18}, 'his': {1, 4, 5, 6, 7, 8, 9, 10, 11, 12, 13, 16, 17, 18}, 'christian': {1}, 'majesty': {1, 6, 7, 8, 9, 10}, 'stipulated': {1, 7, 10, 12, 14}, 'cases': {1, 3, 4, 7, 8, 9, 12, 13, 15, 17}, 'aid': {1, 3, 5, 9, 12, 16, 17, 18}, 'established': {1, 2, 7, 9, 12, 14, 15, 17, 18}, 'here': {1, 4, 6, 7, 11, 12, 13, 17}, 'legislative': {1, 2, 3, 4, 5, 6, 7, 12, 14}, 'carry': {1, 6, 11, 12, 17}, 'stipulations': {1, 3, 14}, 'full': {1, 2, 3, 4, 5, 6, 7, 9, 10, 16}, 'mint': {1, 2, 3, 5, 6}, 'standards': {1}, 'office': {1, 2, 3, 4, 5, 7, 12}, 'subjects': {1, 4, 6, 8, 9, 10, 13, 15, 18}, 'presume': {1, 3, 15}, 'resume': {1, 2, 4, 5, 10, 18}, 'abundantly': {1}, 'urged': {1, 2, 15}, 'ngentlemen': {1, 2, 3, 4, 5, 6, 7, 9, 10, 11}, 'sufficiency': {1}, 'appropriated': {16, 1, 14, 17}, 'leaves': {1, 7}, 'no': {1, 2, 3, 4, 5, 6, 7, 8, 9, 11, 12, 13, 14, 15, 16, 17, 18}, 'doubt': {1, 3, 5, 7, 10, 12, 15, 16}, 'residuary': {1}, 'commensurate': {1, 4, 5, 7, 10}, 'faith': {1, 4, 5, 8, 10, 11, 12, 13, 14, 17}, 'stands': {1}, 'pledged': {8, 1, 2, 18}, 'allow': {1, 6, 17}, 'moreover': {1, 18, 6}, 'favorite': {1, 6}, 'policy': {1, 2, 4, 5, 6, 7, 9, 10, 11, 12, 18}, 'merely': {1, 13, 5, 17}, 'payment': {1, 3, 4, 14, 15}, 'debt': {1, 2, 3, 4, 5, 6, 7, 12, 13, 14, 15, 16, 17, 18}, 'funded': {1, 14, 15, 16, 17, 18}, 'fast': {1}, 'growing': {1, 13, 17, 15}, 'permit': {1, 4, 5, 6, 11, 18}, 'exonerate': {1}, 'principal': {1, 2, 7, 8, 9, 11, 12, 13, 14, 15, 16, 17, 18}, 'appropriation': {1, 2, 7, 12, 14, 17}, 'land': {1, 5, 7, 9, 10, 12, 16, 18}, 'explains': {1}, 'dispositions': {1, 10, 14, 15, 16, 17}, 'subject': {1, 2, 3, 4, 5, 6, 7, 8, 9, 10, 11, 12, 13, 14, 15, 16, 17}, 'sooner': {1, 5}, 'contribute': {8, 1, 3, 17}, 'along': {1, 14, 7}, 'actual': {1, 5, 6, 7, 8, 12, 13, 15, 18}, 'reduction': {1, 2, 3, 12, 13}, 'salutary': {1, 12, 13, 17}, 'pursuing': {1, 3, 6, 7, 13, 14, 15}, 'weighty': {1}, 'business': {1, 2, 6, 7, 8, 9, 10, 11, 12, 13, 16}, 'indulge': {1, 4, 6, 11, 12}, 'fullest': {16, 1, 2, 9}, 'persuasion': {1, 2, 4, 5, 6, 12}, 'consultation': {1}, 'equally': {1, 2, 7, 10, 13, 17, 18}, 'marked': {1, 4, 15}, 'animated': {1}, 'love': {1, 4, 6, 12, 18}, 'whatever': {1, 7, 8, 12, 16, 17, 18}, 'undiminished': {1}, 'zeal': {1, 3, 5, 10, 17}, 'inspire': {1, 3, 7}, 'happy': {1, 2, 5, 6, 10, 11, 12, 18}, 'successful': {8, 1, 16, 17}, 'respective': {16, 1, 2, 9}, 'trusts': {1, 17, 7}, 'instrumental': {1}, 'promoting': {1, 3, 7}, 'george': {1}, 'washington': {1, 10, 5}, 'meet': {2, 3, 7, 8, 10, 11, 12, 13, 14, 15, 16, 17, 18}, 'upon': {2, 3, 4, 5, 6, 7, 8, 10, 17, 18}, 'occasion': {2, 3, 4, 5, 6, 7, 8, 12, 16}, 'feelings': {2, 6}, 'naturally': {2, 5, 6, 7, 9}, 'inspired': {17, 2, 12}, 'strong': {2, 3, 5, 6, 7, 13, 17}, 'prosperous': {2, 3, 8, 9, 10, 11}, 'situations': {2}, 'labors': {11, 2, 10, 4}, 'just': {2, 3, 5, 6, 7, 10, 11, 12, 13, 14, 15, 16, 17}, 'commenced': {2, 7, 8, 11, 12, 15, 18}, 'guidance': {2, 5}, 'prudent': {8, 9, 2, 12}, 'patriotic': {18, 2, 11, 5}, 'issue': {2, 3, 5, 6, 8, 14, 16, 17, 18}, 'stability': {2, 3, 5}, 'numerous': {2, 5, 6, 8, 10}, 'providential': {2, 7}, 'grateful': {2, 5, 6}, 'acknowledgments': {2}, 'abundance': {2, 10, 13}, 'rewarded': {2}, 'industry': {2, 6, 7, 10, 12, 13, 14, 17, 18}, 'husbandman': {2}, 'escape': {2, 13, 5}, 'recollection': {2}, 'observations': {9, 2, 3, 12}, 'satisfied': {2, 12}, 'progressive': {2, 3, 5, 7}, 'tracing': {2}, 'causes': {2, 4, 6, 8, 11, 12, 15, 17}, 'remarked': {2}, 'effects': {2, 7, 9, 13, 15}, 'revival': {2}, 'private': {2, 4, 5, 7, 9, 11, 14, 15, 16, 17}, 'eminently': {2}, 'contributed': {16, 2}, 'observed': {18, 17, 2, 3}, 'decisive': {2, 4}, 'proofs': {2, 3, 8, 9, 17}, 'reputation': {2, 4, 5, 7, 12, 17}, 'nation': {2, 3, 4, 5, 7, 8, 9, 10, 11, 12, 13, 14, 15, 16, 17, 18}, 'nevertheless': {8, 2, 13}, 'confirmation': {9, 2, 15}, 'disclosed': {2, 6}, 'several': {2, 4, 8, 9, 12, 15, 16, 18}, 'rapid': {2, 6, 12, 13, 17}, 'subscriptions': {2}, 'bank': {2, 3, 4, 13, 14}, 'sum': {2, 12, 13, 14, 15, 16, 18}, 'subscribed': {2}, 'single': {17, 2, 12}, 'day': {2, 4, 5, 6, 7, 12, 14, 15, 16, 17, 18}, 'striking': {2, 5, 6}, 'evidences': {2}, 'resource': {2, 4}, 'interval': {2, 18}, 'recess': {9, 2, 4, 5}, 'paid': {2, 4, 8, 13, 14, 17, 18}, 'different': {2, 6, 7, 10, 13, 15, 16}, 'specially': {2}, 'provided': {2, 4, 8, 9, 12, 15, 17, 18}, 'resolutions': {2}, 'defense': {2, 4, 5, 8, 9, 10, 11, 12, 13, 16, 17, 18}, 'accomplish': {9, 2, 3, 5}, 'principles': {2, 3, 4, 5, 6, 7, 8, 12, 13, 14, 16, 18}, 'primary': {2, 11, 4, 7}, 'wish': {2, 3, 4, 5, 6, 7, 12, 14}, 'treaties': {2, 4, 5, 6, 7, 8, 10, 12, 15, 16}, 'provisionally': {2, 6}, 'concluded': {2, 4, 6, 7, 11, 16, 18}, 'used': {13, 2, 11, 5}, 'attach': {2}, 'wavering': {2}, 'confirm': {2, 3, 7, 9, 10}, 'friendship': {2, 5, 6, 7, 10, 12, 13, 14, 15, 16, 17, 18}, 'welldisposed': {2}, 'description': {2, 5}, 'pacification': {2, 3}, 'desired': {2, 6}, 'moderation': {2, 4, 5, 6, 10, 14, 16, 17, 18}, 'having': {2, 3, 4, 5, 7, 8, 9, 12, 13, 14, 15, 16, 17, 18}, 'proved': {2}, 'unsuccessful': {2}, 'convince': {2, 5}, 'refractory': {2}, 'power': {2, 4, 5, 6, 7, 8, 9, 10, 12, 13, 14, 16, 17, 18}, 'offensive': {2, 4}, 'operations': {2, 3, 5, 6, 8, 17}, 'therefore': {2, 4, 5, 7, 8, 9, 10, 12, 13, 14, 15, 16, 17, 18}, 'however': {2, 3, 4, 5, 6, 7, 8, 9, 10, 12, 13, 14, 15, 16, 17, 18}, 'consistently': {2, 4}, 'possible': {8, 2, 13}, 'dictates': {2}, 'humanity': {2, 11, 12, 6}, 'crowned': {2, 7}, 'depending': {2, 3, 6, 11, 12}, 'expeditions': {17, 2, 4}, 'whose': {2, 4, 6, 7, 8, 10, 11, 13, 14, 15, 16, 17}, 'enterprise': {2, 7, 9, 12, 14, 15, 16, 17}, 'intrepidity': {2}, 'commendation': {2}, 'continued': {2, 4, 7, 8, 9, 10, 11, 12, 13, 17, 18}, 'deluded': {2, 5}, 'numbers': {2, 5, 7, 8, 12, 13}, 'individuals': {2, 4, 5, 7, 8, 10, 14, 15, 16, 17}, 'belonging': {2, 4, 5, 13, 18}, 'lately': {2, 3, 6, 7, 9, 10, 12, 17}, 'renounced': {2, 10}, 'opposition': {2, 3, 5, 9, 15, 16}, 'removed': {11, 2, 10, 13}, 'immediate': {2, 8, 9, 12, 14, 15, 16, 18}, 'sincerely': {2, 6, 10, 15, 18}, 'coercion': {2, 5}, 'future': {2, 3, 4, 5, 6, 7, 9, 11, 12, 14, 15, 16, 18}, 'cease': {17, 2, 11, 7}, 'intimate': {2}, 'succeed': {2}, 'calculated': {2, 3, 7}, 'advance': {2, 4, 5, 7, 15, 16}, 'firmly': {2}, 'order': {2, 3, 4, 5, 6, 7, 8, 10, 11, 12, 13, 14, 17, 18}, 'experience': {2, 4, 6, 7, 11, 12, 13, 14, 15}, 'benefits': {2, 6, 7}, 'impartial': {2, 12}, 'dispensation': {2}, 'alienating': {2}, 'lands': {2, 9, 10, 12, 13, 15, 16, 17}, 'main': {2}, 'source': {2, 5, 8, 9, 11, 12, 13, 14, 16, 17, 18}, 'discontent': {2, 15}, 'obviate': {8, 2, 4}, 'imposition': {2, 3, 5}, 'practicable': {2, 3, 5, 6, 7, 10, 14}, 'controversy': {2}, 'concerning': {2}, 'reality': {2}, 'extent': {2, 3, 5, 7, 9, 11, 12, 14, 15, 17, 18}, 'alienations': {2}, 'regulations': {9, 2, 3}, 'tending': {2, 3, 12}, 'equitable': {8, 2}, 'deportment': {2}, 'rational': {2, 6, 8, 10, 12}, 'experiments': {2, 6}, 'imparting': {2}, 'civilization': {2, 3, 6}, 'suit': {2}, 'condition': {2, 3, 4, 5, 6, 12, 13, 15}, 'executive': {2, 4, 5, 9, 10, 12, 16, 17, 18}, 'enabled': {2, 7, 12, 13, 15, 16, 17, 18}, 'employ': {16, 2, 11, 13}, 'long': {2, 3, 6, 8, 9, 11, 13, 17, 18}, 'accustomed': {2}, 'preservation': {2, 3, 8, 11, 15, 17}, 'efficacious': {2, 3, 12, 5}, 'inflicting': {2}, 'penalties': {2, 4}, 'violating': {2}, 'infringe': {2}, 'endanger': {2, 3, 5, 15, 16}, 'corresponding': {2}, 'mild': {2, 5, 6}, 'religion': {2, 11, 13}, 'philanthropy': {2}, 'unenlightened': {2}, 'race': {2, 12}, 'materially': {18, 2, 3}, 'depends': {9, 2, 10, 4}, 'conformable': {2, 18}, 'sound': {16, 2, 12}, 'laying': {2, 13}, 'duties': {2, 3, 4, 5, 9, 10, 12, 13, 15, 16, 17, 18}, 'distilled': {2, 3}, 'spirits': {2, 3}, 'subdivisions': {2}, 'districts': {16, 2, 15}, 'surveys': {8, 17, 2, 7}, 'assignment': {2, 14}, 'compensations': {2}, 'likewise': {2, 3, 6, 7}, 'materials': {2, 6, 7, 12, 14, 16, 17}, 'wanting': {2, 3, 5, 12, 15, 17, 18}, 'guide': {2, 3, 13}, 'calculation': {2, 5, 15}, 'readily': {2, 11, 6}, 'conceived': {2, 12, 5}, 'must': {2, 3, 4, 5, 6, 8, 9, 10, 11, 12, 14, 15, 16, 17, 18}, 'adjustment': {2, 6, 7, 9, 18}, 'rates': {2, 3}, 'competency': {2}, 'limits': {2, 3, 4, 5, 7, 8, 12, 13, 14, 15, 16, 18}, 'prescribed': {2}, 'hoped': {2, 3, 4, 11, 13}, 'result': {2, 5, 6, 8, 9, 10, 11, 12, 13, 17}, 'secured': {2, 7, 10, 12, 15, 18}, 'two': {2, 4, 8, 12, 13, 14, 15, 16, 17, 18}, 'probable': {11, 2, 10, 5}, 'view': {2, 3, 5, 6, 7, 8, 9, 11, 12, 13, 14, 15, 16}, 'instances': {8, 2, 4, 7}, 'revision': {2, 3, 7, 8, 9, 10}, 'advisable': {2, 3, 6, 7}, 'whole': {2, 5, 7, 10, 12, 13, 14, 15, 16, 17, 18}, 'expected': {2, 3, 4, 6, 9, 10, 12, 13, 15, 16, 17, 18}, 'propriety': {2, 7}, 'necessity': {2, 3, 4, 5, 6, 7, 9, 11, 13, 14, 15, 16, 18}, 'tax': {9, 2, 4, 13}, 'misconception': {2, 5}, 'given': {2, 3, 4, 5, 7, 8, 9, 10, 12, 14, 15, 17, 18}, 'disposition': {2, 4, 6, 8, 9, 10, 12, 14, 16}, 'yields': {16, 2}, 'explanations': {18, 2, 10, 15}, 'apprehensions': {2, 13}, 'true': {2, 4, 5, 6, 7, 9, 11, 13}, 'entertain': {2, 3, 5, 6, 10}, 'way': {2, 5, 6, 7, 13, 14, 16, 17}, 'motives': {2, 4, 5, 6, 7, 9, 11}, 'arise': {2, 3, 5, 6, 9, 10, 16}, 'virtuous': {2, 5, 6}, 'design': {2, 12}, 'varied': {2}, 'remove': {2, 5, 8, 13, 14}, 'wellintentioned': {2}, 'objections': {8, 2, 15}, 'happen': {18, 2, 10, 12}, 'exist': {8, 2}, 'consist': {18, 2, 11}, 'wise': {11, 16, 2, 3}, 'variations': {2}, 'occasions': {2, 8, 15, 16, 18}, 'steady': {8, 17, 2, 10}, 'firm': {2, 4, 6, 9, 18}, 'adherence': {2}, 'constitutional': {2, 3, 6, 10, 12, 13, 14, 15, 17}, 'evidence': {2, 6, 11, 16, 18}, 'consult': {2}, 'wishes': {9, 2, 10}, 'foundations': {2, 5}, 'affections': {8, 2, 4}, 'pursuant': {2, 3, 6}, '10': {16, 2}, 'miles': {2, 5, 13, 15, 17}, 'square': {2, 13}, 'seat': {2, 5, 9, 10, 11, 16}, 'fixed': {8, 2, 12, 13}, 'announced': {2}, 'proclamation': {2, 3, 4, 5, 10, 11, 17, 18}, 'comprehend': {2}, 'sides': {2, 10}, 'river': {2, 3, 7, 8, 9, 13, 16, 17}, 'potomac': {2}, 'towns': {2, 9, 15, 16, 17, 18}, 'alexandria': {2}, 'georgetown': {2}, 'city': {2, 8, 10, 11, 16, 17}, 'agreeably': {8, 2, 6, 7}, 'prospect': {2, 5, 6, 7, 10, 11, 12, 18}, 'favored': {2, 6}, 'rate': {2}, 'sales': {2, 12}, 'ample': {2, 14, 7}, 'funds': {17, 2, 3, 7}, 'carrying': {2, 3, 5, 6, 7, 12, 13, 14}, 'buildings': {10, 2, 3, 5}, 'expectation': {2, 5, 6, 7, 8, 11, 12, 14, 16, 17, 18}, 'completion': {2, 13}, 'census': {16, 2, 12}, 'notified': {2, 3, 5}, 'excepting': {2}, 'instance': {2, 3}, 'return': {2, 5, 6, 8, 10, 12, 13, 17, 18}, 'informal': {2}, 'omitted': {8, 2, 15}, 'miscarried': {2}, 'returns': {9, 2}, 'charged': {2, 4, 5, 7, 10, 12, 16, 17}, 'assurance': {2, 5, 12, 15, 16}, 'population': {2, 6, 7, 11, 12, 13, 14}, 'borders': {2, 18, 6}, '4000000': {2}, 'inform': {2, 3, 7, 10, 12, 13, 15, 17, 18}, '2500000': {2}, 'similar': {2, 5, 13, 16, 17}, 'except': {9, 2}, 'small': {2, 3, 4, 5, 7, 9, 12, 13, 14, 15, 16, 17}, 'charges': {2, 3}, 'like': {2, 4, 5, 9, 10, 13, 14, 18}, '6000000': {2, 14}, 'set': {2, 7}, 'foot': {2}, 'assured': {10, 2, 3, 12}, 'cherokees': {16, 2, 3, 4}, 'six': {2, 5}, 'ratification': {2, 6, 14, 15, 18}, 'entering': {2, 18, 14}, 'discharge': {2, 3, 4, 5, 9, 12, 13, 14, 15, 17}, 'anticipate': {2, 14}, 'difficulties': {2, 10, 11, 12, 13, 14, 17, 18}, 'necessarily': {2, 7, 8, 14, 15, 18}, 'extensive': {2, 4, 7, 9, 10, 12, 16, 18}, 'happily': {8, 2, 18}, 'surmounted': {2}, 'zealous': {2, 3, 7, 8, 11}, 'judicious': {2}, 'predecessors': {2}, 'remain': {2, 7, 10, 11, 12, 13, 14, 17, 18}, 'accomplished': {2, 4, 6, 7, 8, 9}, 'comprehensive': {2, 7}, 'weal': {2}, 'limited': {2, 4}, 'receiving': {2}, 'loans': {2, 3, 4, 8, 13}, 'proposed': {2, 4, 5, 7, 13, 14, 17, 18}, 'making': {2, 3, 7, 8, 9, 13, 14}, 'expired': {2}, 'statements': {2, 6}, 'department': {2, 3, 6, 7, 10, 12, 13, 16}, 'soon': {2, 4, 7, 8, 10, 12, 13, 14, 15, 16, 18}, 'apprise': {2}, 'exact': {2, 5, 10, 12, 13, 14, 15, 16}, 'enough': {9, 2, 4, 17}, 'views': {2, 9, 12, 13, 14, 15, 16, 18}, 'substantially': {2}, 'fulfilled': {2, 10, 5}, 'subscription': {2}, 'domestic': {2, 6, 13, 14, 17}, 'embraced': {2, 3, 4, 5}, 'greatest': {17, 2, 6, 14}, 'proportion': {2, 3, 7, 9, 12, 17, 18}, 'creditors': {17, 2}, 'acceptance': {2, 18}, 'accommodation': {2, 9, 10, 11, 13, 14}, 'actuated': {2, 5}, 'debts': {2, 3, 8, 12, 13, 14}, 'said': {2, 18}, 'remains': {2, 7, 8, 9, 14, 17}, 'unsubscribed': {2}, 'announce': {17, 2, 12, 5}, 'promise': {2, 14}, 'unforeseen': {2}, 'exigency': {2, 11, 4}, 'occurs': {2}, 'supersede': {11, 2, 3, 14}, 'claim': {2, 6, 15}, 'early': {2, 3, 4, 5, 15, 16, 17, 18}, 'current': {2, 3, 4, 13, 14, 15, 16, 17, 18}, 'service': {2, 3, 4, 5, 6, 7, 8, 9, 10, 11, 12, 13, 14, 15, 16, 17, 18}, 'ensuing': {2, 3, 4, 6, 7, 8, 9, 10, 11, 12, 13, 14, 15, 16, 17}, 'together': {2, 6, 8, 9, 10, 11, 13, 14, 17}, 'demands': {2, 7, 12, 13, 15, 16, 17, 18}, 'discharged': {2, 11, 13, 14}, 'casualties': {2}, 'arisen': {2, 4, 9, 10, 15, 16}, 'specific': {2, 18, 12}, 'content': {2, 3}, 'myself': {2, 3, 4, 6, 7, 8, 10, 14}, 'reference': {2, 18, 7}, 'urgency': {2, 14}, 'hitherto': {2, 3, 4, 5, 8, 9, 12, 16}, 'postponed': {8, 2, 5}, 'definitive': {2}, 'recall': {9, 2, 7}, 'leisure': {2}, 'mention': {8, 2, 6, 7}, 'sale': {2, 4, 13, 7}, 'vacant': {2, 12}, 'certainly': {17, 2, 18}, 'viewed': {8, 2, 3, 7}, 'connection': {2, 4, 8, 10, 11}, 'magazines': {2, 18, 4, 6}, 'arsenals': {2, 4, 6}, 'fortification': {2, 11}, 'vulnerable': {17, 2}, 'divine': {9, 2, 3}, 'rest': {2, 4, 14, 7}, 'systematic': {11, 9, 2, 3}, 'solid': {17, 2, 3, 5}, 'exposed': {2, 4, 5, 6, 7, 8, 13, 14, 17, 18}, 'little': {2, 7, 8, 12, 15}, 'hazards': {2}, 'fortuitous': {2}, 'sufficiently': {2, 3, 5, 7, 10, 12, 16, 17, 18}, 'liberal': {9, 2, 14, 7}, 'facility': {2, 15}, 'increased': {9, 2, 3, 7}, 'instrumentality': {2}, 'diffusing': {2, 7}, 'proceedings': {2, 3, 4, 5, 9, 13, 18}, 'while': {2, 3, 4, 5, 6, 7, 8, 9, 10, 11, 12, 14, 15, 16, 17, 18}, 'serves': {2}, 'misrepresentation': {2}, 'additional': {2, 3, 4, 5, 11, 12, 14}, 'cross': {2}, 'posts': {2, 6, 7, 8, 9, 12, 16}, 'especially': {2, 12, 6, 15}, 'points': {2, 3, 4, 10, 12, 18}, 'northern': {16, 9, 2}, 'material': {2, 3, 4, 5, 12, 18}, 'utility': {2, 12, 5, 15}, 'disorders': {2}, 'existing': {2, 4, 6, 7, 10, 13, 14, 15, 17, 18}, 'scarcity': {2, 6}, 'change': {2, 6, 9, 12, 13, 14, 17, 18}, 'distressing': {2, 6}, 'poorer': {2}, 'classes': {2}, 'strongly': {2}, 'procuring': {2, 4, 7, 9, 12, 13}, 'artists': {2, 3}, 'apparatus': {2, 4}, 'derived': {9, 2, 4, 17}, 'standard': {2}, 'once': {2, 5, 6, 7, 9, 11, 12}, 'invariable': {2}, 'universal': {2}, 'councils': {2, 3, 6, 14, 18}, 'reasons': {8, 2, 7}, 'reimbursing': {2}, 'timely': {17, 2, 3, 14}, 'judiciously': {2}, 'applied': {2, 3, 11, 13, 14, 17, 18}, 'save': {2, 13}, 'burthening': {2}, 'taxes': {2, 8, 12, 13, 14}, 'extinguishment': {17, 2, 6, 7}, 'lost': {2, 4, 8, 17, 18}, 'availing': {2}, 'abatement': {3}, 'felicitating': {3}, 'continuance': {3, 5, 6, 7, 13, 14, 17, 18}, 'generally': {3, 6, 12, 15, 16, 17}, 'indian': {3, 4, 5, 6, 8, 9, 12, 13, 14, 15, 16, 17, 18}, 'past': {3, 8, 11, 12, 18}, 'distressed': {3}, 'northwestern': {9, 18, 3, 14}, 'terminated': {3, 6, 9, 11, 17}, 'learn': {3}, 'reiterated': {3}, 'effecting': {9, 3, 7}, 'issued': {18, 3, 4, 5}, 'outrageous': {3}, 'persevering': {10, 3, 6}, 'hostility': {9, 3, 4, 6}, 'whom': {3, 4, 5, 6, 12, 13, 16, 18}, 'contest': {16, 3, 6, 14}, 'earnest': {3, 4, 5, 7}, 'desire': {3, 4, 5, 9, 10, 12, 14, 15, 16}, 'procure': {3}, 'tranquillity': {3, 4, 5, 6, 7, 8, 11}, 'stop': {3}, 'effusion': {3, 5, 6}, 'blood': {3, 5, 6}, 'arrest': {16, 3, 4}, 'forward': {17, 3, 12, 5}, 'prevalent': {10, 3}, 'led': {3}, 'strenuous': {3, 4}, 'channels': {9, 3, 17}, 'consulted': {3}, 'anticipations': {3, 4, 5, 6}, 'scruples': {3}, 'find': {3, 5, 7, 11, 12, 13, 14, 16}, 'attainable': {3, 6}, 'ascertain': {3, 5, 7, 8, 9, 10}, 'unequivocally': {3}, 'detail': {3}, 'pursued': {3, 4, 5, 6, 9, 10, 12, 18}, 'consequences': {3, 4, 5, 6, 7, 8, 9, 14}, 'want': {13, 3, 4, 12}, 'evince': {3, 4, 7}, 'devised': {3, 6}, 'indeed': {3, 5, 8, 9, 12, 14, 16, 18}, 'though': {3, 4, 5, 6, 7, 12, 14, 17}, 'despaired': {3}, 'promised': {3}, 'anything': {3, 15}, 'happened': {17, 3}, 'attempts': {8, 17, 10, 3}, 'fallen': {3, 5, 12, 13, 16}, 'victims': {16, 3, 6}, 'commonly': {3}, 'respected': {10, 3}, 'savages': {12, 3, 4, 5}, 'insufficient': {3, 6}, 'protect': {3, 5, 7, 8, 9, 12, 13, 16, 17, 18}, 'massacre': {3}, 'emissaries': {3}, 'considered': {3, 12, 14, 15, 18}, 'does': {3}, 'families': {16, 3, 5}, 'deceased': {3}, 'informed': {18, 3}, 'besides': {3, 5, 7, 12, 14, 16}, 'continuation': {9, 3, 17}, 'appearances': {18, 3}, 'threatening': {18, 3}, 'symptoms': {3, 5}, 'revived': {3}, 'south': {3, 15}, 'name': {3, 5, 8, 9, 11, 16}, 'chickamaugas': {3}, 'inhabiting': {16, 3}, 'five': {16, 3, 12, 13}, 'villages': {3}, 'tennessee': {16, 3}, 'practice': {13, 3, 4, 12}, 'committing': {3, 7, 11, 12, 14, 16}, 'treaty': {3, 4, 6, 7, 8, 9, 10, 11, 13, 14, 15, 16, 18}, 'holston': {3}, 'cherokee': {3, 6}, 'july': {8, 3}, '1791': {3}, 'prevented': {8, 16, 3, 14}, 'repetition': {8, 3}, 'tribe': {3, 14, 15}, 'vicinity': {18, 3}, 'recently': {3, 6, 7, 12, 16, 18}, 'perpetrated': {3, 5, 6}, 'wanton': {3, 6}, 'unprovoked': {3}, 'precautions': {3}, 'strictly': {16, 17, 3, 13}, 'enjoined': {16, 3}, 'understood': {9, 3, 12, 5}, 'breach': {3}, 'aggression': {3, 7, 9, 15, 17, 18}, 'whatsoever': {3, 4, 5, 6}, 'alleged': {9, 3}, 'pretext': {3}, 'believe': {3, 7, 11, 13, 15}, 'purpose': {3, 7, 8, 9, 12, 13, 15, 17, 18}, 'alternative': {3, 5}, 'prosecution': {3}, 'failure': {9, 3, 12, 17}, 'large': {3, 4, 7, 13, 16}, 'raised': {11, 17, 18, 3}, 'recruited': {3}, 'incomplete': {11, 3}, 'pains': {3}, 'discipline': {3}, 'kind': {9, 3, 12, 14}, 'performed': {3}, 'delay': {3, 4, 5, 6, 7, 9, 13, 14}, 'dictated': {10, 3, 5, 15}, 'termination': {3, 6, 7, 11, 16, 17}, 'preferable': {3}, 'immature': {3}, 'suggested': {3, 4, 9, 11, 16}, 'things': {3, 4, 5, 7, 8, 12, 13, 14, 16, 17, 18}, 'judge': {18, 3, 12}, 'stimulus': {3}, 'recruiting': {3}, 'looking': {11, 3}, 'consolation': {18, 3}, 'product': {11, 3}, 'likely': {3, 4, 7, 17, 18}, 'alluded': {3}, 'proceeds': {3}, 'supposition': {3}, 'extension': {17, 3, 14, 15}, 'dismiss': {3}, 'without': {3, 4, 5, 6, 7, 8, 9, 11, 12, 13, 14, 15, 16, 17, 18}, 'recommending': {3, 12}, 'energy': {3, 4, 5, 6, 7, 8, 15, 18}, 'throughout': {11, 3, 4}, 'interior': {8, 11, 3, 7}, 'restraining': {17, 3, 15}, 'commission': {3, 4, 10, 13, 17}, 'outrages': {3, 5, 6}, 'plans': {3, 13}, 'prove': {3, 4, 6}, 'nugatory': {3}, 'rewards': {3}, 'employment': {3, 5, 12, 16, 17}, 'qualified': {9, 3}, 'trusty': {3}, 'reside': {3, 7}, 'agents': {3, 7, 8, 12, 14, 15}, 'neighborhood': {3, 5, 15}, 'addition': {17, 3, 4, 13}, 'eligible': {17, 3, 7}, 'scale': {18, 3, 12, 13}, 'wants': {3, 12, 13, 14}, 'extortion': {3, 4}, 'influence': {3, 5, 7, 8, 11}, 'cementing': {3}, 'revenue': {3, 5, 6, 9, 10, 11, 12, 14, 15, 17, 18}, 'intimated': {3}, 'impediments': {3}, 'embarrass': {3, 14}, 'collection': {9, 3, 13}, 'lessened': {16, 3, 7}, 'lessening': {3}, 'local': {11, 16, 3, 13}, 'contentment': {3, 6}, 'manifested': {3}, 'quarters': {3, 6}, 'judged': {8, 3, 5}, 'special': {3, 7, 13, 17, 18}, 'interposition': {3}, 'warning': {18, 3, 12}, 'unlawful': {3}, 'combinations': {3, 5}, 'obstruct': {3, 12}, 'operation': {3, 4, 5, 7, 9, 13, 14, 16}, 'question': {3, 4, 7, 8, 9, 15, 16, 17, 18}, 'announcing': {3}, 'bringing': {3, 6, 12, 14, 15, 17}, 'infractors': {3}, 'thereof': {3, 5, 13, 14, 17}, 'securing': {17, 3, 6, 14}, 'obedience': {18, 3, 12, 5}, 'thereto': {3, 6}, 'offenders': {3, 5, 6, 10, 16, 18}, 'legal': {16, 3, 4, 5}, 'depend': {3, 7, 8, 16, 17, 18}, 'assert': {3, 4}, 'maintain': {3, 5, 7, 9, 12, 13, 14, 17}, 'fulfilling': {8, 3, 12, 7}, 'count': {16, 3, 13, 15}, 'departments': {16, 3, 6, 7}, 'bring': {3, 4, 5, 9, 10, 11, 16, 17, 18}, 'representation': {3, 4, 12}, 'judges': {3, 12, 15}, 'supreme': {3, 5, 7, 9, 11, 18}, 'court': {3, 5, 6, 12, 16, 18}, 'inconveniences': {3, 14, 7}, 'experienced': {9, 3, 5}, 'structure': {3}, 'relax': {9, 3}, 'efficacy': {16, 3, 12}, 'connected': {3, 5, 6, 8, 13, 16}, 'facilitate': {3, 12}, 'taking': {3, 8, 12, 16, 17, 18}, 'bail': {3}, 'processes': {3}, 'supplementary': {3}, 'definition': {3, 12}, 'offenses': {8, 3, 4}, 'punishment': {8, 17, 3, 6}, 'presumed': {3, 4}, 'unnecessary': {3, 12, 13, 14, 16, 17}, 'might': {3, 4, 5, 7, 8, 10, 11, 12, 13, 14, 15, 17, 18}, 'disturb': {3, 14, 15}, 'sometimes': {16, 3, 12, 15}, 'preventing': {17, 3}, 'aggressions': {16, 10, 3}, 'territory': {3, 4, 7, 8, 11, 13, 14, 15}, 'infractions': {8, 3}, 'furnishing': {3, 5, 7, 14, 16, 18}, 'complaint': {18, 3}, 'maintenance': {3, 9, 12, 13, 15}, 'presented': {3, 4, 5, 6, 13}, 'expiration': {3, 7}, 'takes': {16, 3, 14}, 'engaging': {3}, 'putting': {18, 3}, 'beginning': {16, 18, 3, 7}, 'coinage': {3, 5}, 'half': {3, 13, 15, 16, 17}, 'dimes': {3}, 'coins': {3, 5}, 'circulation': {3}, 'calling': {18, 3, 5, 14}, 'regulation': {3, 13}, 'correspondency': {3}, 'money': {3, 12, 13, 14}, 'concerns': {17, 3, 12}, 'resumed': {8, 3}, 'represented': {3, 6}, 'establishes': {3}, 'operate': {3}, 'experiment': {3, 7}, 'transmission': {3}, 'news': {3}, 'inquiry': {3, 4, 6, 7, 15}, 'fact': {3}, 'conviction': {10, 3}, 'political': {9, 10, 3, 14}, 'intelligence': {3, 4, 5, 8, 11}, 'remedy': {16, 18, 3}, 'adoption': {8, 3}, 'share': {3, 13}, 'arises': {3}, 'relates': {10, 3}, 'severally': {3}, 'three': {16, 3}, 'each': {16, 3, 12, 15}, 'antwerp': {3}, 'annual': {3, 9, 12, 13, 14, 16}, '45': {3}, 'allowance': {3}, '4': {17, 18, 3, 13}, 'lieu': {3}, '2': {10, 3, 15}, 'amsterdam': {3}, '55': {17, 18, 3}, '5': {3, 4, 15}, 'confirmations': {3, 6}, 'during': {3, 4, 5, 7, 8, 9, 10, 11, 12, 13, 14, 15, 16, 17, 18}, 'finances': {9, 18, 3, 15}, 'matured': {3}, 'enter': {16, 3, 4}, 'arrangement': {17, 3, 5, 15}, 'redemption': {3, 4, 5, 6, 15}, 'reserved': {17, 3, 14}, 'eye': {3, 12}, 'intrinsic': {3}, 'reimbursement': {3, 4}, 'eleventh': {3}, 'section': {16, 3}, 'incorporated': {3}, 'saving': {3, 13}, 'appropriations': {3, 4, 5, 6, 7, 9, 10, 11, 12, 13, 17, 18}, 'extraordinaries': {3}, 'recalling': {9, 3, 7}, 'particularized': {3}, 'temporary': {3, 11, 14, 15, 17}, 'expire': {3}, 'regulates': {3}, 'notice': {3, 4, 16, 17, 18}, 'results': {3, 7}, 'durable': {3, 6}, 'advantages': {3, 6, 9, 10, 12, 15}, 'conciliating': {3}, 'ultimate': {9, 3, 12}, 'suffrage': {3, 4}, 'strengthen': {8, 17, 3}, 'inestimable': {10, 3, 12}, 'ends': {18, 3}, 'powerful': {3, 4, 5}, 'careful': {8, 3}, 'cultivation': {3, 7}, 'commencement': {18, 4, 5, 15}, 'term': {16, 4, 12, 14}, 'fit': {16, 4, 5}, 'expressing': {4}, 'deep': {4, 7}, 'respectful': {4}, 'approbation': {17, 4}, 'hand': {4, 5, 7, 10, 12, 16, 17}, 'awakened': {4}, 'gratitude': {4, 5, 6, 7, 8, 9, 12, 14}, 'partiality': {4}, 'honored': {4}, 'prevent': {4, 5, 6, 7, 8, 17}, 'retirement': {4}, 'ever': {4, 5, 6, 9, 12, 16, 17}, 'torn': {4}, 'influenced': {4}, 'belief': {4, 5}, 'estimated': {4}, 'real': {4, 5, 11, 14, 16, 17}, 'authorities': {16, 18, 4, 6}, 'personal': {4, 6, 8, 14, 16}, 'obeyed': {4}, 'commanded': {4, 12}, 'humbly': {4}, 'implore': {4}, 'fate': {18, 4}, 'crown': {4}, 'mutual': {4, 6, 9, 10, 12, 13, 14, 15, 16, 18}, 'relations': {4, 6, 7, 10, 12, 13, 14, 15, 16, 17, 18}, 'apprehend': {11, 4, 13}, 'interrupted': {4, 5, 7, 8, 10}, 'drawn': {11, 4, 13, 7}, 'suspicions': {4, 5}, 'often': {11, 4, 7}, 'entertained': {8, 18, 4}, 'belligerent': {4, 7, 10, 13, 14, 15, 16}, 'seemed': {10, 4}, 'admonish': {8, 18, 11, 4}, 'contraband': {4}, 'obtain': {4, 5, 7, 10, 18}, 'easier': {4}, 'admission': {4, 12}, 'immunities': {4}, 'delicate': {4, 5}, 'resolved': {4, 5}, 'adopt': {4, 12, 14, 15}, 'rules': {4, 7}, 'conform': {9, 4}, 'privileges': {4}, 'reduced': {4, 14}, 'communicated': {4, 7, 8, 9, 12, 13, 14, 15, 16, 17, 18}, 'although': {4, 5, 8, 9, 10, 11, 14, 16, 17}, 'thought': {4, 10, 12, 13, 14, 15, 17, 18}, 'forbid': {17, 4}, 'prizes': {9, 4, 15}, 'france': {4, 8, 9, 10, 11, 13, 14, 15, 16, 17}, 'brought': {4, 8, 11, 12, 15, 17, 18}, 'ports': {4, 8, 9, 10, 11, 13, 15, 18}, 'refused': {16, 4}, 'restored': {4, 9, 10, 13, 14}, 'when': {4, 5, 6, 7, 8, 9, 10, 12, 13, 14, 15, 16, 17, 18}, 'vessels': {4, 7, 8, 9, 10, 12, 13, 14, 15, 16, 17, 18}, 'commissioned': {4}, 'equipped': {4}, 'warlike': {4}, 'form': {4, 5, 6, 7, 8, 12, 13, 15, 16, 18}, 'rests': {13, 4, 5}, 'correct': {4, 5, 7, 16, 18}, 'improve': {4, 12, 6}, 'enforce': {10, 4, 5, 6}, 'procedure': {4}, 'probably': {4, 9, 12, 13, 15, 16, 17}, 'extend': {9, 4, 6, 14}, 'code': {4}, 'recognized': {4}, 'where': {4, 6, 7, 8, 9, 10, 12, 13, 15, 16, 17, 18}, 'array': {4, 5}, 'enterprises': {4, 9, 13, 17, 18}, 'usurp': {4, 14}, 'judicial': {10, 4, 5}, 'violations': {17, 18, 4, 7}, 'indistinctly': {4}, 'inadequate': {8, 4}, 'prompt': {4, 5, 11, 12, 13}, 'remedies': {4}, 'administered': {17, 4}, 'possess': {9, 4, 13, 17}, 'longestablished': {4}, 'investigation': {4}, 'habit': {4}, 'executing': {4}, 'doubted': {4, 7}, 'liberate': {4}, 'citizen': {4, 5, 12, 14, 16}, 'seized': {16, 4, 5}, 'false': {16, 4, 13}, 'color': {16, 4, 13}, 'property': {4, 5, 6, 7, 8, 9, 10, 11, 12, 14, 16, 17, 18}, 'denied': {4}, 'captures': {4, 7, 8, 9, 10}, 'seem': {4, 7, 11, 17, 18}, 'resort': {4, 5, 11, 14, 17}, 'lastmentioned': {4}, 'he': {4, 5, 6, 9, 17}, 'facts': {16, 4, 5}, 'request': {4}, 'fulfillment': {9, 4, 15}, 'world': {4, 5, 9, 10, 11, 12}, 'pressing': {4, 5, 7}, 'placing': {4}, 'complete': {17, 11, 4}, 'exacting': {4}, 'contrary': {16, 9, 4, 17}, 'human': {17, 12, 4, 5}, 'events': {4, 6, 10, 12, 13, 14}, 'forever': {16, 11, 4}, 'keep': {17, 4, 13}, 'distance': {11, 4, 14, 15}, 'painful': {10, 4, 5}, 'appeals': {17, 4}, 'arms': {4, 5, 11, 16, 17}, 'history': {4}, 'abounds': {4}, 'rank': {4}, 'withheld': {4}, 'absolutely': {4}, 'weakness': {4}, 'avoid': {4, 5, 8, 10, 11, 13}, 'insult': {4, 7, 14, 15, 16}, 'repel': {16, 4, 5}, 'instruments': {4, 14, 7}, 'times': {4, 5, 9, 12, 14, 16}, 'ready': {4, 5, 7, 12, 17, 18}, 'documents': {4, 5}, 'shew': {17, 4, 12, 6}, 'amount': {4, 5, 12, 13, 14, 16}, 'kinds': {16, 4, 12}, 'stores': {4, 6, 9, 12, 18}, 'prudence': {17, 4, 12, 6}, 'neglected': {8, 4}, 'leave': {4, 7, 9, 12, 14, 15, 16, 17, 18}, 'uncertainty': {17, 4, 5}, 'moment': {4, 6, 7, 9, 12, 15, 16, 17, 18}, 'danger': {4, 5, 6, 7, 12, 14, 16, 18}, 'nor': {4, 5, 7, 12, 13, 14, 15, 16, 17, 18}, 'censure': {4}, 'jealousy': {4}, 'warmest': {4}, 'friends': {16, 12, 4, 5}, 'republican': {16, 4, 5}, 'incapable': {4}, 'abuse': {4, 12}, 'hands': {4, 7, 13, 15, 17}, 'pride': {8, 4}, 'depository': {4, 5}, 'republic': {8, 10, 4, 7}, 'trained': {4}, 'solemnly': {9, 4}, 'effectually': {4, 7, 13, 14, 15, 17}, 'establishing': {4, 5, 6, 7, 9, 12, 14, 15}, 'organized': {17, 18, 4, 7}, 'detected': {4}, 'imperfections': {4, 6}, 'scheme': {4}, 'feature': {4}, 'improvement': {4, 5, 6, 7, 15, 17}, 'study': {4, 7}, 'branches': {4, 7, 9, 10, 17}, 'art': {4, 7}, 'scarcely': {13, 4, 5, 6}, 'attained': {18, 4, 6}, 'alone': {4, 6, 9, 12, 17, 18}, 'extremely': {4}, 'occurrences': {16, 18, 4, 5}, 'relate': {4}, 'exhibited': {4, 5, 9, 11, 12, 16, 18}, 'subsequent': {13, 4, 5}, 'contemplate': {4, 5, 9, 12, 14}, 'affirmed': {4}, 'effort': {4}, 'adjust': {11, 4}, 'dissension': {4}, 'instructions': {8, 17, 18, 4}, 'commissioners': {4, 5, 7, 8, 9, 10}, 'equity': {4, 5}, 'sincere': {4, 6, 7, 9, 10, 11, 12, 14, 17}, 'restriction': {4}, 'dignity': {9, 4, 6}, 'attempt': {17, 4}, 'amicable': {9, 18, 11, 4}, 'negotiation': {4, 6, 7, 8, 11, 17}, 'frustrated': {4}, 'marched': {4}, 'offensively': {4}, 'did': {18, 4, 5}, 'preparation': {9, 18, 4, 17}, 'doubtful': {4}, 'season': {4, 5, 12, 14, 16, 17}, 'justified': {4, 5}, 'movements': {17, 4, 5}, 'retard': {4}, 'remainder': {4}, 'determine': {4, 5, 7, 9, 11, 12}, 'deficiency': {4}, 'granted': {4, 5}, 'compensated': {16, 4}, 'succors': {4}, 'recruits': {4}, 'anxiety': {18, 4}, 'demonstrated': {4, 5, 6}, 'creeks': {4, 5, 6, 7, 13, 16}, 'corn': {4}, 'clothing': {4, 12}, 'prohibited': {4}, 'satisfy': {16, 4}, 'complaints': {4, 5, 15}, 'prosecutions': {4, 5}, 'instituted': {4, 12, 7}, 'committed': {4, 5, 10, 11, 12, 14, 15, 17, 18}, 'delivered': {4, 5, 7, 15, 16, 17}, 'disclose': {4}, 'footing': {4, 12, 13, 15, 16, 18}, 'stand': {17, 4, 7}, 'pronounce': {17, 4}, 'done': {4, 5, 9, 12, 15, 17, 18}, 'after': {4, 5, 6, 7, 8, 9, 11, 12, 14, 15, 16, 17, 18}, 'emergency': {16, 4}, 'creating': {4}, 'ties': {17, 4, 5}, 'next': {4, 7, 8, 10, 16}, 'rigorous': {4}, 'violators': {4}, 'behalf': {4}, 'fraud': {4}, 'constant': {4, 6, 7, 12, 13, 16}, 'plentiful': {4}, 'market': {18, 4}, 'commodities': {4, 14}, 'stated': {4}, 'exchange': {4, 14, 7}, 'pursue': {18, 4, 14}, 'traffic': {4}, 'unless': {4, 6, 7, 9, 13, 17, 18}, 'allured': {4}, 'profit': {4}, 'reimbursed': {4, 6}, 'accord': {4}, 'recollect': {11, 4}, 'settlement': {4, 5, 12, 13, 14, 16, 17}, 'accounts': {18, 4, 15}, 'individual': {4, 7, 9, 12, 16}, 'function': {4, 12, 15}, 'balances': {4}, 'struck': {4}, 'report': {10, 4, 5, 15}, 'books': {4}, 'june': {8, 18, 4}, 'installment': {4, 14}, '1000000': {16, 4}, 'payable': {18, 4, 14}, 'adjusted': {9, 4, 6}, 'prolongation': {4}, 'period': {4, 5, 6, 7, 8, 9, 10, 11, 14, 15, 16, 17, 18}, 'ten': {4, 12}, 'years': {4, 9, 12, 14, 15, 16, 17, 18}, '3': {11, 4}, '2000000': {4, 14}, 'second': {16, 4}, 'pecuniary': {4, 5, 7}, 'urgent': {4}, 'none': {4, 5, 6, 7, 11, 14}, 'injurious': {4, 5, 8, 14, 16}, 'economy': {4, 5, 10, 11, 13, 15}, 'productiveness': {4}, 'formed': {4, 5, 8, 9, 12, 13, 17, 18}, 'auxiliary': {4, 5, 15}, 'encountering': {4}, 'contributions': {4, 12}, 'accumulation': {4, 5, 8, 17, 18}, 'repeal': {9, 4, 5}, 'prints': {4}, 'guided': {18, 4, 12}, 'conduce': {4}, 'faithful': {4, 5, 6, 11, 12, 15}, 'diffused': {4}, 'restraint': {4}, 'purchase': {4, 7, 13, 15, 16}, 'referred': {17, 4, 6}, 'open': {4, 5, 8, 14, 15, 16, 18}, 'wide': {4, 6, 14}, 'range': {4}, 'involve': {4, 14}, 'choicest': {4}, 'remembrance': {4}, 'magnitude': {9, 4}, 'unprejudiced': {4}, 'coolness': {4}, 'hazarded': {4}, 'consists': {4}, 'freedom': {4, 14}, 'never': {4, 5, 6, 7, 12, 14, 16, 17, 18}, 'reproached': {4}, 'temper': {9, 4, 5}, 'candor': {12, 4, 5, 7}, 'languish': {4}, 'mind': {5, 14}, 'heaven': {5, 6}, 'survey': {5}, 'look': {5, 14, 7}, 'riches': {5}, 'destined': {5, 7, 13, 16, 17}, 'deepest': {5}, 'regret': {9, 5, 14, 7}, 'insurrection': {17, 5, 6}, 'shaken': {5}, 'enemies': {16, 5}, 'freely': {5}, 'unfold': {5}, '1790': {5}, 'collect': {5, 14}, 'excises': {5}, 'majority': {5}, 'objection': {5}, 'heard': {5}, 'taxation': {13, 12, 5}, 'alarms': {5}, 'until': {5, 6, 7, 12, 15, 17}, 'banished': {5}, 'four': {16, 12, 5}, 'counties': {10, 5}, 'pennsylvania': {10, 5}, 'prejudice': {13, 5}, 'fostered': {5}, 'imbittered': {5, 6}, 'artifice': {5}, 'labored': {5}, 'ascendency': {5}, 'over': {5, 7, 9, 11, 12, 17}, 'passions': {5, 14}, 'produced': {5, 10, 11, 12, 14, 15, 16}, 'riot': {5}, 'violence': {8, 16, 11, 5}, 'hesitate': {18, 5, 6}, 'examine': {8, 9, 5}, 'relieve': {12, 5}, 'discontented': {5}, 'correspond': {5}, 'deserved': {17, 5}, 'arts': {5, 6, 7, 8, 10, 11, 12, 18}, 'delusion': {5}, 'longer': {5, 15}, 'confined': {5}, 'designing': {10, 5}, 'forbearance': {17, 18, 5, 6}, 'press': {5, 6}, 'misinterpreted': {5}, 'fear': {9, 5}, 'urging': {5}, 'associations': {5}, 'began': {5}, 'denounce': {12, 5}, 'threats': {5}, 'formal': {18, 5}, 'concert': {5}, 'defeated': {18, 5}, 'selfcreated': {5}, 'societies': {5}, 'assumed': {16, 5}, 'tone': {5}, 'condemnation': {9, 5, 7}, 'hence': {5}, 'conforming': {5}, 'excise': {12, 5}, 'few': {5, 8, 9, 13, 14, 17}, 'frustrate': {5}, 'perceived': {5, 6}, 'tenderness': {5, 6}, 'unavailing': {5}, 'create': {9, 5}, 'impotency': {5}, 'irresolution': {5}, 'marshal': {12, 5}, 'rioters': {5}, 'delinquent': {5}, 'distillers': {5}, 'engaged': {5, 6, 12, 13, 14, 16}, 'vengeance': {5}, 'aimed': {5}, 'person': {17, 13, 5}, 'inspector': {5}, 'fired': {5}, 'arrested': {10, 5}, 'him': {5, 10, 12, 15, 17}, 'detained': {5}, 'prisoner': {5}, 'obliged': {17, 5}, 'jeopardy': {5}, 'life': {5, 12, 14, 16, 17}, 'renounce': {5}, 'west': {13, 5, 7}, 'allegheny': {5}, 'mountain': {5}, 'deputation': {5}, 'afterwards': {9, 5}, 'sent': {12, 5, 14, 15}, 'surrender': {5, 6}, 'served': {5}, 'body': {12, 5}, 'repeatedly': {5, 7}, 'attacked': {18, 5}, 'finally': {9, 5, 6}, 'destroyed': {8, 5}, 'fire': {5}, 'fled': {5}, 'avowed': {5}, 'compel': {11, 5}, 'resignation': {9, 5}, 'withstand': {5}, 'extort': {5}, 'alteration': {12, 5}, 'associate': {5}, 'opposed': {5}, 'obstructed': {16, 5}, 'suppressed': {17, 12, 5}, 'momentous': {10, 5}, 'extreme': {5}, 'sought': {5}, 'weighted': {5}, 'subdue': {5}, 'crisis': {5}, 'pronounced': {18, 5}, 'stripped': {5}, 'capacity': {5}, 'reached': {5}, 'existence': {8, 9, 11, 5}, 'social': {5}, 'control': {16, 5, 15}, 'insulted': {5}, 'abused': {5}, 'overawed': {5}, 'silence': {5}, 'apparent': {5, 7}, 'acquiescence': {5}, 'yield': {12, 5, 7}, 'treasonable': {5}, 'fury': {5}, 'portion': {5, 7, 9, 10, 11, 12, 13, 15, 17, 18}, 'violate': {5}, 'fundamental': {5}, 'principle': {18, 5}, 'enjoins': {9, 5}, 'prevail': {5}, 'publish': {5}, 'dishonor': {5}, 'excesses': {5}, 'encounter': {5}, 'steps': {5, 6, 7, 9, 10}, 'closely': {5}, 'interwoven': {5}, 'affecting': {16, 13, 5}, 'lightly': {5}, 'summoning': {5}, 'field': {12, 5, 6, 15}, 'required': {5, 7, 8, 10, 12, 15, 18}, 'held': {17, 11, 5}, 'readiness': {5, 8, 11, 12, 16, 18}, 'anxious': {10, 18, 12, 5}, 'reclaim': {5}, 'malignant': {5}, 'fruitless': {18, 5, 6}, 'advanced': {5, 7, 8, 12, 15, 16, 17, 18}, '7th': {5, 7, 8, 9, 10}, 'august': {8, 9, 5, 7}, 'accompanied': {9, 5, 7}, 'repair': {5}, 'scene': {5, 6}, 'confer': {5}, 'bodies': {5}, 'instructed': {10, 18, 5, 7}, 'candid': {5, 15}, 'stating': {5}, 'sensations': {5}, 'excited': {8, 5}, 'represent': {5}, 'submission': {10, 5}, 'invite': {9, 10, 5, 7}, 'demeanor': {5}, 'accommodations': {11, 5}, 'sphere': {8, 5, 7}, 'pardon': {5, 6}, 'tendered': {17, 5}, 'marks': {5}, 'abilities': {5}, 'shewing': {5}, 'conciliation': {12, 5}, 'exhausted': {17, 5}, 'abetted': {5}, 'tumults': {5}, 'subscribe': {5}, 'atonement': {5}, 'indications': {10, 5, 6}, 'peaceable': {16, 5, 14}, 'neither': {16, 10, 5}, 'conclusive': {11, 5}, 'warrant': {5}, 'suspension': {5, 14}, 'march': {5}, 'discarded': {5}, 'ordered': {5, 7, 13, 16, 18}, 'admonishing': {5}, 'insurgents': {5}, '25th': {9, 5, 7}, 'september': {5, 7, 8, 14, 15, 16, 17, 18}, 'difficult': {5}, 'precision': {5}, 'lowest': {5}, 'quelling': {5}, 'ease': {5}, 'gratified': {5}, 'reluctance': {5}, 'ascribe': {5}, 'accurately': {5}, 'seen': {5, 12, 13, 14, 18}, 'decided': {5, 8, 9, 12, 16}, 'inducement': {5}, 'smallest': {13, 12, 5}, 'motion': {5}, '15k': {5}, 'army': {5, 6, 11, 12, 18}, 'perhaps': {5, 7, 9, 12, 16, 17}, 'resistance': {9, 5}, 'desperate': {5}, 'quotas': {18, 5}, 'assigned': {18, 5, 7}, 'jersey': {5}, 'maryland': {5}, 'governor': {5, 15}, 'declared': {9, 13, 12, 5}, 'requisition': {5}, 'commander': {17, 18, 5, 6}, 'chief': {17, 18, 5}, 'visited': {16, 9, 5}, 'rendezvous': {5}, 'ulterior': {5, 14}, 'room': {9, 5}, 'obstruction': {5}, 'civil': {8, 10, 12, 5}, 'magistrate': {5}, 'culpable': {5}, 'proffered': {5}, 'amnesty': {5}, 'example': {5, 6, 12, 13, 16}, 'countenance': {16, 9, 5}, 'always': {5, 6, 7, 15, 16, 17}, 'vicious': {5}, 'turbulent': {5}, 'caught': {5}, 'avidity': {5}, 'restoring': {9, 5}, 'homes': {5}, 'succeeding': {5, 6}, 'tended': {5}, 'manifest': {5, 7}, 'confessed': {5}, 'inclined': {5}, 'exaggerate': {5}, 'ill': {5}, 'malevolence': {5}, 'pointed': {18, 12, 5, 6}, 'inimical': {5}, 'afforded': {11, 5, 6}, 'presence': {5}, 'withholden': {5}, 'appearance': {5, 7}, 'assuring': {5}, 'redound': {5}, 'strength': {11, 5, 6}, 'leaving': {13, 18, 12, 5}, 'command': {15, 5, 7}, 'commotion': {16, 5}, 'pretense': {16, 18, 5}, 'mischief': {5}, 'revenge': {5}, 'aside': {5}, 'stationing': {5}, 'indispensable': {5, 6, 7, 9, 15, 18}, 'thirty': {5}, 'days': {8, 5}, 'limitation': {16, 5}, 'occupied': {9, 5}, 'discussions': {16, 12, 5, 14}, 'aspect': {16, 17, 13, 5}, 'observation': {9, 15, 5, 7}, 'fidelity': {18, 5, 14}, 'sustained': {8, 9, 5, 16}, 'injuries': {5, 7, 9, 12, 15, 16, 18}, 'obligation': {16, 5, 6}, 'indemnifying': {5}, 'obvious': {5, 6, 7, 10, 15}, 'enlarge': {9, 5, 17}, 'retribution': {12, 5, 7}, 'suffered': {5, 7}, 'damage': {5}, 'generous': {5}, 'upholding': {5}, 'injured': {5}, 'included': {5}, 'emergencies': {13, 18, 5, 7}, 'amply': {5}, 'repaid': {5}, 'incurs': {5}, 'loss': {9, 12, 5, 14}, 'recompense': {5}, 'lament': {5, 6}, 'disgraced': {5}, 'diverted': {5}, 'substantial': {5}, 'consolations': {5, 6}, 'misfortune': {5}, 'understand': {5}, 'inseparable': {5}, 'notwithstanding': {9, 10, 11, 5}, 'devices': {5}, 'sway': {5}, 'licentious': {5}, 'defend': {5, 14}, 'usurpation': {12, 5}, 'spectacle': {5, 6}, 'displaying': {5}, 'highest': {13, 5}, 'behold': {5}, 'wealthy': {5}, 'standing': {18, 12, 5}, 'ranks': {5}, 'preeminently': {5}, 'distinguished': {16, 5}, 'undeterred': {5}, '300': {5, 15}, 'rugged': {5}, 'mountains': {5}, 'approach': {16, 17, 5}, 'inclement': {5}, 'discouragement': {5, 6}, 'omit': {5, 7, 9, 11, 12}, 'acknowledge': {5, 14}, 'magistrates': {5}, 'requisitions': {5, 15}, 'addressed': {5, 7}, 'praise': {5}, 'persevere': {5, 7}, 'vigilance': {5}, 'precious': {5, 6}, 'cherish': {5, 6, 7, 13, 14}, 'sake': {5}, 'clime': {5}, 'daily': {5}, 'seeking': {16, 5}, 'calm': {8, 5}, 'retraced': {5}, 'origin': {5}, 'fomented': {5}, 'careless': {5}, 'disregarding': {5}, 'unerring': {5}, 'truth': {16, 5, 6, 7}, 'rouse': {5}, 'appease': {5}, 'convulsion': {5, 6}, 'disseminated': {5}, 'ignorance': {5}, 'perversion': {5}, 'jealousies': {5}, 'accusations': {5}, 'engagement': {5}, 'took': {5, 7, 10, 13, 17}, 'ability': {5}, 'gentlemen': {5, 6, 8, 9, 10, 11}, 'deputed': {5, 6}, 'rely': {5, 8, 10, 12, 17}, 'possibility': {5}, 'contingency': {5}, 'draw': {5, 7, 12, 16, 17}, 'forgotten': {5}, 'defects': {12, 5}, 'supplied': {5, 15}, 'extraordinary': {5, 6, 8, 10, 11, 13, 14, 18}, 'waste': {16, 13, 12, 5}, 'appeal': {5}, 'devising': {5}, 'genuine': {12, 5, 6}, 'title': {9, 13, 5, 15}, 'pass': {5, 12, 14, 15, 17}, 'organizing': {9, 5, 17}, 'arming': {16, 9, 5, 17}, 'disciplining': {5}, 'language': {5}, 'forth': {13, 5, 7}, 'execute': {10, 5}, 'suppress': {17, 12, 5}, 'insurrections': {5}, 'frequently': {5}, 'recur': {5}, 'inquire': {18, 5}, 'fortifications': {5, 6, 11, 12, 13, 17}, 'licensed': {5}, 'wayne': {5}, 'presage': {5}, 'advices': {5, 6}, 'forwarded': {5}, 'damped': {5}, 'ardor': {5}, 'weakened': {8, 5}, 'obstinacy': {5}, 'waging': {5}, 'hour': {10, 5}, 'questioned': {9, 5}, 'unwilling': {5}, 'cement': {5}, 'lasting': {5, 6}, 'spared': {12, 5}, 'covered': {5}, 'encroachment': {5}, 'georgia': {5, 6, 7, 13, 16}, 'discontents': {5}, 'mediated': {5}, 'presque': {5}, 'isle': {5}, 'lake': {5, 15}, 'erie': {5, 15}, 'suspended': {11, 12, 5}, 'agent': {13, 5, 6, 7}, 'endeavoring': {5}, 'rectify': {5}, 'refrain': {5}, 'fixing': {12, 5}, 'conducting': {5}, 'trading': {10, 5, 14, 7}, 'houses': {5, 7, 8, 10, 14, 15, 16, 17}, 'then': {5, 7, 8, 10, 12, 13, 14, 16, 17, 18}, 'elapsed': {5}, 'fiscal': {13, 5}, 'developed': {5}, 'definite': {5}, 'believed': {18, 12, 5, 6}, 'encourage': {12, 5, 7}, 'consummate': {5}, 'unfinished': {5}, 'benefited': {5}, 'procrastination': {5}, 'grounds': {5, 7, 12, 14, 18}, 'ultimately': {5}, 'governments': {5, 6, 9, 12, 14, 15}, 'including': {13, 5, 15}, 'expenditures': {5, 7, 9, 12, 13, 14, 15}, 'driven': {5}, 'metals': {5}, 'sums': {5, 6, 8, 11, 12, 13, 14, 18}, 'defective': {5, 7}, 'bullion': {5}, 'lodged': {5}, 'director': {5}, 'remote': {18, 12, 5}, 'realize': {5}, 'originally': {8, 17, 5, 15}, 'transmitted': {18, 5}, 'unseasonable': {5}, 'transactions': {9, 5, 17, 7}, 'cultivate': {5, 6, 12, 13, 14, 16}, 'observe': {5, 8, 9, 11, 15, 17}, 'pure': {11, 5, 6}, 'absolute': {5}, 'check': {5}, 'deviation': {5}, 'line': {5, 7, 8, 9, 12, 17}, 'impartiality': {5}, 'explain': {5}, 'misapprehended': {5}, 'acquired': {5, 14, 15}, 'lose': {5, 6}, 'acquiring': {5}, 'insist': {5}, 'imploring': {11, 5}, 'ruler': {11, 5, 7}, 'spread': {5, 14}, 'holy': {5}, 'turn': {5, 14}, 'machinations': {5}, 'wicked': {5}, 'confirming': {5, 14}, 'root': {5}, 'internal': {5, 6, 7, 12, 13, 17}, 'sedition': {5}, 'invasion': {12, 5}, 'flight': {5}, 'perpetuate': {5}, 'goodness': {16, 13, 5}, 'conferred': {5}, 'verify': {5}, 'safeguard': {5}, 'deceive': {16, 6}, 'met': {8, 16, 6, 7}, 'congratulation': {6}, 'inviting': {6}, 'profound': {6}, 'author': {6}, 'enjoy': {11, 6}, 'expensive': {12, 6}, 'option': {9, 6, 7}, 'region': {6}, 'fully': {10, 13, 6, 7}, 'articles': {6, 12, 14, 17, 18}, 'agreed': {16, 6, 7}, 'creek': {6, 7}, 'annoyed': {6}, 'confirmed': {9, 6, 14}, 'preexisting': {6, 7}, 'fair': {15, 13, 6, 14}, 'clouded': {6}, 'murders': {6}, 'hunting': {12, 6, 15}, 'subjected': {6}, 'disquietude': {6}, 'mitigate': {6, 7}, 'usual': {6, 9, 12, 13, 15, 18}, 'avert': {6}, 'letter': {6}, 'emperor': {6}, 'morocco': {6}, 'announces': {6}, 'recognition': {6}, 'father': {6}, 'consequently': {17, 13, 6, 7}, 'algiers': {6, 7}, 'importing': {6}, 'regency': {6, 7}, 'authorize': {18, 13, 6}, 'unfortunate': {9, 6}, 'grievous': {8, 6}, 'latest': {8, 6, 7}, 'envoy': {6}, 'madrid': {6}, 'assurances': {6, 9, 10, 12, 15, 16, 18}, 'conclusion': {6, 8, 9, 10, 12, 16}, 'unadjusted': {6}, 'regarded': {12, 6, 15}, 'agreeable': {8, 6, 7}, 'amicably': {16, 17, 6}, 'foundation': {9, 6, 17}, 'uniformly': {9, 6}, 'officially': {6}, 'apprised': {6}, 'amity': {6, 7, 8, 9, 10, 11, 17, 18}, 'negotiated': {6}, 'britain': {6, 7, 8, 9, 10, 11}, 'advised': {6, 14}, 'consented': {6}, 'excepts': {6}, 'article': {6, 7, 8, 9, 10, 11, 16}, 'judgment': {12, 6}, 'deliberation': {6}, 'britannic': {9, 10, 6, 7}, 'summary': {6}, 'controversies': {6, 14}, 'subsisted': {6}, 'neighbors': {6, 12, 13, 16, 17, 18}, 'enmity': {6}, 'misunderstanding': {6, 14}, 'opens': {6}, 'consoling': {6}, 'gratifying': {6}, 'external': {12, 13, 6, 7}, 'discord': {6}, 'menaced': {6}, 'compatible': {8, 9, 6}, 'accelerating': {6, 7}, 'maturing': {6, 7}, 'contemplating': {6}, 'discover': {9, 6}, 'dependencies': {12, 6}, 'involved': {10, 12, 6, 14}, 'unusually': {10, 6}, 'bloody': {6, 14}, 'exhausting': {6}, 'calamitous': {10, 6, 14}, 'evils': {9, 6, 7}, 'decay': {8, 13, 6, 15}, 'subsistence': {8, 16, 12, 6}, 'sufferings': {8, 6, 15}, 'repose': {16, 6}, 'alloyed': {6}, 'heavy': {16, 12, 6}, 'accumulating': {6}, 'threaten': {6}, 'clog': {6}, 'springs': {13, 6}, 'contrast': {6}, 'because': {6, 7, 8, 9, 10, 11, 16, 17}, 'maintained': {10, 18, 12, 6}, 'violated': {6}, 'prosper': {6}, 'molestations': {6}, 'remonstrances': {6}, 'overbalanced': {6}, 'aggregate': {6}, 'derives': {6}, 'neutral': {6, 7, 9, 12, 14, 15, 16, 18}, 'position': {6, 12, 13, 14, 17}, 'advances': {8, 10, 6}, 'exceeding': {6}, 'sanguine': {6}, 'proportionally': {6, 7}, 'augments': {6}, 'guarantees': {6}, 'displays': {6}, 'light': {12, 6}, 'wholesome': {6}, 'say': {17, 12, 6}, 'exhibits': {6}, 'surpassed': {6}, 'equaled': {6}, 'commanding': {17, 6, 15}, 'impel': {6}, 'acknowledgment': {16, 6, 15}, 'prolong': {6}, 'immense': {6, 7}, 'cooperate': {16, 6}, 'fervent': {6, 7}, 'heart': {6, 7}, 'ingredient': {6}, 'disorder': {9, 6}, 'enjoys': {6}, 'quiet': {6, 14, 15, 16, 18}, 'misled': {6}, 'abandoned': {16, 6}, 'errors': {6}, 'pay': {6, 12, 13, 15, 16, 17, 18}, 'induced': {18, 6}, 'forgiveness': {12, 6}, 'adjudged': {6}, 'capital': {11, 6, 15}, 'sacred': {9, 6}, 'mingle': {6}, 'review': {12, 13, 6, 15}, 'changed': {16, 11, 6}, 'relative': {6, 7, 8, 9, 10, 13, 14, 18}, 'doubtless': {6, 8, 9, 12, 13, 16, 17, 18}, 'weight': {6, 7, 9, 12, 13, 15, 17}, 'questions': {10, 18, 6, 15}, 'recovered': {6}, 'garrisoning': {6}, 'unfolded': {6}, 'estimation': {6}, 'excite': {8, 6}, 'solicitude': {12, 6, 7}, 'perfection': {6}, 'wearing': {6}, 'away': {18, 11, 6, 14}, 'forwarding': {6}, 'deserves': {6, 7}, 'authorizes': {13, 6}, 'sight': {17, 6}, 'continually': {6}, 'receives': {6}, 'namely': {6}, 'lawless': {6}, 'argument': {6, 7}, 'murdering': {6}, 'restrained': {6, 7}, 'murderers': {6}, 'condign': {6}, 'destructive': {9, 10, 6}, 'retaliations': {6}, 'illusory': {6}, 'destruction': {18, 12, 6, 14}, 'innocent': {6, 14}, 'women': {6}, 'children': {6}, 'chiefly': {8, 17, 18, 6}, 'retaliation': {6}, 'shock': {6}, 'enormous': {6}, 'drain': {6}, 'observance': {6, 7, 9, 14, 16, 17}, 'supplying': {6}, 'necessities': {6}, 'conferences': {6, 15}, 'urge': {11, 6}, 'probability': {6, 7}, 'diminished': {8, 12, 6}, 'auspices': {6}, 'accomplishment': {6}, 'reflect': {9, 6}, 'undecaying': {6}, 'luster': {6}, 'administer': {16, 6, 14}, 'minds': {6, 14}, 'borrowed': {6}, 'reinforce': {6}, 'examination': {6, 7, 8, 9, 10, 16}, 'mine': {6}, 'accelerate': {6}, 'extinction': {13, 6}, 'accords': {6}, 'completely': {12, 6}, 'checking': {6}, 'abuses': {6, 15}, 'appear': {6, 7, 9, 12, 17, 18}, 'arising': {6, 7, 8, 9, 12, 14, 18}, 'frigates': {16, 12, 6}, 'building': {15, 13, 6, 7}, 'harbors': {6, 7, 11, 12, 14, 15, 16, 18}, 'obtaining': {9, 6, 14}, 'sites': {12, 6}, 'replenishing': {6}, 'opening': {6, 7, 8, 12, 16}, 'discussion': {18, 13, 6, 15}, 'difference': {6, 10, 11, 12, 13, 14, 18}, 'recurring': {13, 14, 7}, 'address': {9, 7}, 'expression': {7}, 'universe': {11, 7}, 'series': {7}, 'justly': {7, 9, 15, 17, 18}, 'admit': {16, 18, 7}, 'insure': {7, 9, 10, 16, 18}, 'framing': {7}, 'care': {7, 10, 12, 13, 15, 16, 17}, 'predatory': {7}, 'incursions': {7}, 'unruly': {7}, 'nearer': {7}, 'civilized': {10, 14, 7}, 'conceptions': {7}, 'deputies': {7}, 'colerain': {7}, 'parcel': {7}, 'broke': {7}, 'up': {7, 11, 12, 13, 14, 15, 16, 17, 18}, 'previous': {7, 10, 14, 15, 17, 18}, 'departure': {10, 12, 7}, 'improved': {7}, 'consent': {17, 10, 7}, 'boundary': {8, 9, 16, 7}, 'brittanic': {7}, 'procrastinated': {7}, 'reception': {7}, 'date': {7, 11, 14, 17, 18}, 'governorgeneral': {7}, 'canada': {7}, 'cordially': {12, 14, 7}, 'promptly': {17, 18, 7}, 'evacuation': {7}, 'possession': {16, 17, 7}, 'oswego': {7}, 'niagara': {7}, 'detroit': {7}, 'michilimackinac': {7}, 'fort': {7}, 'miami': {7}, 'repairs': {12, 13, 7}, 'additions': {17, 12, 7}, 'appeared': {16, 9, 7}, 'appointed': {7, 8, 9, 10, 11, 15}, 'st': {8, 9, 10, 7}, 'croix': {8, 9, 7}, 'mentioned': {7, 8, 9, 14, 16}, '1783': {7}, 'choice': {16, 14, 7}, 'egbert': {7}, 'benson': {7}, 'esq': {7}, 'york': {18, 7}, '3rd': {7}, 'commissioner': {9, 7}, 'andrews': {7}, 'passamaquoddy': {8, 9, 7}, 'bay': {8, 9, 7}, 'october': {8, 9, 15, 7}, 'rivers': {7, 8, 13, 15, 16, 17}, 'dispute': {7}, 'deeming': {7}, 'impracticable': {7}, 'adjourned': {8, 7}, 'boston': {8, 7}, '1797': {7}, 'final': {8, 17, 7}, 'decision': {8, 9, 18, 7}, 'london': {8, 10, 18, 7}, 'john': {7}, 'trumbull': {7}, 'chosen': {10, 7}, 'lot': {7}, '5th': {8, 9, 7}, 'following': {7}, 'board': {10, 18, 7}, '6th': {8, 10, 11, 7}, 'spain': {7, 8, 9, 15, 16, 17, 18}, 'running': {8, 13, 7}, 'catholic': {8, 9, 7}, 'majestys': {7}, 'provinces': {7}, 'east': {13, 7}, 'florida': {7}, 'natchez': {9, 7}, '6': {7}, 'months': {13, 7}, 'ratifications': {11, 7}, 'aranjuez': {7}, 'april': {15, 14, 7}, 'occupying': {7}, 'withdrawn': {17, 15, 7}, 'journey': {17, 7}, 'occupy': {16, 12, 15, 7}, 'spanish': {7, 8, 9, 13, 17}, 'garrisons': {8, 9, 12, 7}, 'claims': {7, 8, 9, 10, 12, 13, 15, 16, 17}, 'captured': {8, 16, 12, 7}, 'pursuance': {8, 9, 15, 7}, 'seamen': {16, 13, 7}, 'indies': {7}, 'agency': {12, 7}, 'beneficial': {9, 10, 11, 7}, 'declining': {7}, 'accept': {7}, 'devolved': {7}, 'minister': {9, 10, 7}, 'delays': {9, 12, 17, 7}, 'disappointments': {7}, 'european': {7}, 'dey': {7}, 'disadvantages': {7}, 'occasioned': {8, 10, 7}, 'liberation': {16, 17, 7}, 'gratifies': {7}, 'feeling': {18, 7}, 'regencies': {7}, 'tunis': {16, 17, 15, 7}, 'tripoli': {7, 12, 13, 15, 16}, 'naval': {7, 9, 12, 13, 15, 16}, 'wars': {12, 14, 7}, 'party': {16, 18, 7}, 'neutrality': {15, 7}, 'flag': {8, 12, 14, 7}, 'vindicate': {12, 7}, 'going': {18, 7}, 'discouraging': {7}, 'protecting': {7}, 'insecure': {7}, 'calamities': {8, 10, 15, 7}, 'about': {7, 11, 13, 14, 17}, 'gradual': {7}, 'creation': {7}, 'navy': {7, 9, 11, 12, 13, 18}, 'promises': {12, 7}, 'supply': {17, 15, 7}, 'respects': {15, 7}, 'favor': {17, 18, 13, 7}, 'undertaking': {7}, 'moderate': {17, 15, 14, 7}, 'begin': {12, 14, 7}, 'equipping': {7}, 'ships': {16, 12, 7}, 'degrees': {7}, 'inconvenience': {8, 11, 7}, 'unprotected': {7}, 'account': {7, 8, 10, 11, 12, 13, 14}, 'inexpedient': {8, 7}, 'manufacture': {16, 11, 14, 7}, 'length': {7, 11, 12, 13, 16, 18}, 'establishments': {7}, 'exception': {12, 7}, 'precarious': {10, 12, 7}, 'liable': {7}, 'cost': {15, 12, 13, 7}, 'independence': {9, 7}, 'thence': {9, 7}, 'sort': {18, 7}, 'calls': {15, 12, 13, 7}, 'easily': {16, 7}, 'extended': {7, 10, 12, 15, 17}, 'surplus': {16, 17, 12, 7}, 'privations': {7}, 'interruption': {8, 9, 7}, 'exclude': {18, 7}, 'interference': {7}, 'pursuits': {16, 17, 18, 7}, 'maturity': {11, 7}, 'renders': {8, 9, 15, 7}, 'soil': {7}, 'institutions': {11, 7}, 'grow': {7}, 'supported': {8, 7}, 'purse': {7}, 'dedicated': {7}, 'boards': {10, 7}, 'composed': {7}, 'characters': {10, 7}, 'collecting': {7}, 'premiums': {7}, 'assist': {7}, 'discovery': {7}, 'species': {7}, 'doubly': {7}, 'stimulating': {7}, 'drawing': {7}, 'center': {7}, 'everywhere': {7}, 'spreading': {7}, 'shewn': {7}, 'cheap': {7}, 'university': {7}, 'academy': {7}, 'desirableness': {7}, 'constantly': {18, 7}, 'assembly': {7}, 'sciences': {17, 7}, 'contains': {7}, 'highly': {8, 17, 18, 7}, 'repeatable': {7}, 'narrow': {16, 7}, 'ablest': {7}, 'professors': {7}, 'contemplated': {7, 11, 12, 13, 14, 15}, 'excellent': {7}, 'auxiliaries': {7}, 'amongst': {7}, 'assimilation': {7}, 'opinions': {7}, 'manners': {11, 7}, 'countrymen': {16, 13, 7}, 'education': {17, 7}, 'youth': {7}, 'homogenous': {7}, 'patronize': {7}, 'communicating': {7}, 'guardians': {7}, 'liberties': {7}, 'cogent': {9, 7}, '1st': {7, 9, 10, 15, 17, 18}, 'impair': {7}, 'hazard': {8, 7}, 'expose': {14, 7}, 'avoided': {16, 13, 7}, 'maxims': {9, 7}, 'exempt': {14, 7}, 'practicing': {7}, 'transmitting': {7}, 'examples': {9, 7}, 'superficially': {7}, 'thorough': {7}, 'complicated': {12, 7}, 'instruction': {7}, 'successfully': {7}, 'stations': {12, 15, 7}, 'import': {7}, 'wealth': {11, 14, 7}, 'defect': {18, 13, 7}, 'greatly': {7}, 'contract': {17, 13, 7}, 'selection': {16, 9, 12, 7}, 'diminish': {11, 7}, 'upright': {7}, 'repugnant': {7}, 'vital': {7}, 'virtually': {7}, 'talents': {7}, 'virtue': {11, 12, 7}, 'overcome': {7}, 'pain': {7}, 'unwelcome': {7}, 'occurred': {8, 7}, 'suffering': {9, 7}, 'cruisers': {7, 8, 9, 12, 13, 14}, 'french': {7, 8, 9, 10, 15, 16, 17, 18}, 'indicate': {7}, 'disturbance': {7}, 'cordial': {13, 7}, 'perfectly': {12, 7}, 'understanding': {9, 18, 15, 7}, 'unabated': {7}, 'endeavor': {10, 12, 14, 7}, 'utmost': {7}, 'eventually': {13, 7}, 'forget': {7}, 'entire': {7, 8, 9, 10, 17}, 'selfrespect': {7}, 'fortitude': {7}, 'reserve': {16, 7}, 'message': {7}, 'receipts': {7, 9, 12, 13, 14, 15, 16, 17, 18}, 'reenforcement': {17, 13, 7}, 'preliminary': {9, 13, 7}, 'heartfelt': {7}, 'posterity': {13, 14, 7}, 'motive': {16, 7}, 'intervals': {17, 7}, 'left': {7, 9, 12, 14, 15, 18}, 'unimproved': {7}, 'see': {7, 9, 10, 11, 13, 14, 18}, 'ardently': {7}, 'barely': {7}, 'submit': {8, 9, 7}, 'midst': {7}, 'recalls': {7}, 'congratulate': {7, 8, 11, 16, 17}, 'supplications': {7}, 'sovereign': {7}, 'arbiter': {7}, 'preserved': {12, 7}, 'perpetual': {7}, 'apprehensive': {8}, 'contagious': {8, 9, 16}, 'sickness': {8, 9}, 'afflicted': {8, 10, 12}, 'philadelphia': {8, 10, 11}, 'convene': {8, 18}, 'sympathy': {8}, 'decline': {8}, 'determination': {8, 10, 16, 17, 18}, 'hopes': {8}, 'realized': {8}, 'health': {8, 9, 10, 16}, 'members': {8, 10, 14, 15}, 'assemble': {8, 9, 11, 13}, 'postpone': {8}, 'passing': {8, 16, 18}, 'amendment': {8, 17, 10}, '1794': {8, 13}, 'reestablishment': {8}, 'restoration': {8, 9, 13}, 'properties': {8}, 'injustice': {8, 11}, 'benevolence': {8}, 'propitious': {8}, 'seasons': {8}, 'above': {8, 17, 12, 13}, 'religious': {8, 10}, 'sovereignty': {8, 9, 14}, 'moral': {8, 17}, 'secret': {8}, 'attacks': {8, 9, 10, 18}, 'envoys': {8, 10, 11}, 'embarked': {8}, 'colleague': {8}, 'arrival': {8, 12}, 'whence': {8}, 'proceeded': {8, 9, 13, 14, 15, 17, 18}, 'journeys': {8}, 'paris': {8, 10, 14, 15}, '19th': {8}, 'mission': {8, 10, 18}, 'mean': {8, 9, 15, 17, 18}, 'attainment': {8}, 'manifestation': {8}, 'unanimity': {8, 18}, 'memorable': {8}, 'beneficent': {8, 12}, 'kindly': {8}, 'confidently': {8, 10, 11}, 'asserted': {8}, 'adjournment': {8, 11}, 'precautionary': {8}, 'hold': {8}, 'obtained': {8, 16, 18}, 'obligations': {8, 10}, 'impaired': {8, 18}, 'ambition': {8}, 'avarice': {8}, 'unrestrained': {8}, 'ground': {8, 12, 13, 14, 16}, 'raise': {8, 13}, 'plundered': {8, 16}, 'comfort': {8, 13, 15}, 'growth': {8, 12}, 'habits': {8, 11}, 'commercial': {8, 10, 11, 14, 16, 18}, 'cities': {8, 9, 10, 16}, 'short': {8, 10, 12, 13, 14, 17, 18}, 'involving': {8, 12}, 'poverty': {8}, 'distress': {8, 12}, 'directly': {8, 17, 13}, 'solely': {8}, 'faring': {8}, 'guilty': {8}, 'neglect': {8, 10}, 'forbore': {8}, 'suitable': {8, 9, 10}, 'sure': {8, 9, 10, 11}, 'withdrawing': {8}, 'demarcation': {8, 9, 14}, 'authentic': {8}, 'regretted': {8, 10}, 'affect': {8, 12}, 'indulging': {8}, 'answers': {8}, 'offered': {8, 18, 12}, 'run': {8, 9}, 'unpleasant': {8, 16}, 'alienate': {8}, 'activity': {8, 17, 10, 15}, 'exerted': {8}, 'insinuated': {8}, 'residing': {8, 15}, 'transfer': {8}, 'confederacy': {8}, 'prepare': {8, 10}, 'counteract': {8}, 'practices': {8, 16, 12, 14}, 'intended': {8, 9, 11, 14, 18}, '1796': {8}, 'mouths': {8}, 'adjacent': {8, 16, 14, 17}, 'shores': {8, 16, 11}, 'islands': {8, 9}, 'sources': {8, 9, 18, 12}, 'gave': {8, 16, 18, 11}, 'requiring': {8, 17, 10, 18}, 'supposed': {8, 9, 13, 17, 18}, 'rhode': {8}, 'island': {8, 10}, 'british': {8, 9, 10, 13, 14, 15, 16, 17, 18}, 'contracted': {8, 16, 10}, 'remaining': {8, 12, 14, 15, 17, 18}, 'determinations': {8}, 'prosecuted': {8}, 'decisions': {8}, 'losses': {8, 9}, 'damages': {8}, 'irregular': {8}, 'illegal': {8, 16}, 'condemnations': {8, 9, 18}, 'conformably': {8, 15}, 'awarded': {8}, 'costs': {8}, 'arbitration': {8}, '21st': {8}, 'summer': {8}, 'cargoes': {8, 9, 18}, 'sittings': {8}, 'obligated': {8}, 'award': {8}, 'acting': {8, 9, 10, 17, 18}, 'capture': {8, 9}, 'merchandise': {8}, 'awards': {8}, 'supporting': {8, 15}, 'tribunals': {8}, 'divers': {8}, 'disbursed': {8}, 'thrown': {8, 11, 13}, 'ashore': {8}, 'destitute': {8}, 'sick': {8}, 'moneys': {8, 17, 13}, 'reasonably': {8, 15}, 'reimbursements': {8, 17}, 'ineffectual': {8}, 'discovered': {8}, 'sailing': {8, 16}, 'forged': {8}, 'seldom': {8}, 'happens': {8}, 'detect': {8, 12}, 'deception': {8}, 'inspection': {8, 12}, 'registers': {8}, 'letters': {8}, 'feudal': {8}, 'introduced': {8, 14}, 'loaned': {8}, 'funding': {8}, 'systems': {8}, 'continual': {8}, 'direction': {8, 16, 12, 17}, 'singular': {8, 14}, 'portentous': {8, 9}, 'indifferent': {8}, 'importunity': {8}, 'hearty': {8, 15}, 'concurrence': {8, 13}, 'reverence': {9}, 'dispensations': {9, 10}, 'alarming': {9}, 'pestilence': {9}, 'malady': {9}, 'disappeared': {9}, 'fatal': {16, 9}, 'repeated': {9, 11}, 'ravages': {9, 14}, 'malignancy': {9}, 'whereby': {9}, 'affected': {9, 12, 13}, 'idea': {9}, 'frame': {9, 10}, 'calamity': {9, 11}, 'sympathize': {9}, 'sufferers': {9}, 'oblations': {9}, 'participation': {9, 17}, 'menaces': {9}, 'manly': {9}, 'encouraged': {9, 18}, 'invigorated': {9}, 'undismayed': {9}, 'glory': {9}, 'relation': {9, 18}, 'come': {16, 9, 12, 13}, 'differences': {9, 10, 16, 17, 18}, 'perceive': {9, 11, 12}, 'solicitous': {9}, 'impress': {9}, 'averse': {9}, 'rupture': {9}, 'willing': {9}, 'professions': {9}, 'inadmissible': {9}, 'pretension': {9}, 'prescribe': {9, 10}, 'qualifications': {9}, 'asserting': {9}, 'her': {9, 12, 16, 17, 18}, 'sincerity': {9, 11}, 'demonstrative': {9}, 'indirectly': {9}, 'decree': {9, 18}, 'directory': {9}, 'restrain': {9, 13, 14}, 'cruising': {9}, 'fruitlessly': {9}, 'complained': {16, 9}, 'enacted': {9}, 'january': {9, 14}, 'fabric': {9}, 'belong': {9}, 'neutrals': {9, 18}, 'rescinded': {9}, 'proposition': {9, 17}, 'unequivocal': {9}, 'continues': {16, 9, 17, 15}, 'regardless': {9}, 'reconcile': {9, 12}, 'discoverable': {9}, 'invigorate': {9}, 'incalculable': {9}, 'development': {9}, 'energies': {9, 11, 12, 13}, 'demonstrating': {9}, 'infer': {9, 17}, 'abandon': {9, 11}, 'perseveringly': {9}, 'cultivated': {9}, 'send': {9, 18, 17}, 'determinate': {9}, 'humiliation': {9}, 'she': {16, 9, 14, 17}, 'desirous': {9, 10}, 'take': {9, 11, 12, 14, 15, 17}, 'steadily': {9}, 'governed': {9}, 'embassy': {9}, 'desist': {9}, 'reparation': {9}, 'inflicted': {9}, 'obstacle': {9, 17, 15}, 'pledge': {9, 11}, 'adheres': {9}, 'invariably': {9, 10}, 'manifestations': {9, 15}, 'deem': {9}, 'deliberately': {9}, 'declare': {9}, 'negotiate': {9}, 'vigorous': {9, 17}, 'alike': {9, 10}, 'armament': {9}, 'acknowledged': {16, 9}, 'sudden': {16, 9, 18, 13}, 'remarkable': {9}, 'size': {9}, 'coast': {9, 11, 13, 15, 16, 17, 18}, 'safe': {16, 9, 12}, 'foresight': {9}, 'timber': {9}, 'advert': {9, 10}, 'matters': {9, 12, 14, 15, 18}, 'evacuated': {9}, 'walnut': {9}, 'hills': {9}, 'commences': {9}, 'point': {9, 10, 11, 12, 15, 16, 17}, 'mississippi': {9, 14, 15, 16, 17, 18}, 'northernmost': {9}, '31st': {9}, 'latitude': {9}, 'joined': {9}, 'instigated': {9}, 'oppose': {9, 12}, 'jealous': {9}, 'white': {9}, 'extinguished': {9, 13, 15, 16, 17, 18}, 'ere': {9, 17}, 'stopped': {9}, 'mischiefs': {9}, 'continuing': {9, 13, 14}, 'attending': {9}, 'boundaries': {16, 9, 13, 14}, 'actually': {16, 9, 13, 17}, 'suspend': {9, 17, 15}, 'forming': {9, 13}, 'therein': {9}, 'described': {9, 14}, 'scoodiac': {9}, 'falls': {9}, 'fork': {16, 9, 13}, 'streams': {9, 14}, 'comes': {9, 17}, 'westward': {9}, 'northward': {9}, 'stream': {16, 9}, 'preclude': {9}, 'contention': {9}, 'claimants': {9}, 'bound': {16, 9, 12}, 'grants': {9}, 'adjoining': {9}, 'subordinate': {9, 15}, 'determined': {16, 9}, 'mouth': {9, 13, 14, 16, 17}, 'settled': {9, 13, 15, 16, 17}, 'usually': {16, 9, 18}, 'fundy': {9}, 'lie': {9, 13}, 'channel': {9}, 'apprehended': {9, 18}, 'augmenting': {9}, 'raising': {16, 9, 13}, 'solidity': {9}, 'unexampled': {9, 11}, 'conspicuous': {9}, 'reconciled': {9}, 'valuations': {9}, 'assessment': {9}, 'obstacles': {9, 10}, 'assure': {9, 11}, 'adverting': {16, 9, 17}, 'inculcating': {9}, 'dearest': {9}, 'domain': {9, 10, 11}, '17xa0uscxa0105': {9, 10, 11}, 'america': {17, 10}, 'coming': {16, 10}, 'possessed': {17, 10}, 'flattering': {10}, 'interruptions': {10}, 'disease': {16, 10}, 'unimpaired': {10}, 'thanks': {10, 12}, 'benevolent': {10}, 'deity': {10}, 'merciful': {10}, 'recollected': {10}, 'ungrateful': {10}, 'misrepresentations': {10}, 'openly': {10}, 'resisted': {10}, 'directing': {10}, 'valuation': {10}, 'defiance': {10, 18, 15}, 'hopeless': {10}, 'consisting': {10}, 'companies': {10}, 'volunteers': {17, 10, 18}, 'convicted': {10}, 'misdemeanors': {10}, 'tried': {10}, 'indispensably': {17, 10}, 'interpretation': {10}, 'executed': {16, 10, 11, 13}, 'guarded': {10, 13, 14, 17, 18}, 'organization': {10, 12, 15}, 'earnestly': {16, 10}, 'professed': {10}, 'accommodate': {10}, 'felt': {16, 10}, 'nomination': {10}, 'ministers': {18, 10, 11}, 'conditions': {16, 10, 18, 14}, 'conclude': {10}, 'advice': {10}, 'pledges': {10}, 'incompatible': {10}, 'inconsistent': {10, 15}, 'appearing': {16, 10}, 'domingo': {10}, 'safely': {10, 12, 15}, 'restraints': {17, 10}, 'prohibitions': {10}, 'discontinued': {10, 12}, 'renewal': {10}, 'privateering': {10}, 'ceased': {10}, 'examining': {10}, 'withdraw': {16, 17, 10}, 'unavoidably': {10}, 'originated': {10}, 'relating': {10}, 'sitting': {10}, 'whenever': {16, 17, 10, 18}, 'impede': {10}, 'instruct': {10}, 'explanation': {10}, 'performance': {10, 12}, 'monday': {10}, 'december': {10}, 'transferred': {10, 14}, 'offices': {10, 11, 12, 15}, 'designed': {10}, 'removal': {10, 11}, 'representativesni': {10}, 'expenditure': {10, 11, 13}, 'exempted': {10}, 'arrived': {16, 10, 12}, 'investigate': {10}, 'retrenchments': {10}, 'changes': {10, 12}, 'occurring': {10}, 'preparing': {16, 17, 10}, 'almost': {10}, 'unsafe': {10}, 'maintaining': {16, 10, 18}, 'uncertain': {10, 12, 13, 17, 18}, 'terminate': {10}, 'perseverance': {18, 10, 11}, 'dictate': {10}, 'remotely': {10}, 'doing': {16, 10}, 'offense': {16, 10, 12}, 'repelling': {10}, 'escaping': {10}, 'degradation': {10}, 'reposed': {16, 10}, 'serve': {17, 10}, 'unshaken': {10}, 'compliance': {11, 15}, 'records': {11}, 'resided': {11}, 'assembling': {11, 15}, 'wished': {11}, 'unbecoming': {11}, 'solemn': {11}, 'temple': {11}, 'blessing': {11, 14}, 'piety': {11}, 'magnanimity': {11}, 'constancy': {11}, 'selfgovernment': {11, 12, 14}, 'adorned': {11}, 'veneration': {11}, 'simple': {11}, 'morals': {11}, 'flourish': {11}, 'columbia': {17, 11}, 'exercised': {11}, 'performing': {11}, 'advancing': {16, 11, 14}, 'rapidity': {11, 14}, 'possessing': {11}, 'lamentably': {11}, 'misdirected': {11}, 'affords': {11}, 'regularity': {11}, 'returned': {11, 14}, 'station': {11}, 'devolve': {11}, 'convenient': {11, 12, 13}, 'beneficially': {11}, 'king': {11}, 'prussia': {11}, 'ratified': {11, 13}, 'exchanged': {11, 13}, 'promulgated': {11}, 'fore': {11}, 'disappointed': {11, 13}, 'plenipotentiary': {11}, 'consul': {16, 11}, 'treat': {11}, 'proportioned': {11, 12, 15}, 'insecurity': {11}, 'trusting': {11}, 'dangerous': {11}, 'imprudence': {11}, 'self': {11}, 'adapted': {16, 18, 11, 13}, 'vast': {11}, 'ocean': {11, 14, 15, 17, 18}, 'suggest': {11, 12, 15}, 'seasonable': {11, 12, 15}, 'justify': {18, 11, 12}, 'quickly': {11}, 'use': {11, 12, 13, 14, 16, 17}, 'suddenly': {11}, 'esteem': {11}, 'variety': {11}, 'precaution': {18, 11, 14}, 'expended': {11}, 'works': {11, 12, 13, 17, 18}, 'invites': {11}, 'importations': {11}, 'efficiency': {11}, 'grand': {11}, 'irresistibly': {11}, 'scenes': {11, 14}, 'surround': {11}, 'uncommon': {11}, 'province': {11, 13}, 'deplore': {11}, 'turning': {16, 11}, 'eyes': {11}, 'homeward': {11}, 'rejoice': {11}, 'emanating': {11}, 'labor': {16, 11, 12}, 'fortify': {11}, 'cling': {11}, 'felicity': {11}, 'resist': {11}, 'unabating': {11}, 'innovations': {18, 11}, 'confided': {11, 12, 13, 15}, 'faithfully': {16, 11, 13}, 'gratification': {12}, 'council': {18, 12}, 'certainty': {16, 17, 12}, 'troubles': {12}, 'sister': {12}, 'devoutly': {12}, 'pleased': {12}, 'breathe': {12}, 'perilous': {12}, 'quietly': {12}, 'earth': {16, 12}, 'comforts': {12}, 'cessation': {12}, 'irregularities': {12, 15}, 'irritations': {18, 12}, 'strengthens': {12}, 'wrongs': {18, 12, 14}, 'unoffending': {17, 12}, 'pressure': {17, 12}, 'reviewed': {12}, 'founding': {12}, 'prevails': {16, 12}, 'yon': {12}, 'introduce': {12}, 'implements': {12, 14, 15}, 'husbandry': {12}, 'household': {16, 18, 12, 14}, 'becoming': {16, 12}, 'superiority': {12}, 'dependence': {12}, 'fishing': {12}, 'diminution': {12, 14, 15}, 'exists': {12}, 'barbary': {17, 18, 12, 13}, 'unfounded': {12}, 'compact': {12}, 'comply': {12}, 'style': {12}, 'answer': {18, 12, 13}, 'squadron': {16, 12}, 'orders': {16, 17, 12}, 'threatened': {18, 12}, 'attack': {16, 18, 12}, 'bey': {12, 15}, 'gibraltar': {12}, 'blockaded': {12}, 'atlantic': {18, 12}, 'peril': {12}, 'dispelled': {12}, 'tripolitan': {12}, 'schooner': {12}, 'lieutenant': {17, 12}, 'sterret': {12}, 'gone': {12}, 'tender': {12}, 'larger': {17, 12}, 'slaughter': {12}, 'bravery': {16, 12}, 'element': {12}, 'makes': {12}, 'seek': {12}, 'conscientious': {12}, 'multiplication': {12}, 'unauthorized': {17, 12, 15}, 'go': {17, 12, 13, 14}, 'vessel': {16, 18, 12, 13}, 'disabled': {18, 12}, 'liberated': {12}, 'crew': {18, 12}, 'authorizing': {12, 15}, 'adversaries': {12}, 'exclusively': {12}, 'discovering': {12}, 'stipulation': {12, 15}, 'reduce': {12, 15}, 'ratio': {12, 13}, 'geometrical': {12}, 'duplication': {12}, 'twentytwo': {12}, 'holds': {12}, 'susceptible': {12, 13, 14}, 'educated': {12}, 'habituated': {12}, 'valuing': {12}, 'augmentation': {12, 14, 15}, 'consumption': {12}, 'desirably': {12}, 'weighing': {12}, 'probabilities': {12}, 'income': {17, 12, 13}, 'dispense': {18, 12}, 'stamps': {12}, 'auctions': {12}, 'licenses': {12}, 'carriages': {12}, 'refined': {12}, 'sugars': {12}, 'postage': {12}, 'newspapers': {12}, 'principals': {12}, 'shorter': {12}, 'periods': {17, 12}, 'untoward': {12}, 'imposts': {12}, 'taxing': {12}, 'accumulate': {12}, 'treasure': {12}, 'temptations': {12}, 'reducing': {16, 17, 12}, 'habitual': {18, 12, 14}, 'revisal': {16, 12}, 'constituting': {12}, 'multiplied': {12}, 'unnecessarily': {12}, 'injuriously': {12}, 'meant': {12}, 'essay': {12}, 'enumeration': {17, 12}, 'ramifications': {12}, 'traced': {17, 12}, 'trial': {16, 12}, 'discretion': {16, 12}, 'begun': {16, 18, 12, 13}, 'diplomatic': {12}, 'considerably': {16, 12}, 'inspectors': {12}, 'accountability': {12, 14}, 'agencies': {12}, 'salaries': {12}, 'regulating': {12}, 'exercises': {12}, 'reformations': {12}, 'caution': {12}, 'removing': {12}, 'useless': {12}, 'injure': {12}, 'retained': {12}, 'mass': {17, 12}, 'abolished': {12}, 'roll': {12}, 'try': {12}, 'test': {12, 15}, 'multiply': {12}, 'burthen': {16, 12, 15}, 'bear': {17, 12}, 'behooves': {12}, 'avail': {12}, 'off': {16, 12}, 'surcharge': {12}, 'earnings': {12}, 'subsist': {12}, 'consume': {12, 13}, 'residue': {16, 12}, 'intrusted': {12}, 'barriers': {12}, 'dissipation': {12}, 'appropriating': {12}, 'disallowing': {12}, 'applications': {12}, 'varying': {12}, 'transcending': {12}, 'undefined': {12}, 'circumscribing': {12}, 'discretionary': {12}, 'back': {12}, 'accountabilities': {12}, 'examinations': {12}, 'shews': {16, 12}, 'receipt': {12}, 'payments': {12, 13, 16, 17, 18}, 'exactly': {12, 15}, 'modifications': {18, 12, 14}, 'garrison': {12}, 'needful': {12}, 'kept': {16, 12}, 'circumference': {12}, 'enemy': {16, 17, 12}, 'choose': {12}, 'invade': {12}, 'collected': {12}, 'invading': {12}, 'threatens': {16, 12, 14}, 'regulars': {12}, 'amend': {12}, 'separate': {12}, 'everything': {12}, 'door': {18, 12}, 'wanted': {16, 12}, 'appropriate': {12}, 'exigence': {12}, '74gun': {12}, 'admits': {12}, 'incurred': {18, 12, 13, 15}, 'slackened': {12}, 'yards': {12}, 'seven': {12}, 'yourselves': {12, 14}, 'superintending': {12}, 'officer': {17, 12, 14, 15}, 'yard': {12}, 'emoluments': {12}, 'legislation': {12, 15}, 'sold': {16, 12, 13}, 'erection': {17, 12}, 'questionable': {12}, 'projected': {12}, 'foreseen': {12}, 'pillars': {12}, 'thriving': {12}, 'casual': {12}, 'seasonably': {12}, 'interposed': {12}, 'inquiries': {12}, 'otherwise': {17, 18, 12, 14}, 'erected': {12}, 'contemplation': {17, 12}, 'perform': {12}, 'caused': {12}, 'procured': {12}, 'juries': {12}, 'named': {12}, 'designated': {12}, 'chances': {12}, 'denial': {12}, 'citizenship': {12}, 'fourteen': {12}, 'ask': {12}, 'controls': {12}, 'refuse': {12}, 'unhappy': {12}, 'fugitives': {12}, 'hospitality': {18, 12, 14}, 'wilderness': {12}, 'fathers': {12}, 'arriving': {12}, 'oppressed': {12}, 'asylum': {12}, 'globe': {12}, 'wisely': {17, 12}, 'develop': {16, 12}, 'capabilities': {12}, 'everyone': {17, 12}, 'manifesting': {12}, 'bona': {12}, 'fide': {12}, 'embarking': {12, 14}, 'fortunes': {12}, 'permanently': {12, 14}, 'restrictions': {16, 12}, 'fraudulent': {12}, 'brings': {12}, 'embarrassment': {12}, 'messages': {18, 12}, 'temperance': {12}, 'walls': {12}, 'befriends': {12}, 'honest': {17, 12, 15}, 'disinterested': {12}, 'equilibrium': {12}, 'establish': {12, 14}, 'beloved': {13}, 'attentions': {13}, 'mark': {13}, 'flow': {13, 14}, 'thankfulness': {13}, 'owe': {13, 14}, 'bounty': {13}, 'around': {13}, 'finds': {13}, 'affection': {13}, 'lightened': {13}, 'remark': {13}, 'smiles': {13}, 'managing': {13}, 'unembarrassed': {13}, 'unoppressed': {13}, 'exactions': {13}, 'abridged': {13}, 'returning': {13}, 'competition': {13}, 'monopolizing': {13}, 'discriminations': {13}, 'prohibit': {13}, 'thither': {13}, 'amities': {13}, 'reciprocity': {13}, 'defeat': {18, 13}, 'inequalities': {13}, 'countervailing': {13}, 'parliament': {13}, 'anticipating': {13}, 'abolition': {13}, 'shows': {13}, 'equality': {18, 13}, 'evasion': {13}, 'rescue': {13}, 'dangers': {17, 13, 14}, 'distresses': {13, 14}, 'plunge': {13}, 'charge': {17, 13}, 'cession': {13, 15}, 'louisiana': {13, 14, 15, 16, 17}, 'warfare': {16, 13}, 'watch': {13}, 'harbor': {18, 13}, 'shallowness': {13}, 'smaller': {13}, 'unobserved': {13}, 'unfortunately': {13}, 'fell': {13}, 'prey': {13}, 'captain': {13}, 'seaman': {13}, 'agreement': {13}, 'formerly': {13}, 'bashaw': {13}, 'captive': {13}, 'repurchase': {13}, 'talasscee': {13}, 'comprehended': {13}, 'oconee': {13}, 'oakmulgee': {13}, 'settling': {16, 17, 13}, 'marking': {13}, 'choctaw': {13}, 'revolution': {13}, 'respectable': {13, 15}, 'encouraging': {13}, 'outpost': {13}, 'surrounded': {13}, 'monopoly': {13}, 'prevents': {13}, 'habitation': {13}, 'indiana': {13, 15}, 'includes': {13}, 'vincennes': {13, 15}, 'lines': {17, 13}, 'fix': {13}, 'breadth': {13, 15}, '24': {13}, 'leagues': {13}, 'parallel': {13}, 'ceded': {16, 13, 15}, 'tract': {13}, 'salt': {17, 13}, 'finance': {13}, 'twelve': {13}, 'exceeded': {16, 18, 13}, 'upward': {16, 17, 13, 15}, '8000000': {16, 13}, 'exclusive': {13, 14, 15}, 'million': {13}, 'nearly': {13, 14, 15, 16, 17, 18}, 'millions': {16, 13, 14}, '4500000': {13}, 'supervenes': {13}, 'incur': {13}, 'shortly': {16, 17, 18, 13}, 'retarded': {13, 15}, 'closed': {13, 14}, 'transacting': {13}, 'prolonging': {13}, 'reloans': {13, 14}, 'redeeming': {13, 14}, 'remittance': {13}, 'unemployed': {13}, 'equivalent': {13}, 'sanctioned': {13}, 'emancipation': {13}, 'mortal': {13}, 'canker': {13}, 'substituting': {13}, 'rather': {16, 13, 14}, 'practiced': {13}, 'whensoever': {13}, 'firmest': {13}, 'meantime': {16, 13}, 'liberating': {13}, 'annually': {13}, 'portions': {16, 17, 13}, 'lessen': {16, 13, 14}, 'tripoline': {13, 14}, 'tenure': {13}, 'augmented': {18, 13}, 'presuming': {13}, 'expend': {13}, 'water': {18, 13}, 'sun': {13}, 'decays': {13}, 'navyyard': {13}, 'dock': {13}, 'dry': {13}, 'cover': {17, 13, 14}, 'proves': {13}, 'wood': {13}, 'possesses': {13}, 'heights': {13}, 'level': {13}, 'tide': {16, 13}, 'lock': {13}, 'furnishes': {13}, 'sheltered': {13}, 'bed': {13}, 'depositories': {13}, 'repairing': {17, 18, 13}, 'hereafter': {18, 13}, 'undertaken': {13}, 'navyyards': {13}, 'offering': {13}, 'foster': {13}, 'nurseries': {13}, 'nurture': {13}, 'man': {17, 13}, 'contracts': {18, 13}, 'impose': {16, 13}, 'pale': {13, 15}, 'rock': {13}, 'safety—these': {13}, 'landmarks': {13}, 'selves': {13}, 'action': {16, 17, 18, 13}, 'endear': {13}, 'invested': {13}, 'earlier': {18, 14}, 'insensible': {14}, 'unexpected': {14}, 'concernment': {14}, 'agitation': {14}, 'deposit': {14}, 'port': {14, 15, 16, 17, 18}, 'orleans': {14, 15, 16, 17, 18}, 'privation': {14}, 'redress': {14}, 'reposing': {18, 14}, 'wrong': {16, 14}, 'representations': {14, 15}, 'resorted': {14}, 'unaware': {14}, 'perpetually': {14}, 'key': {14}, 'remained': {16, 14}, 'presenting': {18, 14}, 'territories': {16, 17, 14}, 'possessions': {14, 15}, 'accounted': {14}, 'conveying': {14}, 'acquisition': {14, 15}, 'discernment': {14}, 'bearing': {14}, '30th': {14, 15, 16, 17, 18}, 'waters': {14, 15, 16, 17, 18}, 'outlet': {14}, 'uncontrolled': {14}, 'collision': {14}, 'climate': {14}, 'occupation': {14, 15}, 'incorporation': {14}, 'newly': {14, 15}, 'brethren': {16, 14, 15}, 'conscience': {14}, 'occupancy': {14}, 'ascertaining': {14}, 'geography': {17, 14}, 'space': {16, 14}, 'kaskaskia': {14}, 'savage': {14}, 'unable': {14}, 'reserving': {14, 15}, 'agricultural': {14}, 'fertile': {14}, 'extending': {14}, 'illinois': {14}, 'barrier': {14}, 'descend': {14}, 'lower': {14}, 'competence': {14, 15}, 'firmer': {14}, 'necessaries': {14, 15}, 'prices': {14}, 'gain': {14}, 'conciliatory': {14}, 'confine': {14}, 'convoy': {14}, 'sensibly': {14}, 'northeastern': {14}, 'angles': {14}, 'evinced': {14}, 'imperfectly': {14}, 'subsisting': {16, 14}, 'unfavorable': {14}, 'incidents': {17, 14}, 'provides': {14}, 'ending': {14, 15, 16, 17, 18}, '11000000': {14}, '12000000': {14}, 'accrued': {14, 15}, 'exceeds': {14, 15}, 'counted': {14}, 'extinguish': {14, 15}, '3100000': {14}, 'preceding': {14, 15, 16, 17, 18}, '8500000': {14}, 'accruing': {14}, '880000': {14}, '8': {14}, '1802': {14, 15}, 'untouched': {14}, 'applicable': {14, 15}, 'constitutionally': {17, 14}, '13000000': {16, 14}, 'fifteen': {14}, 'sinking': {14}, 'impost': {17, 14}, 'economies': {14}, 'reviewing': {16, 14}, 'intermediate': {14}, 'applying': {14}, 'progression': {14}, 'remittances': {14}, 'installments': {17, 18, 14}, '50000': {14}, 'gunboats': {16, 14}, 'unexpended': {14}, 'models': {14}, 'approved': {17, 14}, 'dispensed': {14}, '1500000': {14}, 'happier': {14}, 'flames': {14, 15}, 'lighted': {14, 15}, 'miseries': {14}, 'bow': {14}, 'inspiring': {14}, 'hastily': {14}, 'sanguinary': {14}, 'pity': {14}, 'heaviest': {14}, 'conflict': {14}, 'kindness': {14}, 'annoyance': {16, 14}, 'police': {14}, 'individually': {14}, 'severely': {14}, 'alien': {14}, 'infecting': {14}, 'suspicion': {14}, 'americans': {14}, 'preferring': {14}, 'efficaciously': {17, 14}, 'contraventions': {14}, 'jurisdictional': {14}, 'seas': {16, 18, 14, 15}, 'rectified': {14}, 'countenanced': {14}, 'separated': {17, 14}, 'entangle': {14}, 'theirs': {14}, 'assail': {14}, 'unwise': {14}, 'cast': {14}, 'endowed': {14}, 'contentions': {14}, 'paths': {14}, 'cultivating': {14}, 'collisions': {18, 14}, 'umpirage': {14}, 'divesting': {14}, 'partialities': {14}, 'friendships': {14}, 'embroil': {14}, 'confident': {14}, 'arena': {14}, 'commiseration': {14}, 'approving': {17, 14}, 'calculate': {16, 15}, 'wellbeing': {18, 15}, 'stain': {15}, 'footsteps': {15}, 'harass': {15}, 'infringements': {15}, 'gives': {15}, 'properly': {15}, 'noticing': {15}, 'unprovided': {18, 15}, 'arm': {15}, 'merchant': {15}, 'undertake': {15}, 'wage': {15}, 'independently': {15}, 'wellordered': {15}, 'passage': {17, 15}, 'entry': {15}, 'mobile': {16, 15}, 'learnt': {17, 15}, 'misunderstood': {15}, 'meditated': {17, 15}, 'intentions': {15}, 'tenor': {15}, 'instrument': {15}, 'replace': {15}, 'validity': {15}, '1803': {16, 15}, '30': {15}, 'undisturbed': {16, 15}, 'opportunities': {16, 15}, 'reenforcements': {15}, 'barbarians': {15}, 'injury': {16, 15}, 'ensues': {15}, 'interested': {15}, 'adjudication': {16, 15}, 'impracticability': {15}, 'hither': {15}, 'rejection': {15}, 'expressions': {15}, 'unjust': {15}, 'retire': {15}, 'commence': {15}, 'division': {15}, 'mines': {15}, 'rich': {17, 15}, 'metal': {15}, 'titles': {15}, 'neighborly': {15}, 'learned': {15}, 'aiding': {16, 15}, 'advantageous': {15}, 'losing': {15}, 'incendiaries': {15}, 'natural': {15}, 'disorderly': {15}, 'voluntary': {15}, 'propose': {17, 18, 15}, 'enlargement': {15}, 'economical': {15}, 'relinquishment': {15}, 'native': {15}, 'delawares': {15}, 'desiring': {15}, 'convert': {15}, 'improving': {16, 15}, 'retain': {15}, 'road': {15}, 'rapids': {16, 15}, 'annuities': {15}, 'animals': {15}, 'fronting': {15}, 'descending': {15}, 'kaskaskias': {15}, 'consolidates': {15}, 'piankeshaws': {16, 15}, 'sanctions': {15}, 'february': {15}, '28': {15}, 'employing': {15}, 'gun': {17, 18, 15}, 'boats': {16, 17, 18, 15}, 'construction': {16, 17, 18, 15}, 'promptness': {15}, 'manned': {16, 15}, 'deciding': {15}, 'adding': {15}, 'occur': {17, 15}, '115m': {15}, '36m': {15}, 'ward': {15}, '12m': {15}, 'proportionate': {15}, 'yearly': {15}, 'relied': {15}, '35m': {15}, 'conventions': {15}, 'rapidly': {15}, 'broader': {15}, 'fine': {15}, 'unaffected': {16}, 'theater': {16}, 'approve': {16, 18}, 'affliction': {16}, 'fever': {16}, 'occasionally': {16}, 'visitations': {16}, 'incommunicable': {16}, 'goods': {16}, 'diseased': {16}, 'access': {16}, 'autumn': {16}, 'disappears': {16}, 'frosts': {16}, 'threefourths': {16}, 'fears': {16}, 'cautions': {16}, 'head': {16}, 'customs': {16}, 'certify': {16}, 'sails': {16}, 'injunction': {16}, 'propensity': {16}, 'identify': {16}, 'endemic': {16}, 'fevers': {16}, 'quarantines': {16}, 'merits': {16}, 'awake': {16}, 'coasts': {16}, 'infested': {16}, 'watched': {16}, 'commissions': {16}, 'piratical': {16}, 'entrance': {16}, 'daring': {16}, 'sunk': {16}, 'obscure': {16}, 'maltreated': {16}, 'crews': {16}, 'desert': {16}, 'food': {16}, 'covering': {16}, 'enormities': {16}, 'unreached': {16}, 'sovereigns': {16}, 'equip': {16}, 'cruise': {16}, 'hovering': {16}, 'gulf': {16}, 'pirates': {16}, 'interpolated': {16}, 'usage': {16, 18}, 'denies': {16}, 'revolts': {16}, 'inconsistency': {16}, 'umpire': {16, 18}, 'doctrine': {16}, 'countenances': {16}, 'sounder': {16}, 'induce': {16}, 'negotiations': {16, 17, 18}, 'spoliations': {16}, 'formally': {16}, 'herself': {16}, 'responsible': {16}, 'arbitrary': {16}, 'vexatious': {16}, 'searches': {16}, 'adjusting': {16}, 'acceded': {16}, 'unsettled': {16, 18}, 'changing': {16}, 'strengthening': {16}, 'disputed': {16}, 'oblige': {16}, 'conflicts': {16}, 'controlled': {16}, 'inroads': {16}, 'details': {16, 17}, 'disappoint': {16}, 'unprofitable': {16}, 'trying': {16}, 'harm': {16}, 'seaport': {16}, 'cannon': {16}, 'batteries': {16}, 'approaching': {16}, 'augment': {16}, 'forces': {16, 17}, 'organize': {16}, 'class': {16}, 'services': {16, 17}, 'younger': {16}, 'unencumbered': {16}, 'old': {16}, '300000': {16}, 'ablebodied': {16}, 'ages': {16}, '18': {16}, '26': {16}, 'furnish': {16, 17}, 'inasmuch': {16}, 'engages': {16}, 'age': {16}, 'bosom': {16}, 'modifying': {16}, 'separation': {16, 17}, 'corps': {16, 17}, 'rotation': {16}, '74': {16}, 'guns': {16}, 'prohibition': {16}, 'exportation': {16}, 'ammunition': {16}, 'stranded': {16}, 'bottomed': {16}, 'ransom': {16}, 'band': {16}, 'conjunction': {16, 17}, 'exbashaw': {16}, 'gallantly': {16}, 'eaton': {16}, 'derne': {16}, 'availed': {16}, 'emulate': {16}, 'valor': {16}, 'reflecting': {16}, 'displayed': {16}, 'enlarging': {16}, 'captains': {16}, 'lieutenants': {16}, 'misunderstandings': {16}, 'explained': {16}, 'ambassador': {16}, 'dissipating': {16, 18}, 'fixes': {16}, 'prescribes': {16}, 'twothirds': {16}, 'complement': {16}, 'frigate': {16, 18}, 'trusted': {16, 17}, 'oftener': {16}, 'risk': {16}, 'preference': {16}, 'forest': {16}, 'dispose': {16}, 'farms': {16}, 'connecticut': {16}, 'depth': {16}, 'inland': {16}, 'chickasaws': {16}, 'ocmulgee': {16}, 'ulcofauhatche': {16}, 'purchases': {16}, 'consolidate': {16}, 'disjoined': {16}, 'completes': {16}, 'banks': {16, 17}, 'deputations': {16}, 'missouri': {16, 17}, 'exploring': {16, 17}, 'quite': {16}, 'eighteen': {16}, 'november': {16, 18}, 'borrow': {16}, '1750000': {16}, 'paying': {16, 18}, '3750000': {16}, 'disposal': {16}, 'addressing': {16}, 'exert': {16}, 'zealously': {16}, 'forms': {16}, 'dispatch': {16, 18}, 'assembled': {17, 18}, 'missions': {17}, 'imputation': {17}, 'dispatches': {17}, 'enables': {17}, 'bayou': {17}, 'pierre': {17}, 'red': {17}, 'village': {17}, 'insulated': {17}, 'redelivery': {17}, 'dozen': {17}, 'stationed': {17}, 'assume': {17}, 'sabine': {17, 18}, 'commandant': {17}, 'superior': {17}, 'correspondence': {17}, 'exhibit': {17}, 'unusual': {17}, 'cavalry': {17}, 'mounted': {17}, 'infantry': {17}, 'governors': {17}, '500': {17}, 'volunteer': {17}, 'promptitude': {17}, 'combining': {17}, 'suppressing': {17}, 'seizing': {17}, 'arresting': {17}, 'authors': {17}, 'abettors': {17}, 'criminal': {17}, 'commencing': {17}, 'intervening': {17}, 'insuperable': {17}, 'attempting': {17}, 'approaches': {17}, 'eastern': {17}, 'examined': {17}, 'spring': {17}, 'obstructing': {17}, 'suffrages': {17}, 'functionaries': {17}, 'jurors': {17}, 'acquires': {17}, 'safeguards': {17}, 'needed': {17}, 'aware': {17}, 'prevention': {17}, 'binding': {17}, 'behavior': {17}, 'offender': {17}, 'indication': {17}, 'show': {17}, 'entitle': {17}, 'reap': {17}, 'messrs': {17}, 'lewis': {17}, 'clarke': {17}, 'descended': {17}, 'accuracy': {17}, 'across': {17}, 'continent': {17}, 'brave': {17}, 'companions': {17}, 'explore': {17}, 'mr': {17}, 'freeman': {17}, 'meriting': {17}, '600': {17}, 'geographers': {17}, 'completing': {17, 18}, 'pike': {17}, 'ascended': {17}, 'journal': {17}, 'map': {17}, 'accurate': {17}, 'explored': {17}, 'authorization': {17}, 'interpose': {17}, 'africa': {17}, 'morality': {17}, 'eager': {17}, 'proscribe': {17}, 'prohibitory': {17}, 'ôtil': {17}, '1808': {17}, 'amounted': {17, 18}, '15m': {17}, '27m': {17}, '3m': {17}, '4m': {17, 18}, 'reimburse': {17}, 'month': {17}, '2m': {17}, '23m': {17}, 'composing': {17}, 'levied': {17}, 'luxuries': {17}, 'suppression': {17}, 'relinquished': {17}, 'modification': {17}, 'assented': {17}, 'surpluses': {17, 18}, 'purchased': {17, 18}, 'prefer': {17}, 'canals': {17}, 'disappear': {17}, 'identified': {17}, 'cemented': {17}, 'indissoluble': {17}, 'manages': {17}, 'rarely': {17}, 'circle': {17}, 'legislatures': {17}, 'deliberated': {17}, 'suppose': {17}, 'enumerated': {17}, 'permits': {17}, 'donation': {17}, 'endow': {17}, 'earliest': {17}, 'predicament': {17}, 'armies': {17}, 'speck': {17}, 'visible': {17}, 'horizon': {17}, 'really': {17}, 'quickened': {17}, 'pace': {17}, 'effective': {17}, 'e': {17}, 'preying': {17}, 'forced': {17}, 'spite': {17}, 'vain': {17}, 'outset': {17}, 'throwing': {17}, 'pressed': {17, 18}, 'protracted': {17}, 'elsewhere': {17}, 'seriously': {18}, 'cherished': {18}, 'bosoms': {18}, 'successive': {18}, 'framed': {18}, 'sincerest': {18}, 'therewith': {18}, 'settle': {18}, 'sign': {18}, 'candidly': {18}, 'declaring': {18}, 'negotiators': {18}, 'compromise': {18}, 'disadvantageous': {18}, 'endangering': {18}, 'accepted': {18}, 'declarations': {18}, 'concessions': {18}, '22nd': {18}, 'admiral': {18}, 'chesapeake': {18}, 'lying': {18}, 'indulgences': {18}, 'killed': {18}, 'outrage': {18}, 'commentaries': {18}, 'indignant': {18}, 'voices': {18}, 'emphasis': {18}, 'interdicted': {18}, 'forbade': {18}, 'town': {18}, 'norfolk': {18}, 'dispatched': {18}, 'unratified': {18}, 'commanders': {18}, 'death': {18}, 'forcibly': {18}, 'aggravations': {18}, 'admitting': {18}, 'constrain': {18}, 'guests': {18}, 'inconsistence': {18}, 'courtesies': {18}, 'interdicting': {18}, 'sacrifice': {18}, 'touch': {18}, 'benefit': {18}, 'swept': {18}, 'seizures': {18}, 'reconsideration': {18}, 'copy': {18}, 'professes': {18}, '1806': {18}, '21': {18}, 'conformed': {18}, 'uninterrupted': {18}, 'fermentation': {18}, 'interchanged': {18}, 'tokens': {18}, 'denote': {18}, 'restless': {18}, 'agitators': {18}, 'excitement': {18}, 'quarrels': {18}, 'adhere': {18}, 'intermission': {18}, 'southwestern': {18}, 'tranquil': {18}, 'identifying': {18}, 'inculcate': {18}, 'occupations': {18}, 'apply': {18}, 'charleston': {18}, 'movable': {18}, 'manning': {18}, 'tours': {18}, 'landsmen': {18}, 'furnished': {18}, 'awaited': {18}, 'retrieved': {18}, 'supplements': {18}, 'arose': {18}, 'momentõs': {18}, 'aaron': {18}, 'burr': {18}, 'associates': {18}, 'arranging': {18}, 'explosion': {18}, 'plots': {18}, 'engendering': {18}, 'publicly': {18}, 'arraignment': {18}, 'circuit': {18}, 'wherever': {18}, 'originate': {18}, 'framers': {18}, 'treason': {18}, '16m': {18}, '55m': {18}, '255m': {18}, '85m': {18}, 'partly': {18}, 'usefully': {18}, 'superseded': {18}, 'awaiting': {18}, 'minor': {18}}\n"
     ]
    },
    {
     "data": {
      "text/plain": [
       "'\\n# How to read?\\nfor example: \\nthe word [\"embrace\"] apperared in document 0,16,and,18. \\n'"
      ]
     },
     "execution_count": 68,
     "metadata": {},
     "output_type": "execute_result"
    }
   ],
   "source": [
    "print(DF)  \n",
    "\n",
    "\"\"\"\n",
    "# How to read?\n",
    "for example: \n",
    "the word [\"embrace\"] apperared in document 0,16,and,18. \n",
    "\"\"\""
   ]
  },
  {
   "cell_type": "code",
   "execution_count": 69,
   "metadata": {},
   "outputs": [],
   "source": [
    "#IDF\n",
    "idf={}\n",
    "document_len=len(data.Text)\n",
    "\n",
    "for i in DF:\n",
    "    x = np.log(document_len/len(DF[i]))\n",
    "    idf[i] = x"
   ]
  },
  {
   "cell_type": "code",
   "execution_count": null,
   "metadata": {},
   "outputs": [],
   "source": [
    "for i in idf:\n",
    "    print(i,idf[i])"
   ]
  },
  {
   "cell_type": "code",
   "execution_count": null,
   "metadata": {},
   "outputs": [],
   "source": [
    "#normalizing the weigths\n",
    "sum_=0\n",
    "for i in idf:\n",
    "    sum_ +=idf[i]\n",
    "\n",
    "for i in idf:\n",
    "    idf[i] /=sum_\n",
    "    print(idf[i])"
   ]
  },
  {
   "cell_type": "code",
   "execution_count": 79,
   "metadata": {},
   "outputs": [
    {
     "name": "stdout",
     "output_type": "stream",
     "text": [
      "0.9999999999999921\n"
     ]
    }
   ],
   "source": [
    "#sum after normalizing\n",
    "_sum_=0 \n",
    "for i in idf:\n",
    "    _sum_ +=idf[i]\n",
    "print(_sum_) "
   ]
  },
  {
   "cell_type": "code",
   "execution_count": null,
   "metadata": {},
   "outputs": [],
   "source": [
    "#total vocabulary\n",
    "total_vocab = [x for x in DF]\n",
    "print(total_vocab)"
   ]
  },
  {
   "cell_type": "code",
   "execution_count": 95,
   "metadata": {},
   "outputs": [],
   "source": [
    "#calculatinf tf-idf\n",
    "\n",
    "from collections import Counter\n",
    "tf_idf = {}\n",
    "for i in range(len(data.Text)):\n",
    "    tokens = data.Text[i]\n",
    "    counter = Counter(tokens + processed_title[i])\n",
    "    for token in np.unique(tokens):\n",
    "        tf = counter[token]/words_count\n",
    "        df = doc_freq(token)\n",
    "        idf = np.log(N/(df+1))\n",
    "        tf_idf[doc, token] = tf*idf"
   ]
  },
  {
   "cell_type": "code",
   "execution_count": null,
   "metadata": {},
   "outputs": [],
   "source": []
  }
 ],
 "metadata": {
  "kernelspec": {
   "display_name": "Python 3",
   "language": "python",
   "name": "python3"
  },
  "language_info": {
   "codemirror_mode": {
    "name": "ipython",
    "version": 3
   },
   "file_extension": ".py",
   "mimetype": "text/x-python",
   "name": "python",
   "nbconvert_exporter": "python",
   "pygments_lexer": "ipython3",
   "version": "3.7.3"
  }
 },
 "nbformat": 4,
 "nbformat_minor": 4
}
