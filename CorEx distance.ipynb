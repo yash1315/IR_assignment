{
 "cells": [
  {
   "cell_type": "code",
   "execution_count": 1,
   "metadata": {},
   "outputs": [],
   "source": [
    "import nltk\n",
    "import pandas as pd\n",
    "from corextopic import corextopic as ct"
   ]
  },
  {
   "cell_type": "code",
   "execution_count": 2,
   "metadata": {},
   "outputs": [],
   "source": [
    "df=pd.read_csv(\"C:\\\\Users\\\\lenovo\\\\Desktop\\\\IR\\\\Project\\\\dist-filtered-preprocessed.csv\")"
   ]
  },
  {
   "cell_type": "code",
   "execution_count": 3,
   "metadata": {},
   "outputs": [
    {
     "data": {
      "text/html": [
       "<div>\n",
       "<style scoped>\n",
       "    .dataframe tbody tr th:only-of-type {\n",
       "        vertical-align: middle;\n",
       "    }\n",
       "\n",
       "    .dataframe tbody tr th {\n",
       "        vertical-align: top;\n",
       "    }\n",
       "\n",
       "    .dataframe thead th {\n",
       "        text-align: right;\n",
       "    }\n",
       "</style>\n",
       "<table border=\"1\" class=\"dataframe\">\n",
       "  <thead>\n",
       "    <tr style=\"text-align: right;\">\n",
       "      <th></th>\n",
       "      <th>Unnamed: 0</th>\n",
       "      <th>lemmas_back_to_text</th>\n",
       "      <th>lemma_tokens</th>\n",
       "      <th>Labels</th>\n",
       "    </tr>\n",
       "  </thead>\n",
       "  <tbody>\n",
       "    <tr>\n",
       "      <th>0</th>\n",
       "      <td>0</td>\n",
       "      <td>social distancing new buzz word combat coronav...</td>\n",
       "      <td>['social', 'distancing', 'new', 'buzz', 'word'...</td>\n",
       "      <td>NaN</td>\n",
       "    </tr>\n",
       "    <tr>\n",
       "      <th>1</th>\n",
       "      <td>1</td>\n",
       "      <td>feel social distancing coronavirus demonstrate...</td>\n",
       "      <td>['feel', 'social', 'distancing', 'coronavirus'...</td>\n",
       "      <td>1.0</td>\n",
       "    </tr>\n",
       "    <tr>\n",
       "      <th>2</th>\n",
       "      <td>2</td>\n",
       "      <td>insane post @thecut wear bra home self distanc...</td>\n",
       "      <td>['insane', 'post', 'thecut', 'wear', 'bra', 'h...</td>\n",
       "      <td>0.0</td>\n",
       "    </tr>\n",
       "    <tr>\n",
       "      <th>3</th>\n",
       "      <td>3</td>\n",
       "      <td>scary reminder importance social distancing sl...</td>\n",
       "      <td>['scary', 'reminder', 'importance', 'social', ...</td>\n",
       "      <td>1.0</td>\n",
       "    </tr>\n",
       "    <tr>\n",
       "      <th>4</th>\n",
       "      <td>4</td>\n",
       "      <td>social distance great important way number way...</td>\n",
       "      <td>['social', 'distance', 'great', 'important', '...</td>\n",
       "      <td>1.0</td>\n",
       "    </tr>\n",
       "  </tbody>\n",
       "</table>\n",
       "</div>"
      ],
      "text/plain": [
       "   Unnamed: 0                                lemmas_back_to_text  \\\n",
       "0           0  social distancing new buzz word combat coronav...   \n",
       "1           1  feel social distancing coronavirus demonstrate...   \n",
       "2           2  insane post @thecut wear bra home self distanc...   \n",
       "3           3  scary reminder importance social distancing sl...   \n",
       "4           4  social distance great important way number way...   \n",
       "\n",
       "                                        lemma_tokens  Labels  \n",
       "0  ['social', 'distancing', 'new', 'buzz', 'word'...     NaN  \n",
       "1  ['feel', 'social', 'distancing', 'coronavirus'...     1.0  \n",
       "2  ['insane', 'post', 'thecut', 'wear', 'bra', 'h...     0.0  \n",
       "3  ['scary', 'reminder', 'importance', 'social', ...     1.0  \n",
       "4  ['social', 'distance', 'great', 'important', '...     1.0  "
      ]
     },
     "execution_count": 3,
     "metadata": {},
     "output_type": "execute_result"
    }
   ],
   "source": [
    "df.head()"
   ]
  },
  {
   "cell_type": "code",
   "execution_count": 4,
   "metadata": {},
   "outputs": [],
   "source": [
    "df=df.drop(columns=[\"Unnamed: 0\"])"
   ]
  },
  {
   "cell_type": "code",
   "execution_count": 5,
   "metadata": {},
   "outputs": [],
   "source": [
    "df.lemmas_back_to_text=df.lemmas_back_to_text.astype(\"str\")"
   ]
  },
  {
   "cell_type": "code",
   "execution_count": 6,
   "metadata": {},
   "outputs": [
    {
     "name": "stdout",
     "output_type": "stream",
     "text": [
      "<class 'pandas.core.frame.DataFrame'>\n",
      "RangeIndex: 5531 entries, 0 to 5530\n",
      "Data columns (total 3 columns):\n",
      "lemmas_back_to_text    5531 non-null object\n",
      "lemma_tokens           5531 non-null object\n",
      "Labels                 9 non-null float64\n",
      "dtypes: float64(1), object(2)\n",
      "memory usage: 129.7+ KB\n"
     ]
    }
   ],
   "source": [
    "df.info()"
   ]
  },
  {
   "cell_type": "code",
   "execution_count": 7,
   "metadata": {},
   "outputs": [
    {
     "name": "stdout",
     "output_type": "stream",
     "text": [
      "927\n"
     ]
    }
   ],
   "source": [
    "from sklearn.feature_extraction.text import TfidfVectorizer\n",
    "vectorizer = TfidfVectorizer(\n",
    "    max_df=.5,\n",
    "    min_df=10,\n",
    "    max_features=None,\n",
    "    ngram_range=(1, 2),\n",
    "    norm=None,\n",
    "    binary=True,\n",
    "    use_idf=False,\n",
    "    sublinear_tf=False\n",
    ")\n",
    "vectorizer = vectorizer.fit(df['lemmas_back_to_text'])\n",
    "tfidf = vectorizer.transform(df['lemmas_back_to_text'])\n",
    "vocab = vectorizer.get_feature_names()\n",
    "print(len(vocab))"
   ]
  },
  {
   "cell_type": "code",
   "execution_count": 20,
   "metadata": {},
   "outputs": [],
   "source": [
    "anchors = []\n",
    "model = ct.Corex(n_hidden=10, seed=42)\n",
    "model = model.fit(\n",
    "    tfidf,\n",
    "    words=vocab\n",
    ")"
   ]
  },
  {
   "cell_type": "code",
   "execution_count": 21,
   "metadata": {},
   "outputs": [
    {
     "name": "stdout",
     "output_type": "stream",
     "text": [
      "Topic #1: covid 19, 19, covid, 19 social, covid19, 19 case, distancing covid, spread covid, 19 pandemic, new york\n",
      "Topic #2: mask, wear, wear mask, mask social, distancing wear, distancing mask, mask wear, face mask, wear social, people wear\n",
      "Topic #3: practice, practice social, hand, wash, wash hand, mask practice, distancing wash, washing, mask wash, continue practice\n",
      "Topic #4: distance, social distance, mask distance, distance mask, socially distance, socially, mask socially, distance wear, distance good, ft distance\n",
      "Topic #5: guideline, home, stay home, stay, distancing guideline, distancing stay, follow social, follow, order, home order\n",
      "Topic #6: physical, physical distancing, ft, apart, spread, ft apart, stop, quarantine, stay ft, quarantine social\n",
      "Topic #7: measure, coronavirus, coronavirus social, distancing measure, distancing coronavirus, ignore, death, relax, protest, week\n",
      "Topic #8: rule, distancing rule, pandemic, need social, enforce, enforce social, non, amid, official, coronavirus pandemic\n",
      "Topic #9: trump, people, die, rally, understand, people social, break, white, fauci, stupid\n",
      "Topic #10: case, life, socialdistance, school, happen, self, save, maintain, maintain social, house\n"
     ]
    }
   ],
   "source": [
    "for i, topic_ngrams in enumerate(model.get_topics(n_words=10)):\n",
    "    topic_ngrams = [ngram[0] for ngram in topic_ngrams if ngram[1] > 0]\n",
    "    print(\"Topic #{}: {}\".format(i+1, \", \".join(topic_ngrams)))"
   ]
  },
  {
   "cell_type": "code",
   "execution_count": 23,
   "metadata": {},
   "outputs": [],
   "source": [
    "anchor=[\n",
    "    ['wear',\"mask\",\"mask distancing\",\"covering\"], #face mask\n",
    "    [\"distnace\", \"social distancing\",\"mandate\",\"measure\",\"physcial distancing\",\"physcial\"] # distnacing \n",
    "    #goverment\n",
    "]\n",
    "anchors = [\n",
    "    [a for a in topic if a in vocab]\n",
    "    for topic in anchors\n",
    "]\n",
    "\n",
    "model = ct.Corex(n_hidden=10, seed=42)\n",
    "model = model.fit(\n",
    "    tfidf,\n",
    "    words=vocab,\n",
    "    anchors=anchors, # Pass the anchors in here\n",
    "    anchor_strength=3 # Tell the model how much it should rely on the anchors\n",
    ")"
   ]
  },
  {
   "cell_type": "code",
   "execution_count": 24,
   "metadata": {},
   "outputs": [
    {
     "name": "stdout",
     "output_type": "stream",
     "text": [
      "Topic #1: practice, practice social, hand, wash, wash hand, mask practice, distancing wash, washing, mask wash, continue practice\n",
      "Topic #2: measure, coronavirus, coronavirus social, distancing measure, distancing coronavirus, ignore, death, relax, protest, week\n",
      "Topic #3: rule, distancing rule, pandemic, need social, enforce, enforce social, non, amid, official, coronavirus pandemic\n",
      "Topic #4: guideline, home, stay home, stay, distancing guideline, distancing stay, follow social, follow, order, home order\n",
      "Topic #5: distance, social distance, mask distance, distance mask, socially distance, socially, mask socially, distance wear, distance good, ft distance\n",
      "Topic #6: covid 19, 19, covid, 19 social, covid19, 19 case, distancing covid, spread covid, 19 pandemic, new york\n",
      "Topic #7: physical, physical distancing, ft, apart, spread, ft apart, stop, quarantine, stay ft, quarantine social\n",
      "Topic #8: trump, people, die, rally, understand, people social, break, white, fauci, stupid\n",
      "Topic #9: case, life, socialdistance, school, happen, self, save, maintain, maintain social, house\n",
      "Topic #10: mask, wear, wear mask, mask social, distancing wear, distancing mask, mask wear, face mask, wear social, people wear\n"
     ]
    }
   ],
   "source": [
    "for i, topic_ngrams in enumerate(model.get_topics(n_words=10)):\n",
    "    topic_ngrams = [ngram[0] for ngram in topic_ngrams if ngram[1] > 0]\n",
    "    print(\"Topic #{}: {}\".format(i+1, \", \".join(topic_ngrams)))"
   ]
  },
  {
   "cell_type": "code",
   "execution_count": 27,
   "metadata": {},
   "outputs": [],
   "source": [
    "topic_df = pd.DataFrame(\n",
    "    model.transform(tfidf), \n",
    "    columns=[\"topic_{}\".format(i+1) for i in range(10)]\n",
    ").astype(float)\n",
    "topic_df.index = df.index\n",
    "df = pd.concat([df, topic_df], axis=1)\n"
   ]
  },
  {
   "cell_type": "code",
   "execution_count": null,
   "metadata": {},
   "outputs": [],
   "source": []
  }
 ],
 "metadata": {
  "kernelspec": {
   "display_name": "Python 3",
   "language": "python",
   "name": "python3"
  },
  "language_info": {
   "codemirror_mode": {
    "name": "ipython",
    "version": 3
   },
   "file_extension": ".py",
   "mimetype": "text/x-python",
   "name": "python",
   "nbconvert_exporter": "python",
   "pygments_lexer": "ipython3",
   "version": "3.7.3"
  }
 },
 "nbformat": 4,
 "nbformat_minor": 4
}
